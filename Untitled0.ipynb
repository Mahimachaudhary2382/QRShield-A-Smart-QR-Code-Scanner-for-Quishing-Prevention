{
  "nbformat": 4,
  "nbformat_minor": 0,
  "metadata": {
    "colab": {
      "provenance": [],
      "gpuType": "T4"
    },
    "kernelspec": {
      "name": "python3",
      "display_name": "Python 3"
    },
    "language_info": {
      "name": "python"
    },
    "accelerator": "GPU"
  },
  "cells": [
    {
      "cell_type": "code",
      "source": [
        "import os\n",
        "import numpy as np\n",
        "import tensorflow as tf\n",
        "from tensorflow import keras\n",
        "from tensorflow.keras import layers\n",
        "from tensorflow.keras.layers import Input\n",
        "from tensorflow.keras.preprocessing.image import load_img, img_to_array\n",
        "from sklearn.model_selection import train_test_split\n",
        "from sklearn import svm\n",
        "from sklearn.neural_network import MLPClassifier\n",
        "from sklearn.ensemble import AdaBoostClassifier, GradientBoostingClassifier, RandomForestClassifier\n",
        "from sklearn.linear_model import LogisticRegression\n",
        "from sklearn.tree import DecisionTreeClassifier\n",
        "from sklearn.metrics import accuracy_score, precision_score, recall_score, f1_score\n",
        "from sklearn.metrics import confusion_matrix\n",
        "import pandas as pd\n",
        "import matplotlib.pyplot as plt\n",
        "import time\n",
        "!apt-get install -y unrar\n",
        "from google.colab import files\n",
        "uploaded = files.upload()"
      ],
      "metadata": {
        "id": "hZmU_GfvQmuN",
        "colab": {
          "base_uri": "https://localhost:8080/",
          "height": 160
        },
        "outputId": "c7549a4e-243c-425a-f9c5-5f31f60e00c1"
      },
      "execution_count": 10,
      "outputs": [
        {
          "output_type": "stream",
          "name": "stdout",
          "text": [
            "Reading package lists... Done\n",
            "Building dependency tree... Done\n",
            "Reading state information... Done\n",
            "unrar is already the newest version (1:6.1.5-1ubuntu0.1).\n",
            "0 upgraded, 0 newly installed, 0 to remove and 35 not upgraded.\n"
          ]
        },
        {
          "output_type": "display_data",
          "data": {
            "text/plain": [
              "<IPython.core.display.HTML object>"
            ],
            "text/html": [
              "\n",
              "     <input type=\"file\" id=\"files-2a12f0e6-85e5-49f2-a4f3-449da17e8e10\" name=\"files[]\" multiple disabled\n",
              "        style=\"border:none\" />\n",
              "     <output id=\"result-2a12f0e6-85e5-49f2-a4f3-449da17e8e10\">\n",
              "      Upload widget is only available when the cell has been executed in the\n",
              "      current browser session. Please rerun this cell to enable.\n",
              "      </output>\n",
              "      <script>// Copyright 2017 Google LLC\n",
              "//\n",
              "// Licensed under the Apache License, Version 2.0 (the \"License\");\n",
              "// you may not use this file except in compliance with the License.\n",
              "// You may obtain a copy of the License at\n",
              "//\n",
              "//      http://www.apache.org/licenses/LICENSE-2.0\n",
              "//\n",
              "// Unless required by applicable law or agreed to in writing, software\n",
              "// distributed under the License is distributed on an \"AS IS\" BASIS,\n",
              "// WITHOUT WARRANTIES OR CONDITIONS OF ANY KIND, either express or implied.\n",
              "// See the License for the specific language governing permissions and\n",
              "// limitations under the License.\n",
              "\n",
              "/**\n",
              " * @fileoverview Helpers for google.colab Python module.\n",
              " */\n",
              "(function(scope) {\n",
              "function span(text, styleAttributes = {}) {\n",
              "  const element = document.createElement('span');\n",
              "  element.textContent = text;\n",
              "  for (const key of Object.keys(styleAttributes)) {\n",
              "    element.style[key] = styleAttributes[key];\n",
              "  }\n",
              "  return element;\n",
              "}\n",
              "\n",
              "// Max number of bytes which will be uploaded at a time.\n",
              "const MAX_PAYLOAD_SIZE = 100 * 1024;\n",
              "\n",
              "function _uploadFiles(inputId, outputId) {\n",
              "  const steps = uploadFilesStep(inputId, outputId);\n",
              "  const outputElement = document.getElementById(outputId);\n",
              "  // Cache steps on the outputElement to make it available for the next call\n",
              "  // to uploadFilesContinue from Python.\n",
              "  outputElement.steps = steps;\n",
              "\n",
              "  return _uploadFilesContinue(outputId);\n",
              "}\n",
              "\n",
              "// This is roughly an async generator (not supported in the browser yet),\n",
              "// where there are multiple asynchronous steps and the Python side is going\n",
              "// to poll for completion of each step.\n",
              "// This uses a Promise to block the python side on completion of each step,\n",
              "// then passes the result of the previous step as the input to the next step.\n",
              "function _uploadFilesContinue(outputId) {\n",
              "  const outputElement = document.getElementById(outputId);\n",
              "  const steps = outputElement.steps;\n",
              "\n",
              "  const next = steps.next(outputElement.lastPromiseValue);\n",
              "  return Promise.resolve(next.value.promise).then((value) => {\n",
              "    // Cache the last promise value to make it available to the next\n",
              "    // step of the generator.\n",
              "    outputElement.lastPromiseValue = value;\n",
              "    return next.value.response;\n",
              "  });\n",
              "}\n",
              "\n",
              "/**\n",
              " * Generator function which is called between each async step of the upload\n",
              " * process.\n",
              " * @param {string} inputId Element ID of the input file picker element.\n",
              " * @param {string} outputId Element ID of the output display.\n",
              " * @return {!Iterable<!Object>} Iterable of next steps.\n",
              " */\n",
              "function* uploadFilesStep(inputId, outputId) {\n",
              "  const inputElement = document.getElementById(inputId);\n",
              "  inputElement.disabled = false;\n",
              "\n",
              "  const outputElement = document.getElementById(outputId);\n",
              "  outputElement.innerHTML = '';\n",
              "\n",
              "  const pickedPromise = new Promise((resolve) => {\n",
              "    inputElement.addEventListener('change', (e) => {\n",
              "      resolve(e.target.files);\n",
              "    });\n",
              "  });\n",
              "\n",
              "  const cancel = document.createElement('button');\n",
              "  inputElement.parentElement.appendChild(cancel);\n",
              "  cancel.textContent = 'Cancel upload';\n",
              "  const cancelPromise = new Promise((resolve) => {\n",
              "    cancel.onclick = () => {\n",
              "      resolve(null);\n",
              "    };\n",
              "  });\n",
              "\n",
              "  // Wait for the user to pick the files.\n",
              "  const files = yield {\n",
              "    promise: Promise.race([pickedPromise, cancelPromise]),\n",
              "    response: {\n",
              "      action: 'starting',\n",
              "    }\n",
              "  };\n",
              "\n",
              "  cancel.remove();\n",
              "\n",
              "  // Disable the input element since further picks are not allowed.\n",
              "  inputElement.disabled = true;\n",
              "\n",
              "  if (!files) {\n",
              "    return {\n",
              "      response: {\n",
              "        action: 'complete',\n",
              "      }\n",
              "    };\n",
              "  }\n",
              "\n",
              "  for (const file of files) {\n",
              "    const li = document.createElement('li');\n",
              "    li.append(span(file.name, {fontWeight: 'bold'}));\n",
              "    li.append(span(\n",
              "        `(${file.type || 'n/a'}) - ${file.size} bytes, ` +\n",
              "        `last modified: ${\n",
              "            file.lastModifiedDate ? file.lastModifiedDate.toLocaleDateString() :\n",
              "                                    'n/a'} - `));\n",
              "    const percent = span('0% done');\n",
              "    li.appendChild(percent);\n",
              "\n",
              "    outputElement.appendChild(li);\n",
              "\n",
              "    const fileDataPromise = new Promise((resolve) => {\n",
              "      const reader = new FileReader();\n",
              "      reader.onload = (e) => {\n",
              "        resolve(e.target.result);\n",
              "      };\n",
              "      reader.readAsArrayBuffer(file);\n",
              "    });\n",
              "    // Wait for the data to be ready.\n",
              "    let fileData = yield {\n",
              "      promise: fileDataPromise,\n",
              "      response: {\n",
              "        action: 'continue',\n",
              "      }\n",
              "    };\n",
              "\n",
              "    // Use a chunked sending to avoid message size limits. See b/62115660.\n",
              "    let position = 0;\n",
              "    do {\n",
              "      const length = Math.min(fileData.byteLength - position, MAX_PAYLOAD_SIZE);\n",
              "      const chunk = new Uint8Array(fileData, position, length);\n",
              "      position += length;\n",
              "\n",
              "      const base64 = btoa(String.fromCharCode.apply(null, chunk));\n",
              "      yield {\n",
              "        response: {\n",
              "          action: 'append',\n",
              "          file: file.name,\n",
              "          data: base64,\n",
              "        },\n",
              "      };\n",
              "\n",
              "      let percentDone = fileData.byteLength === 0 ?\n",
              "          100 :\n",
              "          Math.round((position / fileData.byteLength) * 100);\n",
              "      percent.textContent = `${percentDone}% done`;\n",
              "\n",
              "    } while (position < fileData.byteLength);\n",
              "  }\n",
              "\n",
              "  // All done.\n",
              "  yield {\n",
              "    response: {\n",
              "      action: 'complete',\n",
              "    }\n",
              "  };\n",
              "}\n",
              "\n",
              "scope.google = scope.google || {};\n",
              "scope.google.colab = scope.google.colab || {};\n",
              "scope.google.colab._files = {\n",
              "  _uploadFiles,\n",
              "  _uploadFilesContinue,\n",
              "};\n",
              "})(self);\n",
              "</script> "
            ]
          },
          "metadata": {}
        },
        {
          "output_type": "stream",
          "name": "stdout",
          "text": [
            "Saving Dataset of 1000 Images of Malicious and Benign QR codes 2025.zip to Dataset of 1000 Images of Malicious and Benign QR codes 2025.zip\n"
          ]
        }
      ]
    },
    {
      "cell_type": "code",
      "source": [
        "!unzip \"Dataset of 1000 Images of Malicious and Benign QR codes 2025.zip\" -d /content/"
      ],
      "metadata": {
        "colab": {
          "base_uri": "https://localhost:8080/"
        },
        "id": "ZOEFaRRGmlv9",
        "outputId": "00c11b97-807c-47ec-870d-0175ab2e08d9"
      },
      "execution_count": 17,
      "outputs": [
        {
          "output_type": "stream",
          "name": "stdout",
          "text": [
            "Archive:  Dataset of 1000 Images of Malicious and Benign QR codes 2025.zip\n",
            "  inflating: /content/Dataset of 1000 Images of Malicious and Benign QR codes 2025/1000 QR Images of Malicious and Benign QR codes.rar  \n"
          ]
        }
      ]
    },
    {
      "cell_type": "code",
      "source": [
        "!ls \"/content/Dataset of 1000 Images of Malicious and Benign QR codes 2025\""
      ],
      "metadata": {
        "colab": {
          "base_uri": "https://localhost:8080/"
        },
        "id": "esh8jXzNih8q",
        "outputId": "e8a62c5f-7cf0-4c01-9027-c47370c0530b"
      },
      "execution_count": 18,
      "outputs": [
        {
          "output_type": "stream",
          "name": "stdout",
          "text": [
            "'1000 QR Images of Malicious and Benign QR codes.rar'\n"
          ]
        }
      ]
    },
    {
      "cell_type": "code",
      "source": [
        "!apt-get install -y unrar"
      ],
      "metadata": {
        "colab": {
          "base_uri": "https://localhost:8080/"
        },
        "id": "JVHyMGxDnMKt",
        "outputId": "6ce046bb-4579-439f-e26f-450873aa5590"
      },
      "execution_count": 19,
      "outputs": [
        {
          "output_type": "stream",
          "name": "stdout",
          "text": [
            "Reading package lists... Done\n",
            "Building dependency tree... Done\n",
            "Reading state information... Done\n",
            "unrar is already the newest version (1:6.1.5-1ubuntu0.1).\n",
            "0 upgraded, 0 newly installed, 0 to remove and 35 not upgraded.\n"
          ]
        }
      ]
    },
    {
      "cell_type": "code",
      "source": [
        "!unrar x \"/content/Dataset of 1000 Images of Malicious and Benign QR codes 2025/1000 QR Images of Malicious and Benign QR codes.rar\" /content/qr_data/\n"
      ],
      "metadata": {
        "colab": {
          "base_uri": "https://localhost:8080/"
        },
        "id": "Ez6N2muW4I0m",
        "outputId": "774c0cae-d5a1-4941-833a-5025cb0f40e8"
      },
      "execution_count": 20,
      "outputs": [
        {
          "output_type": "stream",
          "name": "stdout",
          "text": [
            "\n",
            "UNRAR 6.11 beta 1 freeware      Copyright (c) 1993-2022 Alexander Roshal\n",
            "\n",
            "\n",
            "Extracting from /content/Dataset of 1000 Images of Malicious and Benign QR codes 2025/1000 QR Images of Malicious and Benign QR codes.rar\n",
            "\n",
            "Creating    /content/qr_data                                          OK\n",
            "Creating    /content/qr_data/1000 QR Images of Malicious and Benign QR codes 2025  OK\n",
            "Creating    /content/qr_data/1000 QR Images of Malicious and Benign QR codes 2025/benign_qr_images_500  OK\n",
            "Extracting  /content/qr_data/1000 QR Images of Malicious and Benign QR codes 2025/benign_qr_images_500/qr_0_benign_images.png     \b\b\b\b  0%\b\b\b\b\b  OK \n",
            "Extracting  /content/qr_data/1000 QR Images of Malicious and Benign QR codes 2025/benign_qr_images_500/qr_100_benign_images.png     \b\b\b\b  0%\b\b\b\b\b  OK \n",
            "Extracting  /content/qr_data/1000 QR Images of Malicious and Benign QR codes 2025/benign_qr_images_500/qr_101_benign_images.png     \b\b\b\b  0%\b\b\b\b\b  OK \n",
            "Extracting  /content/qr_data/1000 QR Images of Malicious and Benign QR codes 2025/benign_qr_images_500/qr_102_benign_images.png     \b\b\b\b  0%\b\b\b\b\b  OK \n",
            "Extracting  /content/qr_data/1000 QR Images of Malicious and Benign QR codes 2025/benign_qr_images_500/qr_103_benign_images.png     \b\b\b\b  0%\b\b\b\b\b  OK \n",
            "Extracting  /content/qr_data/1000 QR Images of Malicious and Benign QR codes 2025/benign_qr_images_500/qr_104_benign_images.png     \b\b\b\b  0%\b\b\b\b\b  OK \n",
            "Extracting  /content/qr_data/1000 QR Images of Malicious and Benign QR codes 2025/benign_qr_images_500/qr_105_benign_images.png     \b\b\b\b  0%\b\b\b\b\b  OK \n",
            "Extracting  /content/qr_data/1000 QR Images of Malicious and Benign QR codes 2025/benign_qr_images_500/qr_106_benign_images.png     \b\b\b\b  0%\b\b\b\b\b  OK \n",
            "Extracting  /content/qr_data/1000 QR Images of Malicious and Benign QR codes 2025/benign_qr_images_500/qr_107_benign_images.png     \b\b\b\b  0%\b\b\b\b\b  OK \n",
            "Extracting  /content/qr_data/1000 QR Images of Malicious and Benign QR codes 2025/benign_qr_images_500/qr_108_benign_images.png     \b\b\b\b  0%\b\b\b\b\b  OK \n",
            "Extracting  /content/qr_data/1000 QR Images of Malicious and Benign QR codes 2025/benign_qr_images_500/qr_109_benign_images.png     \b\b\b\b  0%\b\b\b\b\b  OK \n",
            "Extracting  /content/qr_data/1000 QR Images of Malicious and Benign QR codes 2025/benign_qr_images_500/qr_10_benign_images.png     \b\b\b\b  1%\b\b\b\b\b  OK \n",
            "Extracting  /content/qr_data/1000 QR Images of Malicious and Benign QR codes 2025/benign_qr_images_500/qr_110_benign_images.png     \b\b\b\b  1%\b\b\b\b\b  OK \n",
            "Extracting  /content/qr_data/1000 QR Images of Malicious and Benign QR codes 2025/benign_qr_images_500/qr_111_benign_images.png     \b\b\b\b  1%\b\b\b\b\b  OK \n",
            "Extracting  /content/qr_data/1000 QR Images of Malicious and Benign QR codes 2025/benign_qr_images_500/qr_112_benign_images.png     \b\b\b\b  1%\b\b\b\b\b  OK \n",
            "Extracting  /content/qr_data/1000 QR Images of Malicious and Benign QR codes 2025/benign_qr_images_500/qr_113_benign_images.png     \b\b\b\b  1%\b\b\b\b\b  OK \n",
            "Extracting  /content/qr_data/1000 QR Images of Malicious and Benign QR codes 2025/benign_qr_images_500/qr_114_benign_images.png     \b\b\b\b  1%\b\b\b\b\b  OK \n",
            "Extracting  /content/qr_data/1000 QR Images of Malicious and Benign QR codes 2025/benign_qr_images_500/qr_115_benign_images.png     \b\b\b\b  1%\b\b\b\b\b  OK \n",
            "Extracting  /content/qr_data/1000 QR Images of Malicious and Benign QR codes 2025/benign_qr_images_500/qr_116_benign_images.png     \b\b\b\b  1%\b\b\b\b\b  OK \n",
            "Extracting  /content/qr_data/1000 QR Images of Malicious and Benign QR codes 2025/benign_qr_images_500/qr_117_benign_images.png     \b\b\b\b  1%\b\b\b\b\b  OK \n",
            "Extracting  /content/qr_data/1000 QR Images of Malicious and Benign QR codes 2025/benign_qr_images_500/qr_118_benign_images.png     \b\b\b\b  1%\b\b\b\b\b  OK \n",
            "Extracting  /content/qr_data/1000 QR Images of Malicious and Benign QR codes 2025/benign_qr_images_500/qr_119_benign_images.png     \b\b\b\b  2%\b\b\b\b\b  OK \n",
            "Extracting  /content/qr_data/1000 QR Images of Malicious and Benign QR codes 2025/benign_qr_images_500/qr_11_benign_images.png     \b\b\b\b  2%\b\b\b\b\b  OK \n",
            "Extracting  /content/qr_data/1000 QR Images of Malicious and Benign QR codes 2025/benign_qr_images_500/qr_120_benign_images.png     \b\b\b\b  2%\b\b\b\b\b  OK \n",
            "Extracting  /content/qr_data/1000 QR Images of Malicious and Benign QR codes 2025/benign_qr_images_500/qr_121_benign_images.png     \b\b\b\b  2%\b\b\b\b\b  OK \n",
            "Extracting  /content/qr_data/1000 QR Images of Malicious and Benign QR codes 2025/benign_qr_images_500/qr_122_benign_images.png     \b\b\b\b  2%\b\b\b\b\b  OK \n",
            "Extracting  /content/qr_data/1000 QR Images of Malicious and Benign QR codes 2025/benign_qr_images_500/qr_123_benign_images.png     \b\b\b\b  2%\b\b\b\b\b  OK \n",
            "Extracting  /content/qr_data/1000 QR Images of Malicious and Benign QR codes 2025/benign_qr_images_500/qr_124_benign_images.png     \b\b\b\b  2%\b\b\b\b\b  OK \n",
            "Extracting  /content/qr_data/1000 QR Images of Malicious and Benign QR codes 2025/benign_qr_images_500/qr_125_benign_images.png     \b\b\b\b  2%\b\b\b\b\b  OK \n",
            "Extracting  /content/qr_data/1000 QR Images of Malicious and Benign QR codes 2025/benign_qr_images_500/qr_126_benign_images.png     \b\b\b\b  2%\b\b\b\b\b  OK \n",
            "Extracting  /content/qr_data/1000 QR Images of Malicious and Benign QR codes 2025/benign_qr_images_500/qr_127_benign_images.png     \b\b\b\b  2%\b\b\b\b\b  OK \n",
            "Extracting  /content/qr_data/1000 QR Images of Malicious and Benign QR codes 2025/benign_qr_images_500/qr_128_benign_images.png     \b\b\b\b  2%\b\b\b\b\b  OK \n",
            "Extracting  /content/qr_data/1000 QR Images of Malicious and Benign QR codes 2025/benign_qr_images_500/qr_129_benign_images.png     \b\b\b\b  3%\b\b\b\b\b  OK \n",
            "Extracting  /content/qr_data/1000 QR Images of Malicious and Benign QR codes 2025/benign_qr_images_500/qr_12_benign_images.png     \b\b\b\b  3%\b\b\b\b\b  OK \n",
            "Extracting  /content/qr_data/1000 QR Images of Malicious and Benign QR codes 2025/benign_qr_images_500/qr_130_benign_images.png     \b\b\b\b  3%\b\b\b\b\b  OK \n",
            "Extracting  /content/qr_data/1000 QR Images of Malicious and Benign QR codes 2025/benign_qr_images_500/qr_131_benign_images.png     \b\b\b\b  3%\b\b\b\b\b  OK \n",
            "Extracting  /content/qr_data/1000 QR Images of Malicious and Benign QR codes 2025/benign_qr_images_500/qr_132_benign_images.png     \b\b\b\b  3%\b\b\b\b\b  OK \n",
            "Extracting  /content/qr_data/1000 QR Images of Malicious and Benign QR codes 2025/benign_qr_images_500/qr_133_benign_images.png     \b\b\b\b  3%\b\b\b\b\b  OK \n",
            "Extracting  /content/qr_data/1000 QR Images of Malicious and Benign QR codes 2025/benign_qr_images_500/qr_134_benign_images.png     \b\b\b\b  3%\b\b\b\b\b  OK \n",
            "Extracting  /content/qr_data/1000 QR Images of Malicious and Benign QR codes 2025/benign_qr_images_500/qr_135_benign_images.png     \b\b\b\b  3%\b\b\b\b\b  OK \n",
            "Extracting  /content/qr_data/1000 QR Images of Malicious and Benign QR codes 2025/benign_qr_images_500/qr_136_benign_images.png     \b\b\b\b  3%\b\b\b\b\b  OK \n",
            "Extracting  /content/qr_data/1000 QR Images of Malicious and Benign QR codes 2025/benign_qr_images_500/qr_137_benign_images.png     \b\b\b\b  3%\b\b\b\b\b  OK \n",
            "Extracting  /content/qr_data/1000 QR Images of Malicious and Benign QR codes 2025/benign_qr_images_500/qr_138_benign_images.png     \b\b\b\b  3%\b\b\b\b\b  OK \n",
            "Extracting  /content/qr_data/1000 QR Images of Malicious and Benign QR codes 2025/benign_qr_images_500/qr_139_benign_images.png     \b\b\b\b  3%\b\b\b\b\b  OK \n",
            "Extracting  /content/qr_data/1000 QR Images of Malicious and Benign QR codes 2025/benign_qr_images_500/qr_13_benign_images.png     \b\b\b\b  4%\b\b\b\b\b  OK \n",
            "Extracting  /content/qr_data/1000 QR Images of Malicious and Benign QR codes 2025/benign_qr_images_500/qr_140_benign_images.png     \b\b\b\b  4%\b\b\b\b\b  OK \n",
            "Extracting  /content/qr_data/1000 QR Images of Malicious and Benign QR codes 2025/benign_qr_images_500/qr_141_benign_images.png     \b\b\b\b  4%\b\b\b\b\b  OK \n",
            "Extracting  /content/qr_data/1000 QR Images of Malicious and Benign QR codes 2025/benign_qr_images_500/qr_142_benign_images.png     \b\b\b\b  4%\b\b\b\b\b  OK \n",
            "Extracting  /content/qr_data/1000 QR Images of Malicious and Benign QR codes 2025/benign_qr_images_500/qr_143_benign_images.png     \b\b\b\b  4%\b\b\b\b\b  OK \n",
            "Extracting  /content/qr_data/1000 QR Images of Malicious and Benign QR codes 2025/benign_qr_images_500/qr_144_benign_images.png     \b\b\b\b  4%\b\b\b\b\b  OK \n",
            "Extracting  /content/qr_data/1000 QR Images of Malicious and Benign QR codes 2025/benign_qr_images_500/qr_145_benign_images.png     \b\b\b\b  4%\b\b\b\b\b  OK \n",
            "Extracting  /content/qr_data/1000 QR Images of Malicious and Benign QR codes 2025/benign_qr_images_500/qr_146_benign_images.png     \b\b\b\b  4%\b\b\b\b\b  OK \n",
            "Extracting  /content/qr_data/1000 QR Images of Malicious and Benign QR codes 2025/benign_qr_images_500/qr_147_benign_images.png     \b\b\b\b  4%\b\b\b\b\b  OK \n",
            "Extracting  /content/qr_data/1000 QR Images of Malicious and Benign QR codes 2025/benign_qr_images_500/qr_148_benign_images.png     \b\b\b\b  4%\b\b\b\b\b  OK \n",
            "Extracting  /content/qr_data/1000 QR Images of Malicious and Benign QR codes 2025/benign_qr_images_500/qr_149_benign_images.png     \b\b\b\b  4%\b\b\b\b\b  OK \n",
            "Extracting  /content/qr_data/1000 QR Images of Malicious and Benign QR codes 2025/benign_qr_images_500/qr_14_benign_images.png     \b\b\b\b  5%\b\b\b\b\b  OK \n",
            "Extracting  /content/qr_data/1000 QR Images of Malicious and Benign QR codes 2025/benign_qr_images_500/qr_150_benign_images.png     \b\b\b\b  5%\b\b\b\b\b  OK \n",
            "Extracting  /content/qr_data/1000 QR Images of Malicious and Benign QR codes 2025/benign_qr_images_500/qr_151_benign_images.png     \b\b\b\b  5%\b\b\b\b\b  OK \n",
            "Extracting  /content/qr_data/1000 QR Images of Malicious and Benign QR codes 2025/benign_qr_images_500/qr_152_benign_images.png     \b\b\b\b  5%\b\b\b\b\b  OK \n",
            "Extracting  /content/qr_data/1000 QR Images of Malicious and Benign QR codes 2025/benign_qr_images_500/qr_153_benign_images.png     \b\b\b\b  5%\b\b\b\b\b  OK \n",
            "Extracting  /content/qr_data/1000 QR Images of Malicious and Benign QR codes 2025/benign_qr_images_500/qr_154_benign_images.png     \b\b\b\b  5%\b\b\b\b\b  OK \n",
            "Extracting  /content/qr_data/1000 QR Images of Malicious and Benign QR codes 2025/benign_qr_images_500/qr_155_benign_images.png     \b\b\b\b  5%\b\b\b\b\b  OK \n",
            "Extracting  /content/qr_data/1000 QR Images of Malicious and Benign QR codes 2025/benign_qr_images_500/qr_156_benign_images.png     \b\b\b\b  5%\b\b\b\b\b  OK \n",
            "Extracting  /content/qr_data/1000 QR Images of Malicious and Benign QR codes 2025/benign_qr_images_500/qr_157_benign_images.png     \b\b\b\b  5%\b\b\b\b\b  OK \n",
            "Extracting  /content/qr_data/1000 QR Images of Malicious and Benign QR codes 2025/benign_qr_images_500/qr_158_benign_images.png     \b\b\b\b  5%\b\b\b\b\b  OK \n",
            "Extracting  /content/qr_data/1000 QR Images of Malicious and Benign QR codes 2025/benign_qr_images_500/qr_159_benign_images.png     \b\b\b\b  5%\b\b\b\b\b  OK \n",
            "Extracting  /content/qr_data/1000 QR Images of Malicious and Benign QR codes 2025/benign_qr_images_500/qr_15_benign_images.png     \b\b\b\b  6%\b\b\b\b\b  OK \n",
            "Extracting  /content/qr_data/1000 QR Images of Malicious and Benign QR codes 2025/benign_qr_images_500/qr_160_benign_images.png     \b\b\b\b  6%\b\b\b\b\b  OK \n",
            "Extracting  /content/qr_data/1000 QR Images of Malicious and Benign QR codes 2025/benign_qr_images_500/qr_161_benign_images.png     \b\b\b\b  6%\b\b\b\b\b  OK \n",
            "Extracting  /content/qr_data/1000 QR Images of Malicious and Benign QR codes 2025/benign_qr_images_500/qr_162_benign_images.png     \b\b\b\b  6%\b\b\b\b\b  OK \n",
            "Extracting  /content/qr_data/1000 QR Images of Malicious and Benign QR codes 2025/benign_qr_images_500/qr_163_benign_images.png     \b\b\b\b  6%\b\b\b\b\b  OK \n",
            "Extracting  /content/qr_data/1000 QR Images of Malicious and Benign QR codes 2025/benign_qr_images_500/qr_164_benign_images.png     \b\b\b\b  6%\b\b\b\b\b  OK \n",
            "Extracting  /content/qr_data/1000 QR Images of Malicious and Benign QR codes 2025/benign_qr_images_500/qr_165_benign_images.png     \b\b\b\b  6%\b\b\b\b\b  OK \n",
            "Extracting  /content/qr_data/1000 QR Images of Malicious and Benign QR codes 2025/benign_qr_images_500/qr_166_benign_images.png     \b\b\b\b  6%\b\b\b\b\b  OK \n",
            "Extracting  /content/qr_data/1000 QR Images of Malicious and Benign QR codes 2025/benign_qr_images_500/qr_167_benign_images.png     \b\b\b\b  6%\b\b\b\b\b  OK \n",
            "Extracting  /content/qr_data/1000 QR Images of Malicious and Benign QR codes 2025/benign_qr_images_500/qr_168_benign_images.png     \b\b\b\b  6%\b\b\b\b\b  OK \n",
            "Extracting  /content/qr_data/1000 QR Images of Malicious and Benign QR codes 2025/benign_qr_images_500/qr_169_benign_images.png     \b\b\b\b  6%\b\b\b\b\b  OK \n",
            "Extracting  /content/qr_data/1000 QR Images of Malicious and Benign QR codes 2025/benign_qr_images_500/qr_16_benign_images.png     \b\b\b\b  7%\b\b\b\b\b  OK \n",
            "Extracting  /content/qr_data/1000 QR Images of Malicious and Benign QR codes 2025/benign_qr_images_500/qr_170_benign_images.png     \b\b\b\b  7%\b\b\b\b\b  OK \n",
            "Extracting  /content/qr_data/1000 QR Images of Malicious and Benign QR codes 2025/benign_qr_images_500/qr_171_benign_images.png     \b\b\b\b  7%\b\b\b\b\b  OK \n",
            "Extracting  /content/qr_data/1000 QR Images of Malicious and Benign QR codes 2025/benign_qr_images_500/qr_172_benign_images.png     \b\b\b\b  7%\b\b\b\b\b  OK \n",
            "Extracting  /content/qr_data/1000 QR Images of Malicious and Benign QR codes 2025/benign_qr_images_500/qr_173_benign_images.png     \b\b\b\b  7%\b\b\b\b\b  OK \n",
            "Extracting  /content/qr_data/1000 QR Images of Malicious and Benign QR codes 2025/benign_qr_images_500/qr_174_benign_images.png     \b\b\b\b  7%\b\b\b\b\b  OK \n",
            "Extracting  /content/qr_data/1000 QR Images of Malicious and Benign QR codes 2025/benign_qr_images_500/qr_175_benign_images.png     \b\b\b\b  7%\b\b\b\b\b  OK \n",
            "Extracting  /content/qr_data/1000 QR Images of Malicious and Benign QR codes 2025/benign_qr_images_500/qr_176_benign_images.png     \b\b\b\b  7%\b\b\b\b\b  OK \n",
            "Extracting  /content/qr_data/1000 QR Images of Malicious and Benign QR codes 2025/benign_qr_images_500/qr_177_benign_images.png     \b\b\b\b  7%\b\b\b\b\b  OK \n",
            "Extracting  /content/qr_data/1000 QR Images of Malicious and Benign QR codes 2025/benign_qr_images_500/qr_178_benign_images.png     \b\b\b\b  7%\b\b\b\b\b  OK \n",
            "Extracting  /content/qr_data/1000 QR Images of Malicious and Benign QR codes 2025/benign_qr_images_500/qr_179_benign_images.png     \b\b\b\b  8%\b\b\b\b\b  OK \n",
            "Extracting  /content/qr_data/1000 QR Images of Malicious and Benign QR codes 2025/benign_qr_images_500/qr_17_benign_images.png     \b\b\b\b  8%\b\b\b\b\b  OK \n",
            "Extracting  /content/qr_data/1000 QR Images of Malicious and Benign QR codes 2025/benign_qr_images_500/qr_180_benign_images.png     \b\b\b\b  8%\b\b\b\b\b  OK \n",
            "Extracting  /content/qr_data/1000 QR Images of Malicious and Benign QR codes 2025/benign_qr_images_500/qr_181_benign_images.png     \b\b\b\b  8%\b\b\b\b\b  OK \n",
            "Extracting  /content/qr_data/1000 QR Images of Malicious and Benign QR codes 2025/benign_qr_images_500/qr_182_benign_images.png     \b\b\b\b  8%\b\b\b\b\b  OK \n",
            "Extracting  /content/qr_data/1000 QR Images of Malicious and Benign QR codes 2025/benign_qr_images_500/qr_183_benign_images.png     \b\b\b\b  8%\b\b\b\b\b  OK \n",
            "Extracting  /content/qr_data/1000 QR Images of Malicious and Benign QR codes 2025/benign_qr_images_500/qr_184_benign_images.png     \b\b\b\b  8%\b\b\b\b\b  OK \n",
            "Extracting  /content/qr_data/1000 QR Images of Malicious and Benign QR codes 2025/benign_qr_images_500/qr_185_benign_images.png     \b\b\b\b  8%\b\b\b\b\b  OK \n",
            "Extracting  /content/qr_data/1000 QR Images of Malicious and Benign QR codes 2025/benign_qr_images_500/qr_186_benign_images.png     \b\b\b\b  8%\b\b\b\b\b  OK \n",
            "Extracting  /content/qr_data/1000 QR Images of Malicious and Benign QR codes 2025/benign_qr_images_500/qr_187_benign_images.png     \b\b\b\b  8%\b\b\b\b\b  OK \n",
            "Extracting  /content/qr_data/1000 QR Images of Malicious and Benign QR codes 2025/benign_qr_images_500/qr_188_benign_images.png     \b\b\b\b  8%\b\b\b\b\b  OK \n",
            "Extracting  /content/qr_data/1000 QR Images of Malicious and Benign QR codes 2025/benign_qr_images_500/qr_189_benign_images.png     \b\b\b\b  9%\b\b\b\b\b  OK \n",
            "Extracting  /content/qr_data/1000 QR Images of Malicious and Benign QR codes 2025/benign_qr_images_500/qr_18_benign_images.png     \b\b\b\b  9%\b\b\b\b\b  OK \n",
            "Extracting  /content/qr_data/1000 QR Images of Malicious and Benign QR codes 2025/benign_qr_images_500/qr_190_benign_images.png     \b\b\b\b  9%\b\b\b\b\b  OK \n",
            "Extracting  /content/qr_data/1000 QR Images of Malicious and Benign QR codes 2025/benign_qr_images_500/qr_191_benign_images.png     \b\b\b\b  9%\b\b\b\b\b  OK \n",
            "Extracting  /content/qr_data/1000 QR Images of Malicious and Benign QR codes 2025/benign_qr_images_500/qr_192_benign_images.png     \b\b\b\b  9%\b\b\b\b\b  OK \n",
            "Extracting  /content/qr_data/1000 QR Images of Malicious and Benign QR codes 2025/benign_qr_images_500/qr_193_benign_images.png     \b\b\b\b  9%\b\b\b\b\b  OK \n",
            "Extracting  /content/qr_data/1000 QR Images of Malicious and Benign QR codes 2025/benign_qr_images_500/qr_194_benign_images.png     \b\b\b\b  9%\b\b\b\b\b  OK \n",
            "Extracting  /content/qr_data/1000 QR Images of Malicious and Benign QR codes 2025/benign_qr_images_500/qr_195_benign_images.png     \b\b\b\b  9%\b\b\b\b\b  OK \n",
            "Extracting  /content/qr_data/1000 QR Images of Malicious and Benign QR codes 2025/benign_qr_images_500/qr_196_benign_images.png     \b\b\b\b  9%\b\b\b\b\b  OK \n",
            "Extracting  /content/qr_data/1000 QR Images of Malicious and Benign QR codes 2025/benign_qr_images_500/qr_197_benign_images.png     \b\b\b\b  9%\b\b\b\b\b  OK \n",
            "Extracting  /content/qr_data/1000 QR Images of Malicious and Benign QR codes 2025/benign_qr_images_500/qr_198_benign_images.png     \b\b\b\b  9%\b\b\b\b\b  OK \n",
            "Extracting  /content/qr_data/1000 QR Images of Malicious and Benign QR codes 2025/benign_qr_images_500/qr_199_benign_images.png     \b\b\b\b 10%\b\b\b\b\b  OK \n",
            "Extracting  /content/qr_data/1000 QR Images of Malicious and Benign QR codes 2025/benign_qr_images_500/qr_19_benign_images.png     \b\b\b\b 10%\b\b\b\b\b  OK \n",
            "Extracting  /content/qr_data/1000 QR Images of Malicious and Benign QR codes 2025/benign_qr_images_500/qr_1_benign_images.png     \b\b\b\b 10%\b\b\b\b\b  OK \n",
            "Extracting  /content/qr_data/1000 QR Images of Malicious and Benign QR codes 2025/benign_qr_images_500/qr_200_benign_images.png     \b\b\b\b 10%\b\b\b\b\b  OK \n",
            "Extracting  /content/qr_data/1000 QR Images of Malicious and Benign QR codes 2025/benign_qr_images_500/qr_201_benign_images.png     \b\b\b\b 10%\b\b\b\b\b  OK \n",
            "Extracting  /content/qr_data/1000 QR Images of Malicious and Benign QR codes 2025/benign_qr_images_500/qr_202_benign_images.png     \b\b\b\b 10%\b\b\b\b\b  OK \n",
            "Extracting  /content/qr_data/1000 QR Images of Malicious and Benign QR codes 2025/benign_qr_images_500/qr_203_benign_images.png     \b\b\b\b 10%\b\b\b\b\b  OK \n",
            "Extracting  /content/qr_data/1000 QR Images of Malicious and Benign QR codes 2025/benign_qr_images_500/qr_204_benign_images.png     \b\b\b\b 10%\b\b\b\b\b  OK \n",
            "Extracting  /content/qr_data/1000 QR Images of Malicious and Benign QR codes 2025/benign_qr_images_500/qr_205_benign_images.png     \b\b\b\b 10%\b\b\b\b\b  OK \n",
            "Extracting  /content/qr_data/1000 QR Images of Malicious and Benign QR codes 2025/benign_qr_images_500/qr_206_benign_images.png     \b\b\b\b 10%\b\b\b\b\b  OK \n",
            "Extracting  /content/qr_data/1000 QR Images of Malicious and Benign QR codes 2025/benign_qr_images_500/qr_207_benign_images.png     \b\b\b\b 10%\b\b\b\b\b  OK \n",
            "Extracting  /content/qr_data/1000 QR Images of Malicious and Benign QR codes 2025/benign_qr_images_500/qr_208_benign_images.png     \b\b\b\b 11%\b\b\b\b\b  OK \n",
            "Extracting  /content/qr_data/1000 QR Images of Malicious and Benign QR codes 2025/benign_qr_images_500/qr_209_benign_images.png     \b\b\b\b 11%\b\b\b\b\b  OK \n",
            "Extracting  /content/qr_data/1000 QR Images of Malicious and Benign QR codes 2025/benign_qr_images_500/qr_20_benign_images.png     \b\b\b\b 11%\b\b\b\b\b  OK \n",
            "Extracting  /content/qr_data/1000 QR Images of Malicious and Benign QR codes 2025/benign_qr_images_500/qr_210_benign_images.png     \b\b\b\b 11%\b\b\b\b\b  OK \n",
            "Extracting  /content/qr_data/1000 QR Images of Malicious and Benign QR codes 2025/benign_qr_images_500/qr_211_benign_images.png     \b\b\b\b 11%\b\b\b\b\b  OK \n",
            "Extracting  /content/qr_data/1000 QR Images of Malicious and Benign QR codes 2025/benign_qr_images_500/qr_212_benign_images.png     \b\b\b\b 11%\b\b\b\b\b  OK \n",
            "Extracting  /content/qr_data/1000 QR Images of Malicious and Benign QR codes 2025/benign_qr_images_500/qr_213_benign_images.png     \b\b\b\b 11%\b\b\b\b\b  OK \n",
            "Extracting  /content/qr_data/1000 QR Images of Malicious and Benign QR codes 2025/benign_qr_images_500/qr_214_benign_images.png     \b\b\b\b 11%\b\b\b\b\b  OK \n",
            "Extracting  /content/qr_data/1000 QR Images of Malicious and Benign QR codes 2025/benign_qr_images_500/qr_215_benign_images.png     \b\b\b\b 11%\b\b\b\b\b  OK \n",
            "Extracting  /content/qr_data/1000 QR Images of Malicious and Benign QR codes 2025/benign_qr_images_500/qr_216_benign_images.png     \b\b\b\b 11%\b\b\b\b\b  OK \n",
            "Extracting  /content/qr_data/1000 QR Images of Malicious and Benign QR codes 2025/benign_qr_images_500/qr_217_benign_images.png     \b\b\b\b 11%\b\b\b\b\b  OK \n",
            "Extracting  /content/qr_data/1000 QR Images of Malicious and Benign QR codes 2025/benign_qr_images_500/qr_218_benign_images.png     \b\b\b\b 12%\b\b\b\b\b  OK \n",
            "Extracting  /content/qr_data/1000 QR Images of Malicious and Benign QR codes 2025/benign_qr_images_500/qr_219_benign_images.png     \b\b\b\b 12%\b\b\b\b\b  OK \n",
            "Extracting  /content/qr_data/1000 QR Images of Malicious and Benign QR codes 2025/benign_qr_images_500/qr_21_benign_images.png     \b\b\b\b 12%\b\b\b\b\b  OK \n",
            "Extracting  /content/qr_data/1000 QR Images of Malicious and Benign QR codes 2025/benign_qr_images_500/qr_220_benign_images.png     \b\b\b\b 12%\b\b\b\b\b  OK \n",
            "Extracting  /content/qr_data/1000 QR Images of Malicious and Benign QR codes 2025/benign_qr_images_500/qr_221_benign_images.png     \b\b\b\b 12%\b\b\b\b\b  OK \n",
            "Extracting  /content/qr_data/1000 QR Images of Malicious and Benign QR codes 2025/benign_qr_images_500/qr_222_benign_images.png     \b\b\b\b 12%\b\b\b\b\b  OK \n",
            "Extracting  /content/qr_data/1000 QR Images of Malicious and Benign QR codes 2025/benign_qr_images_500/qr_223_benign_images.png     \b\b\b\b 12%\b\b\b\b\b  OK \n",
            "Extracting  /content/qr_data/1000 QR Images of Malicious and Benign QR codes 2025/benign_qr_images_500/qr_224_benign_images.png     \b\b\b\b 12%\b\b\b\b\b  OK \n",
            "Extracting  /content/qr_data/1000 QR Images of Malicious and Benign QR codes 2025/benign_qr_images_500/qr_225_benign_images.png     \b\b\b\b 12%\b\b\b\b\b  OK \n",
            "Extracting  /content/qr_data/1000 QR Images of Malicious and Benign QR codes 2025/benign_qr_images_500/qr_226_benign_images.png     \b\b\b\b 12%\b\b\b\b\b  OK \n",
            "Extracting  /content/qr_data/1000 QR Images of Malicious and Benign QR codes 2025/benign_qr_images_500/qr_227_benign_images.png     \b\b\b\b 13%\b\b\b\b\b  OK \n",
            "Extracting  /content/qr_data/1000 QR Images of Malicious and Benign QR codes 2025/benign_qr_images_500/qr_228_benign_images.png     \b\b\b\b 13%\b\b\b\b\b  OK \n",
            "Extracting  /content/qr_data/1000 QR Images of Malicious and Benign QR codes 2025/benign_qr_images_500/qr_229_benign_images.png     \b\b\b\b 13%\b\b\b\b\b  OK \n",
            "Extracting  /content/qr_data/1000 QR Images of Malicious and Benign QR codes 2025/benign_qr_images_500/qr_22_benign_images.png     \b\b\b\b 13%\b\b\b\b\b  OK \n",
            "Extracting  /content/qr_data/1000 QR Images of Malicious and Benign QR codes 2025/benign_qr_images_500/qr_230_benign_images.png     \b\b\b\b 13%\b\b\b\b\b  OK \n",
            "Extracting  /content/qr_data/1000 QR Images of Malicious and Benign QR codes 2025/benign_qr_images_500/qr_231_benign_images.png     \b\b\b\b 13%\b\b\b\b\b  OK \n",
            "Extracting  /content/qr_data/1000 QR Images of Malicious and Benign QR codes 2025/benign_qr_images_500/qr_232_benign_images.png     \b\b\b\b 13%\b\b\b\b\b  OK \n",
            "Extracting  /content/qr_data/1000 QR Images of Malicious and Benign QR codes 2025/benign_qr_images_500/qr_233_benign_images.png     \b\b\b\b 13%\b\b\b\b\b  OK \n",
            "Extracting  /content/qr_data/1000 QR Images of Malicious and Benign QR codes 2025/benign_qr_images_500/qr_234_benign_images.png     \b\b\b\b 13%\b\b\b\b\b  OK \n",
            "Extracting  /content/qr_data/1000 QR Images of Malicious and Benign QR codes 2025/benign_qr_images_500/qr_235_benign_images.png     \b\b\b\b 13%\b\b\b\b\b  OK \n",
            "Extracting  /content/qr_data/1000 QR Images of Malicious and Benign QR codes 2025/benign_qr_images_500/qr_236_benign_images.png     \b\b\b\b 13%\b\b\b\b\b  OK \n",
            "Extracting  /content/qr_data/1000 QR Images of Malicious and Benign QR codes 2025/benign_qr_images_500/qr_237_benign_images.png     \b\b\b\b 14%\b\b\b\b\b  OK \n",
            "Extracting  /content/qr_data/1000 QR Images of Malicious and Benign QR codes 2025/benign_qr_images_500/qr_238_benign_images.png     \b\b\b\b 14%\b\b\b\b\b  OK \n",
            "Extracting  /content/qr_data/1000 QR Images of Malicious and Benign QR codes 2025/benign_qr_images_500/qr_239_benign_images.png     \b\b\b\b 14%\b\b\b\b\b  OK \n",
            "Extracting  /content/qr_data/1000 QR Images of Malicious and Benign QR codes 2025/benign_qr_images_500/qr_23_benign_images.png     \b\b\b\b 14%\b\b\b\b\b  OK \n",
            "Extracting  /content/qr_data/1000 QR Images of Malicious and Benign QR codes 2025/benign_qr_images_500/qr_240_benign_images.png     \b\b\b\b 14%\b\b\b\b\b  OK \n",
            "Extracting  /content/qr_data/1000 QR Images of Malicious and Benign QR codes 2025/benign_qr_images_500/qr_241_benign_images.png     \b\b\b\b 14%\b\b\b\b\b  OK \n",
            "Extracting  /content/qr_data/1000 QR Images of Malicious and Benign QR codes 2025/benign_qr_images_500/qr_242_benign_images.png     \b\b\b\b 14%\b\b\b\b\b  OK \n",
            "Extracting  /content/qr_data/1000 QR Images of Malicious and Benign QR codes 2025/benign_qr_images_500/qr_243_benign_images.png     \b\b\b\b 14%\b\b\b\b\b  OK \n",
            "Extracting  /content/qr_data/1000 QR Images of Malicious and Benign QR codes 2025/benign_qr_images_500/qr_244_benign_images.png     \b\b\b\b 14%\b\b\b\b\b  OK \n",
            "Extracting  /content/qr_data/1000 QR Images of Malicious and Benign QR codes 2025/benign_qr_images_500/qr_245_benign_images.png     \b\b\b\b 14%\b\b\b\b\b  OK \n",
            "Extracting  /content/qr_data/1000 QR Images of Malicious and Benign QR codes 2025/benign_qr_images_500/qr_246_benign_images.png     \b\b\b\b 15%\b\b\b\b\b  OK \n",
            "Extracting  /content/qr_data/1000 QR Images of Malicious and Benign QR codes 2025/benign_qr_images_500/qr_247_benign_images.png     \b\b\b\b 15%\b\b\b\b\b  OK \n",
            "Extracting  /content/qr_data/1000 QR Images of Malicious and Benign QR codes 2025/benign_qr_images_500/qr_248_benign_images.png     \b\b\b\b 15%\b\b\b\b\b  OK \n",
            "Extracting  /content/qr_data/1000 QR Images of Malicious and Benign QR codes 2025/benign_qr_images_500/qr_249_benign_images.png     \b\b\b\b 15%\b\b\b\b\b  OK \n",
            "Extracting  /content/qr_data/1000 QR Images of Malicious and Benign QR codes 2025/benign_qr_images_500/qr_24_benign_images.png     \b\b\b\b 15%\b\b\b\b\b  OK \n",
            "Extracting  /content/qr_data/1000 QR Images of Malicious and Benign QR codes 2025/benign_qr_images_500/qr_250_benign_images.png     \b\b\b\b 15%\b\b\b\b\b  OK \n",
            "Extracting  /content/qr_data/1000 QR Images of Malicious and Benign QR codes 2025/benign_qr_images_500/qr_251_benign_images.png     \b\b\b\b 15%\b\b\b\b\b  OK \n",
            "Extracting  /content/qr_data/1000 QR Images of Malicious and Benign QR codes 2025/benign_qr_images_500/qr_252_benign_images.png     \b\b\b\b 15%\b\b\b\b\b  OK \n",
            "Extracting  /content/qr_data/1000 QR Images of Malicious and Benign QR codes 2025/benign_qr_images_500/qr_253_benign_images.png     \b\b\b\b 15%\b\b\b\b\b  OK \n",
            "Extracting  /content/qr_data/1000 QR Images of Malicious and Benign QR codes 2025/benign_qr_images_500/qr_254_benign_images.png     \b\b\b\b 15%\b\b\b\b\b  OK \n",
            "Extracting  /content/qr_data/1000 QR Images of Malicious and Benign QR codes 2025/benign_qr_images_500/qr_255_benign_images.png     \b\b\b\b 15%\b\b\b\b\b  OK \n",
            "Extracting  /content/qr_data/1000 QR Images of Malicious and Benign QR codes 2025/benign_qr_images_500/qr_256_benign_images.png     \b\b\b\b 15%\b\b\b\b\b  OK \n",
            "Extracting  /content/qr_data/1000 QR Images of Malicious and Benign QR codes 2025/benign_qr_images_500/qr_257_benign_images.png     \b\b\b\b 16%\b\b\b\b\b  OK \n",
            "Extracting  /content/qr_data/1000 QR Images of Malicious and Benign QR codes 2025/benign_qr_images_500/qr_258_benign_images.png     \b\b\b\b 16%\b\b\b\b\b  OK \n",
            "Extracting  /content/qr_data/1000 QR Images of Malicious and Benign QR codes 2025/benign_qr_images_500/qr_259_benign_images.png     \b\b\b\b 16%\b\b\b\b\b  OK \n",
            "Extracting  /content/qr_data/1000 QR Images of Malicious and Benign QR codes 2025/benign_qr_images_500/qr_25_benign_images.png     \b\b\b\b 16%\b\b\b\b\b  OK \n",
            "Extracting  /content/qr_data/1000 QR Images of Malicious and Benign QR codes 2025/benign_qr_images_500/qr_260_benign_images.png     \b\b\b\b 16%\b\b\b\b\b  OK \n",
            "Extracting  /content/qr_data/1000 QR Images of Malicious and Benign QR codes 2025/benign_qr_images_500/qr_261_benign_images.png     \b\b\b\b 16%\b\b\b\b\b  OK \n",
            "Extracting  /content/qr_data/1000 QR Images of Malicious and Benign QR codes 2025/benign_qr_images_500/qr_262_benign_images.png     \b\b\b\b 16%\b\b\b\b\b  OK \n",
            "Extracting  /content/qr_data/1000 QR Images of Malicious and Benign QR codes 2025/benign_qr_images_500/qr_263_benign_images.png     \b\b\b\b 16%\b\b\b\b\b  OK \n",
            "Extracting  /content/qr_data/1000 QR Images of Malicious and Benign QR codes 2025/benign_qr_images_500/qr_264_benign_images.png     \b\b\b\b 16%\b\b\b\b\b  OK \n",
            "Extracting  /content/qr_data/1000 QR Images of Malicious and Benign QR codes 2025/benign_qr_images_500/qr_265_benign_images.png     \b\b\b\b 16%\b\b\b\b\b  OK \n",
            "Extracting  /content/qr_data/1000 QR Images of Malicious and Benign QR codes 2025/benign_qr_images_500/qr_266_benign_images.png     \b\b\b\b 16%\b\b\b\b\b  OK \n",
            "Extracting  /content/qr_data/1000 QR Images of Malicious and Benign QR codes 2025/benign_qr_images_500/qr_267_benign_images.png     \b\b\b\b 17%\b\b\b\b\b  OK \n",
            "Extracting  /content/qr_data/1000 QR Images of Malicious and Benign QR codes 2025/benign_qr_images_500/qr_268_benign_images.png     \b\b\b\b 17%\b\b\b\b\b  OK \n",
            "Extracting  /content/qr_data/1000 QR Images of Malicious and Benign QR codes 2025/benign_qr_images_500/qr_269_benign_images.png     \b\b\b\b 17%\b\b\b\b\b  OK \n",
            "Extracting  /content/qr_data/1000 QR Images of Malicious and Benign QR codes 2025/benign_qr_images_500/qr_26_benign_images.png     \b\b\b\b 17%\b\b\b\b\b  OK \n",
            "Extracting  /content/qr_data/1000 QR Images of Malicious and Benign QR codes 2025/benign_qr_images_500/qr_270_benign_images.png     \b\b\b\b 17%\b\b\b\b\b  OK \n",
            "Extracting  /content/qr_data/1000 QR Images of Malicious and Benign QR codes 2025/benign_qr_images_500/qr_271_benign_images.png     \b\b\b\b 17%\b\b\b\b\b  OK \n",
            "Extracting  /content/qr_data/1000 QR Images of Malicious and Benign QR codes 2025/benign_qr_images_500/qr_272_benign_images.png     \b\b\b\b 17%\b\b\b\b\b  OK \n",
            "Extracting  /content/qr_data/1000 QR Images of Malicious and Benign QR codes 2025/benign_qr_images_500/qr_273_benign_images.png     \b\b\b\b 17%\b\b\b\b\b  OK \n",
            "Extracting  /content/qr_data/1000 QR Images of Malicious and Benign QR codes 2025/benign_qr_images_500/qr_274_benign_images.png     \b\b\b\b 17%\b\b\b\b\b  OK \n",
            "Extracting  /content/qr_data/1000 QR Images of Malicious and Benign QR codes 2025/benign_qr_images_500/qr_275_benign_images.png     \b\b\b\b 17%\b\b\b\b\b  OK \n",
            "Extracting  /content/qr_data/1000 QR Images of Malicious and Benign QR codes 2025/benign_qr_images_500/qr_276_benign_images.png     \b\b\b\b 17%\b\b\b\b\b  OK \n",
            "Extracting  /content/qr_data/1000 QR Images of Malicious and Benign QR codes 2025/benign_qr_images_500/qr_277_benign_images.png     \b\b\b\b 18%\b\b\b\b\b  OK \n",
            "Extracting  /content/qr_data/1000 QR Images of Malicious and Benign QR codes 2025/benign_qr_images_500/qr_278_benign_images.png     \b\b\b\b 18%\b\b\b\b\b  OK \n",
            "Extracting  /content/qr_data/1000 QR Images of Malicious and Benign QR codes 2025/benign_qr_images_500/qr_279_benign_images.png     \b\b\b\b 18%\b\b\b\b\b  OK \n",
            "Extracting  /content/qr_data/1000 QR Images of Malicious and Benign QR codes 2025/benign_qr_images_500/qr_27_benign_images.png     \b\b\b\b 18%\b\b\b\b\b  OK \n",
            "Extracting  /content/qr_data/1000 QR Images of Malicious and Benign QR codes 2025/benign_qr_images_500/qr_280_benign_images.png     \b\b\b\b 18%\b\b\b\b\b  OK \n",
            "Extracting  /content/qr_data/1000 QR Images of Malicious and Benign QR codes 2025/benign_qr_images_500/qr_281_benign_images.png     \b\b\b\b 18%\b\b\b\b\b  OK \n",
            "Extracting  /content/qr_data/1000 QR Images of Malicious and Benign QR codes 2025/benign_qr_images_500/qr_282_benign_images.png     \b\b\b\b 18%\b\b\b\b\b  OK \n",
            "Extracting  /content/qr_data/1000 QR Images of Malicious and Benign QR codes 2025/benign_qr_images_500/qr_283_benign_images.png     \b\b\b\b 18%\b\b\b\b\b  OK \n",
            "Extracting  /content/qr_data/1000 QR Images of Malicious and Benign QR codes 2025/benign_qr_images_500/qr_284_benign_images.png     \b\b\b\b 18%\b\b\b\b\b  OK \n",
            "Extracting  /content/qr_data/1000 QR Images of Malicious and Benign QR codes 2025/benign_qr_images_500/qr_285_benign_images.png     \b\b\b\b 18%\b\b\b\b\b  OK \n",
            "Extracting  /content/qr_data/1000 QR Images of Malicious and Benign QR codes 2025/benign_qr_images_500/qr_286_benign_images.png     \b\b\b\b 18%\b\b\b\b\b  OK \n",
            "Extracting  /content/qr_data/1000 QR Images of Malicious and Benign QR codes 2025/benign_qr_images_500/qr_287_benign_images.png     \b\b\b\b 19%\b\b\b\b\b  OK \n",
            "Extracting  /content/qr_data/1000 QR Images of Malicious and Benign QR codes 2025/benign_qr_images_500/qr_288_benign_images.png     \b\b\b\b 19%\b\b\b\b\b  OK \n",
            "Extracting  /content/qr_data/1000 QR Images of Malicious and Benign QR codes 2025/benign_qr_images_500/qr_289_benign_images.png     \b\b\b\b 19%\b\b\b\b\b  OK \n",
            "Extracting  /content/qr_data/1000 QR Images of Malicious and Benign QR codes 2025/benign_qr_images_500/qr_28_benign_images.png     \b\b\b\b 19%\b\b\b\b\b  OK \n",
            "Extracting  /content/qr_data/1000 QR Images of Malicious and Benign QR codes 2025/benign_qr_images_500/qr_290_benign_images.png     \b\b\b\b 19%\b\b\b\b\b  OK \n",
            "Extracting  /content/qr_data/1000 QR Images of Malicious and Benign QR codes 2025/benign_qr_images_500/qr_291_benign_images.png     \b\b\b\b 19%\b\b\b\b\b  OK \n",
            "Extracting  /content/qr_data/1000 QR Images of Malicious and Benign QR codes 2025/benign_qr_images_500/qr_292_benign_images.png     \b\b\b\b 19%\b\b\b\b\b  OK \n",
            "Extracting  /content/qr_data/1000 QR Images of Malicious and Benign QR codes 2025/benign_qr_images_500/qr_293_benign_images.png     \b\b\b\b 19%\b\b\b\b\b  OK \n",
            "Extracting  /content/qr_data/1000 QR Images of Malicious and Benign QR codes 2025/benign_qr_images_500/qr_294_benign_images.png     \b\b\b\b 19%\b\b\b\b\b  OK \n",
            "Extracting  /content/qr_data/1000 QR Images of Malicious and Benign QR codes 2025/benign_qr_images_500/qr_295_benign_images.png     \b\b\b\b 19%\b\b\b\b\b  OK \n",
            "Extracting  /content/qr_data/1000 QR Images of Malicious and Benign QR codes 2025/benign_qr_images_500/qr_296_benign_images.png     \b\b\b\b 19%\b\b\b\b\b  OK \n",
            "Extracting  /content/qr_data/1000 QR Images of Malicious and Benign QR codes 2025/benign_qr_images_500/qr_297_benign_images.png     \b\b\b\b 20%\b\b\b\b\b  OK \n",
            "Extracting  /content/qr_data/1000 QR Images of Malicious and Benign QR codes 2025/benign_qr_images_500/qr_298_benign_images.png     \b\b\b\b 20%\b\b\b\b\b  OK \n",
            "Extracting  /content/qr_data/1000 QR Images of Malicious and Benign QR codes 2025/benign_qr_images_500/qr_299_benign_images.png     \b\b\b\b 20%\b\b\b\b\b  OK \n",
            "Extracting  /content/qr_data/1000 QR Images of Malicious and Benign QR codes 2025/benign_qr_images_500/qr_29_benign_images.png     \b\b\b\b 20%\b\b\b\b\b  OK \n",
            "Extracting  /content/qr_data/1000 QR Images of Malicious and Benign QR codes 2025/benign_qr_images_500/qr_2_benign_images.png     \b\b\b\b 20%\b\b\b\b\b  OK \n",
            "Extracting  /content/qr_data/1000 QR Images of Malicious and Benign QR codes 2025/benign_qr_images_500/qr_300_benign_images.png     \b\b\b\b 20%\b\b\b\b\b  OK \n",
            "Extracting  /content/qr_data/1000 QR Images of Malicious and Benign QR codes 2025/benign_qr_images_500/qr_301_benign_images.png     \b\b\b\b 20%\b\b\b\b\b  OK \n",
            "Extracting  /content/qr_data/1000 QR Images of Malicious and Benign QR codes 2025/benign_qr_images_500/qr_302_benign_images.png     \b\b\b\b 20%\b\b\b\b\b  OK \n",
            "Extracting  /content/qr_data/1000 QR Images of Malicious and Benign QR codes 2025/benign_qr_images_500/qr_303_benign_images.png     \b\b\b\b 20%\b\b\b\b\b  OK \n",
            "Extracting  /content/qr_data/1000 QR Images of Malicious and Benign QR codes 2025/benign_qr_images_500/qr_304_benign_images.png     \b\b\b\b 20%\b\b\b\b\b  OK \n",
            "Extracting  /content/qr_data/1000 QR Images of Malicious and Benign QR codes 2025/benign_qr_images_500/qr_305_benign_images.png     \b\b\b\b 20%\b\b\b\b\b  OK \n",
            "Extracting  /content/qr_data/1000 QR Images of Malicious and Benign QR codes 2025/benign_qr_images_500/qr_306_benign_images.png     \b\b\b\b 20%\b\b\b\b\b  OK \n",
            "Extracting  /content/qr_data/1000 QR Images of Malicious and Benign QR codes 2025/benign_qr_images_500/qr_307_benign_images.png     \b\b\b\b 21%\b\b\b\b\b  OK \n",
            "Extracting  /content/qr_data/1000 QR Images of Malicious and Benign QR codes 2025/benign_qr_images_500/qr_308_benign_images.png     \b\b\b\b 21%\b\b\b\b\b  OK \n",
            "Extracting  /content/qr_data/1000 QR Images of Malicious and Benign QR codes 2025/benign_qr_images_500/qr_309_benign_images.png     \b\b\b\b 21%\b\b\b\b\b  OK \n",
            "Extracting  /content/qr_data/1000 QR Images of Malicious and Benign QR codes 2025/benign_qr_images_500/qr_30_benign_images.png     \b\b\b\b 21%\b\b\b\b\b  OK \n",
            "Extracting  /content/qr_data/1000 QR Images of Malicious and Benign QR codes 2025/benign_qr_images_500/qr_310_benign_images.png     \b\b\b\b 21%\b\b\b\b\b  OK \n",
            "Extracting  /content/qr_data/1000 QR Images of Malicious and Benign QR codes 2025/benign_qr_images_500/qr_311_benign_images.png     \b\b\b\b 21%\b\b\b\b\b  OK \n",
            "Extracting  /content/qr_data/1000 QR Images of Malicious and Benign QR codes 2025/benign_qr_images_500/qr_312_benign_images.png     \b\b\b\b 21%\b\b\b\b\b  OK \n",
            "Extracting  /content/qr_data/1000 QR Images of Malicious and Benign QR codes 2025/benign_qr_images_500/qr_313_benign_images.png     \b\b\b\b 21%\b\b\b\b\b  OK \n",
            "Extracting  /content/qr_data/1000 QR Images of Malicious and Benign QR codes 2025/benign_qr_images_500/qr_314_benign_images.png     \b\b\b\b 21%\b\b\b\b\b  OK \n",
            "Extracting  /content/qr_data/1000 QR Images of Malicious and Benign QR codes 2025/benign_qr_images_500/qr_315_benign_images.png     \b\b\b\b 21%\b\b\b\b\b  OK \n",
            "Extracting  /content/qr_data/1000 QR Images of Malicious and Benign QR codes 2025/benign_qr_images_500/qr_316_benign_images.png     \b\b\b\b 21%\b\b\b\b\b  OK \n",
            "Extracting  /content/qr_data/1000 QR Images of Malicious and Benign QR codes 2025/benign_qr_images_500/qr_317_benign_images.png     \b\b\b\b 22%\b\b\b\b\b  OK \n",
            "Extracting  /content/qr_data/1000 QR Images of Malicious and Benign QR codes 2025/benign_qr_images_500/qr_318_benign_images.png     \b\b\b\b 22%\b\b\b\b\b  OK \n",
            "Extracting  /content/qr_data/1000 QR Images of Malicious and Benign QR codes 2025/benign_qr_images_500/qr_319_benign_images.png     \b\b\b\b 22%\b\b\b\b\b  OK \n",
            "Extracting  /content/qr_data/1000 QR Images of Malicious and Benign QR codes 2025/benign_qr_images_500/qr_31_benign_images.png     \b\b\b\b 22%\b\b\b\b\b  OK \n",
            "Extracting  /content/qr_data/1000 QR Images of Malicious and Benign QR codes 2025/benign_qr_images_500/qr_320_benign_images.png     \b\b\b\b 22%\b\b\b\b\b  OK \n",
            "Extracting  /content/qr_data/1000 QR Images of Malicious and Benign QR codes 2025/benign_qr_images_500/qr_321_benign_images.png     \b\b\b\b 22%\b\b\b\b\b  OK \n",
            "Extracting  /content/qr_data/1000 QR Images of Malicious and Benign QR codes 2025/benign_qr_images_500/qr_322_benign_images.png     \b\b\b\b 22%\b\b\b\b\b  OK \n",
            "Extracting  /content/qr_data/1000 QR Images of Malicious and Benign QR codes 2025/benign_qr_images_500/qr_323_benign_images.png     \b\b\b\b 22%\b\b\b\b\b  OK \n",
            "Extracting  /content/qr_data/1000 QR Images of Malicious and Benign QR codes 2025/benign_qr_images_500/qr_324_benign_images.png     \b\b\b\b 22%\b\b\b\b\b  OK \n",
            "Extracting  /content/qr_data/1000 QR Images of Malicious and Benign QR codes 2025/benign_qr_images_500/qr_325_benign_images.png     \b\b\b\b 22%\b\b\b\b\b  OK \n",
            "Extracting  /content/qr_data/1000 QR Images of Malicious and Benign QR codes 2025/benign_qr_images_500/qr_326_benign_images.png     \b\b\b\b 22%\b\b\b\b\b  OK \n",
            "Extracting  /content/qr_data/1000 QR Images of Malicious and Benign QR codes 2025/benign_qr_images_500/qr_327_benign_images.png     \b\b\b\b 23%\b\b\b\b\b  OK \n",
            "Extracting  /content/qr_data/1000 QR Images of Malicious and Benign QR codes 2025/benign_qr_images_500/qr_328_benign_images.png     \b\b\b\b 23%\b\b\b\b\b  OK \n",
            "Extracting  /content/qr_data/1000 QR Images of Malicious and Benign QR codes 2025/benign_qr_images_500/qr_329_benign_images.png     \b\b\b\b 23%\b\b\b\b\b  OK \n",
            "Extracting  /content/qr_data/1000 QR Images of Malicious and Benign QR codes 2025/benign_qr_images_500/qr_32_benign_images.png     \b\b\b\b 23%\b\b\b\b\b  OK \n",
            "Extracting  /content/qr_data/1000 QR Images of Malicious and Benign QR codes 2025/benign_qr_images_500/qr_330_benign_images.png     \b\b\b\b 23%\b\b\b\b\b  OK \n",
            "Extracting  /content/qr_data/1000 QR Images of Malicious and Benign QR codes 2025/benign_qr_images_500/qr_331_benign_images.png     \b\b\b\b 23%\b\b\b\b\b  OK \n",
            "Extracting  /content/qr_data/1000 QR Images of Malicious and Benign QR codes 2025/benign_qr_images_500/qr_332_benign_images.png     \b\b\b\b 23%\b\b\b\b\b  OK \n",
            "Extracting  /content/qr_data/1000 QR Images of Malicious and Benign QR codes 2025/benign_qr_images_500/qr_333_benign_images.png     \b\b\b\b 23%\b\b\b\b\b  OK \n",
            "Extracting  /content/qr_data/1000 QR Images of Malicious and Benign QR codes 2025/benign_qr_images_500/qr_334_benign_images.png     \b\b\b\b 23%\b\b\b\b\b  OK \n",
            "Extracting  /content/qr_data/1000 QR Images of Malicious and Benign QR codes 2025/benign_qr_images_500/qr_335_benign_images.png     \b\b\b\b 23%\b\b\b\b\b  OK \n",
            "Extracting  /content/qr_data/1000 QR Images of Malicious and Benign QR codes 2025/benign_qr_images_500/qr_336_benign_images.png     \b\b\b\b 24%\b\b\b\b\b  OK \n",
            "Extracting  /content/qr_data/1000 QR Images of Malicious and Benign QR codes 2025/benign_qr_images_500/qr_337_benign_images.png     \b\b\b\b 24%\b\b\b\b\b  OK \n",
            "Extracting  /content/qr_data/1000 QR Images of Malicious and Benign QR codes 2025/benign_qr_images_500/qr_338_benign_images.png     \b\b\b\b 24%\b\b\b\b\b  OK \n",
            "Extracting  /content/qr_data/1000 QR Images of Malicious and Benign QR codes 2025/benign_qr_images_500/qr_339_benign_images.png     \b\b\b\b 24%\b\b\b\b\b  OK \n",
            "Extracting  /content/qr_data/1000 QR Images of Malicious and Benign QR codes 2025/benign_qr_images_500/qr_33_benign_images.png     \b\b\b\b 24%\b\b\b\b\b  OK \n",
            "Extracting  /content/qr_data/1000 QR Images of Malicious and Benign QR codes 2025/benign_qr_images_500/qr_340_benign_images.png     \b\b\b\b 24%\b\b\b\b\b  OK \n",
            "Extracting  /content/qr_data/1000 QR Images of Malicious and Benign QR codes 2025/benign_qr_images_500/qr_341_benign_images.png     \b\b\b\b 24%\b\b\b\b\b  OK \n",
            "Extracting  /content/qr_data/1000 QR Images of Malicious and Benign QR codes 2025/benign_qr_images_500/qr_342_benign_images.png     \b\b\b\b 24%\b\b\b\b\b  OK \n",
            "Extracting  /content/qr_data/1000 QR Images of Malicious and Benign QR codes 2025/benign_qr_images_500/qr_343_benign_images.png     \b\b\b\b 24%\b\b\b\b\b  OK \n",
            "Extracting  /content/qr_data/1000 QR Images of Malicious and Benign QR codes 2025/benign_qr_images_500/qr_344_benign_images.png     \b\b\b\b 24%\b\b\b\b\b  OK \n",
            "Extracting  /content/qr_data/1000 QR Images of Malicious and Benign QR codes 2025/benign_qr_images_500/qr_345_benign_images.png     \b\b\b\b 24%\b\b\b\b\b  OK \n",
            "Extracting  /content/qr_data/1000 QR Images of Malicious and Benign QR codes 2025/benign_qr_images_500/qr_346_benign_images.png     \b\b\b\b 25%\b\b\b\b\b  OK \n",
            "Extracting  /content/qr_data/1000 QR Images of Malicious and Benign QR codes 2025/benign_qr_images_500/qr_347_benign_images.png     \b\b\b\b 25%\b\b\b\b\b  OK \n",
            "Extracting  /content/qr_data/1000 QR Images of Malicious and Benign QR codes 2025/benign_qr_images_500/qr_348_benign_images.png     \b\b\b\b 25%\b\b\b\b\b  OK \n",
            "Extracting  /content/qr_data/1000 QR Images of Malicious and Benign QR codes 2025/benign_qr_images_500/qr_349_benign_images.png     \b\b\b\b 25%\b\b\b\b\b  OK \n",
            "Extracting  /content/qr_data/1000 QR Images of Malicious and Benign QR codes 2025/benign_qr_images_500/qr_34_benign_images.png     \b\b\b\b 25%\b\b\b\b\b  OK \n",
            "Extracting  /content/qr_data/1000 QR Images of Malicious and Benign QR codes 2025/benign_qr_images_500/qr_350_benign_images.png     \b\b\b\b 25%\b\b\b\b\b  OK \n",
            "Extracting  /content/qr_data/1000 QR Images of Malicious and Benign QR codes 2025/benign_qr_images_500/qr_351_benign_images.png     \b\b\b\b 25%\b\b\b\b\b  OK \n",
            "Extracting  /content/qr_data/1000 QR Images of Malicious and Benign QR codes 2025/benign_qr_images_500/qr_352_benign_images.png     \b\b\b\b 25%\b\b\b\b\b  OK \n",
            "Extracting  /content/qr_data/1000 QR Images of Malicious and Benign QR codes 2025/benign_qr_images_500/qr_353_benign_images.png     \b\b\b\b 25%\b\b\b\b\b  OK \n",
            "Extracting  /content/qr_data/1000 QR Images of Malicious and Benign QR codes 2025/benign_qr_images_500/qr_354_benign_images.png     \b\b\b\b 25%\b\b\b\b\b  OK \n",
            "Extracting  /content/qr_data/1000 QR Images of Malicious and Benign QR codes 2025/benign_qr_images_500/qr_355_benign_images.png     \b\b\b\b 25%\b\b\b\b\b  OK \n",
            "Extracting  /content/qr_data/1000 QR Images of Malicious and Benign QR codes 2025/benign_qr_images_500/qr_356_benign_images.png     \b\b\b\b 26%\b\b\b\b\b  OK \n",
            "Extracting  /content/qr_data/1000 QR Images of Malicious and Benign QR codes 2025/benign_qr_images_500/qr_357_benign_images.png     \b\b\b\b 26%\b\b\b\b\b  OK \n",
            "Extracting  /content/qr_data/1000 QR Images of Malicious and Benign QR codes 2025/benign_qr_images_500/qr_358_benign_images.png     \b\b\b\b 26%\b\b\b\b\b  OK \n",
            "Extracting  /content/qr_data/1000 QR Images of Malicious and Benign QR codes 2025/benign_qr_images_500/qr_359_benign_images.png     \b\b\b\b 26%\b\b\b\b\b  OK \n",
            "Extracting  /content/qr_data/1000 QR Images of Malicious and Benign QR codes 2025/benign_qr_images_500/qr_35_benign_images.png     \b\b\b\b 26%\b\b\b\b\b  OK \n",
            "Extracting  /content/qr_data/1000 QR Images of Malicious and Benign QR codes 2025/benign_qr_images_500/qr_360_benign_images.png     \b\b\b\b 26%\b\b\b\b\b  OK \n",
            "Extracting  /content/qr_data/1000 QR Images of Malicious and Benign QR codes 2025/benign_qr_images_500/qr_361_benign_images.png     \b\b\b\b 26%\b\b\b\b\b  OK \n",
            "Extracting  /content/qr_data/1000 QR Images of Malicious and Benign QR codes 2025/benign_qr_images_500/qr_362_benign_images.png     \b\b\b\b 26%\b\b\b\b\b  OK \n",
            "Extracting  /content/qr_data/1000 QR Images of Malicious and Benign QR codes 2025/benign_qr_images_500/qr_363_benign_images.png     \b\b\b\b 26%\b\b\b\b\b  OK \n",
            "Extracting  /content/qr_data/1000 QR Images of Malicious and Benign QR codes 2025/benign_qr_images_500/qr_364_benign_images.png     \b\b\b\b 26%\b\b\b\b\b  OK \n",
            "Extracting  /content/qr_data/1000 QR Images of Malicious and Benign QR codes 2025/benign_qr_images_500/qr_365_benign_images.png     \b\b\b\b 26%\b\b\b\b\b  OK \n",
            "Extracting  /content/qr_data/1000 QR Images of Malicious and Benign QR codes 2025/benign_qr_images_500/qr_366_benign_images.png     \b\b\b\b 27%\b\b\b\b\b  OK \n",
            "Extracting  /content/qr_data/1000 QR Images of Malicious and Benign QR codes 2025/benign_qr_images_500/qr_367_benign_images.png     \b\b\b\b 27%\b\b\b\b\b  OK \n",
            "Extracting  /content/qr_data/1000 QR Images of Malicious and Benign QR codes 2025/benign_qr_images_500/qr_368_benign_images.png     \b\b\b\b 27%\b\b\b\b\b  OK \n",
            "Extracting  /content/qr_data/1000 QR Images of Malicious and Benign QR codes 2025/benign_qr_images_500/qr_369_benign_images.png     \b\b\b\b 27%\b\b\b\b\b  OK \n",
            "Extracting  /content/qr_data/1000 QR Images of Malicious and Benign QR codes 2025/benign_qr_images_500/qr_36_benign_images.png     \b\b\b\b 27%\b\b\b\b\b  OK \n",
            "Extracting  /content/qr_data/1000 QR Images of Malicious and Benign QR codes 2025/benign_qr_images_500/qr_370_benign_images.png     \b\b\b\b 27%\b\b\b\b\b  OK \n",
            "Extracting  /content/qr_data/1000 QR Images of Malicious and Benign QR codes 2025/benign_qr_images_500/qr_371_benign_images.png     \b\b\b\b 27%\b\b\b\b\b  OK \n",
            "Extracting  /content/qr_data/1000 QR Images of Malicious and Benign QR codes 2025/benign_qr_images_500/qr_372_benign_images.png     \b\b\b\b 27%\b\b\b\b\b  OK \n",
            "Extracting  /content/qr_data/1000 QR Images of Malicious and Benign QR codes 2025/benign_qr_images_500/qr_373_benign_images.png     \b\b\b\b 27%\b\b\b\b\b  OK \n",
            "Extracting  /content/qr_data/1000 QR Images of Malicious and Benign QR codes 2025/benign_qr_images_500/qr_374_benign_images.png     \b\b\b\b 27%\b\b\b\b\b  OK \n",
            "Extracting  /content/qr_data/1000 QR Images of Malicious and Benign QR codes 2025/benign_qr_images_500/qr_375_benign_images.png     \b\b\b\b 27%\b\b\b\b\b  OK \n",
            "Extracting  /content/qr_data/1000 QR Images of Malicious and Benign QR codes 2025/benign_qr_images_500/qr_376_benign_images.png     \b\b\b\b 28%\b\b\b\b\b  OK \n",
            "Extracting  /content/qr_data/1000 QR Images of Malicious and Benign QR codes 2025/benign_qr_images_500/qr_377_benign_images.png     \b\b\b\b 28%\b\b\b\b\b  OK \n",
            "Extracting  /content/qr_data/1000 QR Images of Malicious and Benign QR codes 2025/benign_qr_images_500/qr_378_benign_images.png     \b\b\b\b 28%\b\b\b\b\b  OK \n",
            "Extracting  /content/qr_data/1000 QR Images of Malicious and Benign QR codes 2025/benign_qr_images_500/qr_379_benign_images.png     \b\b\b\b 28%\b\b\b\b\b  OK \n",
            "Extracting  /content/qr_data/1000 QR Images of Malicious and Benign QR codes 2025/benign_qr_images_500/qr_37_benign_images.png     \b\b\b\b 28%\b\b\b\b\b  OK \n",
            "Extracting  /content/qr_data/1000 QR Images of Malicious and Benign QR codes 2025/benign_qr_images_500/qr_380_benign_images.png     \b\b\b\b 28%\b\b\b\b\b  OK \n",
            "Extracting  /content/qr_data/1000 QR Images of Malicious and Benign QR codes 2025/benign_qr_images_500/qr_381_benign_images.png     \b\b\b\b 28%\b\b\b\b\b  OK \n",
            "Extracting  /content/qr_data/1000 QR Images of Malicious and Benign QR codes 2025/benign_qr_images_500/qr_382_benign_images.png     \b\b\b\b 28%\b\b\b\b\b  OK \n",
            "Extracting  /content/qr_data/1000 QR Images of Malicious and Benign QR codes 2025/benign_qr_images_500/qr_383_benign_images.png     \b\b\b\b 28%\b\b\b\b\b  OK \n",
            "Extracting  /content/qr_data/1000 QR Images of Malicious and Benign QR codes 2025/benign_qr_images_500/qr_384_benign_images.png     \b\b\b\b 28%\b\b\b\b\b  OK \n",
            "Extracting  /content/qr_data/1000 QR Images of Malicious and Benign QR codes 2025/benign_qr_images_500/qr_385_benign_images.png     \b\b\b\b 28%\b\b\b\b\b  OK \n",
            "Extracting  /content/qr_data/1000 QR Images of Malicious and Benign QR codes 2025/benign_qr_images_500/qr_386_benign_images.png     \b\b\b\b 29%\b\b\b\b\b  OK \n",
            "Extracting  /content/qr_data/1000 QR Images of Malicious and Benign QR codes 2025/benign_qr_images_500/qr_387_benign_images.png     \b\b\b\b 29%\b\b\b\b\b  OK \n",
            "Extracting  /content/qr_data/1000 QR Images of Malicious and Benign QR codes 2025/benign_qr_images_500/qr_388_benign_images.png     \b\b\b\b 29%\b\b\b\b\b  OK \n",
            "Extracting  /content/qr_data/1000 QR Images of Malicious and Benign QR codes 2025/benign_qr_images_500/qr_389_benign_images.png     \b\b\b\b 29%\b\b\b\b\b  OK \n",
            "Extracting  /content/qr_data/1000 QR Images of Malicious and Benign QR codes 2025/benign_qr_images_500/qr_38_benign_images.png     \b\b\b\b 29%\b\b\b\b\b  OK \n",
            "Extracting  /content/qr_data/1000 QR Images of Malicious and Benign QR codes 2025/benign_qr_images_500/qr_390_benign_images.png     \b\b\b\b 29%\b\b\b\b\b  OK \n",
            "Extracting  /content/qr_data/1000 QR Images of Malicious and Benign QR codes 2025/benign_qr_images_500/qr_391_benign_images.png     \b\b\b\b 29%\b\b\b\b\b  OK \n",
            "Extracting  /content/qr_data/1000 QR Images of Malicious and Benign QR codes 2025/benign_qr_images_500/qr_392_benign_images.png     \b\b\b\b 29%\b\b\b\b\b  OK \n",
            "Extracting  /content/qr_data/1000 QR Images of Malicious and Benign QR codes 2025/benign_qr_images_500/qr_393_benign_images.png     \b\b\b\b 29%\b\b\b\b\b  OK \n",
            "Extracting  /content/qr_data/1000 QR Images of Malicious and Benign QR codes 2025/benign_qr_images_500/qr_394_benign_images.png     \b\b\b\b 29%\b\b\b\b\b  OK \n",
            "Extracting  /content/qr_data/1000 QR Images of Malicious and Benign QR codes 2025/benign_qr_images_500/qr_395_benign_images.png     \b\b\b\b 29%\b\b\b\b\b  OK \n",
            "Extracting  /content/qr_data/1000 QR Images of Malicious and Benign QR codes 2025/benign_qr_images_500/qr_396_benign_images.png     \b\b\b\b 30%\b\b\b\b\b  OK \n",
            "Extracting  /content/qr_data/1000 QR Images of Malicious and Benign QR codes 2025/benign_qr_images_500/qr_397_benign_images.png     \b\b\b\b 30%\b\b\b\b\b  OK \n",
            "Extracting  /content/qr_data/1000 QR Images of Malicious and Benign QR codes 2025/benign_qr_images_500/qr_398_benign_images.png     \b\b\b\b 30%\b\b\b\b\b  OK \n",
            "Extracting  /content/qr_data/1000 QR Images of Malicious and Benign QR codes 2025/benign_qr_images_500/qr_399_benign_images.png     \b\b\b\b 30%\b\b\b\b\b  OK \n",
            "Extracting  /content/qr_data/1000 QR Images of Malicious and Benign QR codes 2025/benign_qr_images_500/qr_39_benign_images.png     \b\b\b\b 30%\b\b\b\b\b  OK \n",
            "Extracting  /content/qr_data/1000 QR Images of Malicious and Benign QR codes 2025/benign_qr_images_500/qr_3_benign_images.png     \b\b\b\b 30%\b\b\b\b\b  OK \n",
            "Extracting  /content/qr_data/1000 QR Images of Malicious and Benign QR codes 2025/benign_qr_images_500/qr_400_benign_images.png     \b\b\b\b 30%\b\b\b\b\b  OK \n",
            "Extracting  /content/qr_data/1000 QR Images of Malicious and Benign QR codes 2025/benign_qr_images_500/qr_401_benign_images.png     \b\b\b\b 30%\b\b\b\b\b  OK \n",
            "Extracting  /content/qr_data/1000 QR Images of Malicious and Benign QR codes 2025/benign_qr_images_500/qr_402_benign_images.png     \b\b\b\b 30%\b\b\b\b\b  OK \n",
            "Extracting  /content/qr_data/1000 QR Images of Malicious and Benign QR codes 2025/benign_qr_images_500/qr_403_benign_images.png     \b\b\b\b 30%\b\b\b\b\b  OK \n",
            "Extracting  /content/qr_data/1000 QR Images of Malicious and Benign QR codes 2025/benign_qr_images_500/qr_404_benign_images.png     \b\b\b\b 30%\b\b\b\b\b  OK \n",
            "Extracting  /content/qr_data/1000 QR Images of Malicious and Benign QR codes 2025/benign_qr_images_500/qr_405_benign_images.png     \b\b\b\b 31%\b\b\b\b\b  OK \n",
            "Extracting  /content/qr_data/1000 QR Images of Malicious and Benign QR codes 2025/benign_qr_images_500/qr_406_benign_images.png     \b\b\b\b 31%\b\b\b\b\b  OK \n",
            "Extracting  /content/qr_data/1000 QR Images of Malicious and Benign QR codes 2025/benign_qr_images_500/qr_407_benign_images.png     \b\b\b\b 31%\b\b\b\b\b  OK \n",
            "Extracting  /content/qr_data/1000 QR Images of Malicious and Benign QR codes 2025/benign_qr_images_500/qr_408_benign_images.png     \b\b\b\b 31%\b\b\b\b\b  OK \n",
            "Extracting  /content/qr_data/1000 QR Images of Malicious and Benign QR codes 2025/benign_qr_images_500/qr_409_benign_images.png     \b\b\b\b 31%\b\b\b\b\b  OK \n",
            "Extracting  /content/qr_data/1000 QR Images of Malicious and Benign QR codes 2025/benign_qr_images_500/qr_40_benign_images.png     \b\b\b\b 31%\b\b\b\b\b  OK \n",
            "Extracting  /content/qr_data/1000 QR Images of Malicious and Benign QR codes 2025/benign_qr_images_500/qr_410_benign_images.png     \b\b\b\b 31%\b\b\b\b\b  OK \n",
            "Extracting  /content/qr_data/1000 QR Images of Malicious and Benign QR codes 2025/benign_qr_images_500/qr_411_benign_images.png     \b\b\b\b 31%\b\b\b\b\b  OK \n",
            "Extracting  /content/qr_data/1000 QR Images of Malicious and Benign QR codes 2025/benign_qr_images_500/qr_412_benign_images.png     \b\b\b\b 31%\b\b\b\b\b  OK \n",
            "Extracting  /content/qr_data/1000 QR Images of Malicious and Benign QR codes 2025/benign_qr_images_500/qr_413_benign_images.png     \b\b\b\b 31%\b\b\b\b\b  OK \n",
            "Extracting  /content/qr_data/1000 QR Images of Malicious and Benign QR codes 2025/benign_qr_images_500/qr_414_benign_images.png     \b\b\b\b 31%\b\b\b\b\b  OK \n",
            "Extracting  /content/qr_data/1000 QR Images of Malicious and Benign QR codes 2025/benign_qr_images_500/qr_415_benign_images.png     \b\b\b\b 31%\b\b\b\b\b  OK \n",
            "Extracting  /content/qr_data/1000 QR Images of Malicious and Benign QR codes 2025/benign_qr_images_500/qr_416_benign_images.png     \b\b\b\b 32%\b\b\b\b\b  OK \n",
            "Extracting  /content/qr_data/1000 QR Images of Malicious and Benign QR codes 2025/benign_qr_images_500/qr_417_benign_images.png     \b\b\b\b 32%\b\b\b\b\b  OK \n",
            "Extracting  /content/qr_data/1000 QR Images of Malicious and Benign QR codes 2025/benign_qr_images_500/qr_418_benign_images.png     \b\b\b\b 32%\b\b\b\b\b  OK \n",
            "Extracting  /content/qr_data/1000 QR Images of Malicious and Benign QR codes 2025/benign_qr_images_500/qr_419_benign_images.png     \b\b\b\b 32%\b\b\b\b\b  OK \n",
            "Extracting  /content/qr_data/1000 QR Images of Malicious and Benign QR codes 2025/benign_qr_images_500/qr_41_benign_images.png     \b\b\b\b 32%\b\b\b\b\b  OK \n",
            "Extracting  /content/qr_data/1000 QR Images of Malicious and Benign QR codes 2025/benign_qr_images_500/qr_420_benign_images.png     \b\b\b\b 32%\b\b\b\b\b  OK \n",
            "Extracting  /content/qr_data/1000 QR Images of Malicious and Benign QR codes 2025/benign_qr_images_500/qr_421_benign_images.png     \b\b\b\b 32%\b\b\b\b\b  OK \n",
            "Extracting  /content/qr_data/1000 QR Images of Malicious and Benign QR codes 2025/benign_qr_images_500/qr_422_benign_images.png     \b\b\b\b 32%\b\b\b\b\b  OK \n",
            "Extracting  /content/qr_data/1000 QR Images of Malicious and Benign QR codes 2025/benign_qr_images_500/qr_423_benign_images.png     \b\b\b\b 32%\b\b\b\b\b  OK \n",
            "Extracting  /content/qr_data/1000 QR Images of Malicious and Benign QR codes 2025/benign_qr_images_500/qr_424_benign_images.png     \b\b\b\b 32%\b\b\b\b\b  OK \n",
            "Extracting  /content/qr_data/1000 QR Images of Malicious and Benign QR codes 2025/benign_qr_images_500/qr_425_benign_images.png     \b\b\b\b 32%\b\b\b\b\b  OK \n",
            "Extracting  /content/qr_data/1000 QR Images of Malicious and Benign QR codes 2025/benign_qr_images_500/qr_426_benign_images.png     \b\b\b\b 33%\b\b\b\b\b  OK \n",
            "Extracting  /content/qr_data/1000 QR Images of Malicious and Benign QR codes 2025/benign_qr_images_500/qr_427_benign_images.png     \b\b\b\b 33%\b\b\b\b\b  OK \n",
            "Extracting  /content/qr_data/1000 QR Images of Malicious and Benign QR codes 2025/benign_qr_images_500/qr_428_benign_images.png     \b\b\b\b 33%\b\b\b\b\b  OK \n",
            "Extracting  /content/qr_data/1000 QR Images of Malicious and Benign QR codes 2025/benign_qr_images_500/qr_429_benign_images.png     \b\b\b\b 33%\b\b\b\b\b  OK \n",
            "Extracting  /content/qr_data/1000 QR Images of Malicious and Benign QR codes 2025/benign_qr_images_500/qr_42_benign_images.png     \b\b\b\b 33%\b\b\b\b\b  OK \n",
            "Extracting  /content/qr_data/1000 QR Images of Malicious and Benign QR codes 2025/benign_qr_images_500/qr_430_benign_images.png     \b\b\b\b 33%\b\b\b\b\b  OK \n",
            "Extracting  /content/qr_data/1000 QR Images of Malicious and Benign QR codes 2025/benign_qr_images_500/qr_431_benign_images.png     \b\b\b\b 33%\b\b\b\b\b  OK \n",
            "Extracting  /content/qr_data/1000 QR Images of Malicious and Benign QR codes 2025/benign_qr_images_500/qr_432_benign_images.png     \b\b\b\b 33%\b\b\b\b\b  OK \n",
            "Extracting  /content/qr_data/1000 QR Images of Malicious and Benign QR codes 2025/benign_qr_images_500/qr_433_benign_images.png     \b\b\b\b 33%\b\b\b\b\b  OK \n",
            "Extracting  /content/qr_data/1000 QR Images of Malicious and Benign QR codes 2025/benign_qr_images_500/qr_434_benign_images.png     \b\b\b\b 33%\b\b\b\b\b  OK \n",
            "Extracting  /content/qr_data/1000 QR Images of Malicious and Benign QR codes 2025/benign_qr_images_500/qr_435_benign_images.png     \b\b\b\b 33%\b\b\b\b\b  OK \n",
            "Extracting  /content/qr_data/1000 QR Images of Malicious and Benign QR codes 2025/benign_qr_images_500/qr_436_benign_images.png     \b\b\b\b 34%\b\b\b\b\b  OK \n",
            "Extracting  /content/qr_data/1000 QR Images of Malicious and Benign QR codes 2025/benign_qr_images_500/qr_437_benign_images.png     \b\b\b\b 34%\b\b\b\b\b  OK \n",
            "Extracting  /content/qr_data/1000 QR Images of Malicious and Benign QR codes 2025/benign_qr_images_500/qr_438_benign_images.png     \b\b\b\b 34%\b\b\b\b\b  OK \n",
            "Extracting  /content/qr_data/1000 QR Images of Malicious and Benign QR codes 2025/benign_qr_images_500/qr_439_benign_images.png     \b\b\b\b 34%\b\b\b\b\b  OK \n",
            "Extracting  /content/qr_data/1000 QR Images of Malicious and Benign QR codes 2025/benign_qr_images_500/qr_43_benign_images.png     \b\b\b\b 34%\b\b\b\b\b  OK \n",
            "Extracting  /content/qr_data/1000 QR Images of Malicious and Benign QR codes 2025/benign_qr_images_500/qr_440_benign_images.png     \b\b\b\b 34%\b\b\b\b\b  OK \n",
            "Extracting  /content/qr_data/1000 QR Images of Malicious and Benign QR codes 2025/benign_qr_images_500/qr_441_benign_images.png     \b\b\b\b 34%\b\b\b\b\b  OK \n",
            "Extracting  /content/qr_data/1000 QR Images of Malicious and Benign QR codes 2025/benign_qr_images_500/qr_442_benign_images.png     \b\b\b\b 34%\b\b\b\b\b  OK \n",
            "Extracting  /content/qr_data/1000 QR Images of Malicious and Benign QR codes 2025/benign_qr_images_500/qr_443_benign_images.png     \b\b\b\b 34%\b\b\b\b\b  OK \n",
            "Extracting  /content/qr_data/1000 QR Images of Malicious and Benign QR codes 2025/benign_qr_images_500/qr_444_benign_images.png     \b\b\b\b 34%\b\b\b\b\b  OK \n",
            "Extracting  /content/qr_data/1000 QR Images of Malicious and Benign QR codes 2025/benign_qr_images_500/qr_445_benign_images.png     \b\b\b\b 34%\b\b\b\b\b  OK \n",
            "Extracting  /content/qr_data/1000 QR Images of Malicious and Benign QR codes 2025/benign_qr_images_500/qr_446_benign_images.png     \b\b\b\b 34%\b\b\b\b\b  OK \n",
            "Extracting  /content/qr_data/1000 QR Images of Malicious and Benign QR codes 2025/benign_qr_images_500/qr_447_benign_images.png     \b\b\b\b 35%\b\b\b\b\b  OK \n",
            "Extracting  /content/qr_data/1000 QR Images of Malicious and Benign QR codes 2025/benign_qr_images_500/qr_448_benign_images.png     \b\b\b\b 35%\b\b\b\b\b  OK \n",
            "Extracting  /content/qr_data/1000 QR Images of Malicious and Benign QR codes 2025/benign_qr_images_500/qr_449_benign_images.png     \b\b\b\b 35%\b\b\b\b\b  OK \n",
            "Extracting  /content/qr_data/1000 QR Images of Malicious and Benign QR codes 2025/benign_qr_images_500/qr_44_benign_images.png     \b\b\b\b 35%\b\b\b\b\b  OK \n",
            "Extracting  /content/qr_data/1000 QR Images of Malicious and Benign QR codes 2025/benign_qr_images_500/qr_450_benign_images.png     \b\b\b\b 35%\b\b\b\b\b  OK \n",
            "Extracting  /content/qr_data/1000 QR Images of Malicious and Benign QR codes 2025/benign_qr_images_500/qr_451_benign_images.png     \b\b\b\b 35%\b\b\b\b\b  OK \n",
            "Extracting  /content/qr_data/1000 QR Images of Malicious and Benign QR codes 2025/benign_qr_images_500/qr_452_benign_images.png     \b\b\b\b 35%\b\b\b\b\b  OK \n",
            "Extracting  /content/qr_data/1000 QR Images of Malicious and Benign QR codes 2025/benign_qr_images_500/qr_453_benign_images.png     \b\b\b\b 35%\b\b\b\b\b  OK \n",
            "Extracting  /content/qr_data/1000 QR Images of Malicious and Benign QR codes 2025/benign_qr_images_500/qr_454_benign_images.png     \b\b\b\b 35%\b\b\b\b\b  OK \n",
            "Extracting  /content/qr_data/1000 QR Images of Malicious and Benign QR codes 2025/benign_qr_images_500/qr_455_benign_images.png     \b\b\b\b 35%\b\b\b\b\b  OK \n",
            "Extracting  /content/qr_data/1000 QR Images of Malicious and Benign QR codes 2025/benign_qr_images_500/qr_456_benign_images.png     \b\b\b\b 36%\b\b\b\b\b  OK \n",
            "Extracting  /content/qr_data/1000 QR Images of Malicious and Benign QR codes 2025/benign_qr_images_500/qr_457_benign_images.png     \b\b\b\b 36%\b\b\b\b\b  OK \n",
            "Extracting  /content/qr_data/1000 QR Images of Malicious and Benign QR codes 2025/benign_qr_images_500/qr_458_benign_images.png     \b\b\b\b 36%\b\b\b\b\b  OK \n",
            "Extracting  /content/qr_data/1000 QR Images of Malicious and Benign QR codes 2025/benign_qr_images_500/qr_459_benign_images.png     \b\b\b\b 36%\b\b\b\b\b  OK \n",
            "Extracting  /content/qr_data/1000 QR Images of Malicious and Benign QR codes 2025/benign_qr_images_500/qr_45_benign_images.png     \b\b\b\b 36%\b\b\b\b\b  OK \n",
            "Extracting  /content/qr_data/1000 QR Images of Malicious and Benign QR codes 2025/benign_qr_images_500/qr_460_benign_images.png     \b\b\b\b 36%\b\b\b\b\b  OK \n",
            "Extracting  /content/qr_data/1000 QR Images of Malicious and Benign QR codes 2025/benign_qr_images_500/qr_461_benign_images.png     \b\b\b\b 36%\b\b\b\b\b  OK \n",
            "Extracting  /content/qr_data/1000 QR Images of Malicious and Benign QR codes 2025/benign_qr_images_500/qr_462_benign_images.png     \b\b\b\b 36%\b\b\b\b\b  OK \n",
            "Extracting  /content/qr_data/1000 QR Images of Malicious and Benign QR codes 2025/benign_qr_images_500/qr_463_benign_images.png     \b\b\b\b 36%\b\b\b\b\b  OK \n",
            "Extracting  /content/qr_data/1000 QR Images of Malicious and Benign QR codes 2025/benign_qr_images_500/qr_464_benign_images.png     \b\b\b\b 36%\b\b\b\b\b  OK \n",
            "Extracting  /content/qr_data/1000 QR Images of Malicious and Benign QR codes 2025/benign_qr_images_500/qr_465_benign_images.png     \b\b\b\b 36%\b\b\b\b\b  OK \n",
            "Extracting  /content/qr_data/1000 QR Images of Malicious and Benign QR codes 2025/benign_qr_images_500/qr_466_benign_images.png     \b\b\b\b 36%\b\b\b\b\b  OK \n",
            "Extracting  /content/qr_data/1000 QR Images of Malicious and Benign QR codes 2025/benign_qr_images_500/qr_467_benign_images.png     \b\b\b\b 37%\b\b\b\b\b  OK \n",
            "Extracting  /content/qr_data/1000 QR Images of Malicious and Benign QR codes 2025/benign_qr_images_500/qr_468_benign_images.png     \b\b\b\b 37%\b\b\b\b\b  OK \n",
            "Extracting  /content/qr_data/1000 QR Images of Malicious and Benign QR codes 2025/benign_qr_images_500/qr_469_benign_images.png     \b\b\b\b 37%\b\b\b\b\b  OK \n",
            "Extracting  /content/qr_data/1000 QR Images of Malicious and Benign QR codes 2025/benign_qr_images_500/qr_46_benign_images.png     \b\b\b\b 37%\b\b\b\b\b  OK \n",
            "Extracting  /content/qr_data/1000 QR Images of Malicious and Benign QR codes 2025/benign_qr_images_500/qr_470_benign_images.png     \b\b\b\b 37%\b\b\b\b\b  OK \n",
            "Extracting  /content/qr_data/1000 QR Images of Malicious and Benign QR codes 2025/benign_qr_images_500/qr_471_benign_images.png     \b\b\b\b 37%\b\b\b\b\b  OK \n",
            "Extracting  /content/qr_data/1000 QR Images of Malicious and Benign QR codes 2025/benign_qr_images_500/qr_472_benign_images.png     \b\b\b\b 37%\b\b\b\b\b  OK \n",
            "Extracting  /content/qr_data/1000 QR Images of Malicious and Benign QR codes 2025/benign_qr_images_500/qr_473_benign_images.png     \b\b\b\b 37%\b\b\b\b\b  OK \n",
            "Extracting  /content/qr_data/1000 QR Images of Malicious and Benign QR codes 2025/benign_qr_images_500/qr_474_benign_images.png     \b\b\b\b 37%\b\b\b\b\b  OK \n",
            "Extracting  /content/qr_data/1000 QR Images of Malicious and Benign QR codes 2025/benign_qr_images_500/qr_475_benign_images.png     \b\b\b\b 37%\b\b\b\b\b  OK \n",
            "Extracting  /content/qr_data/1000 QR Images of Malicious and Benign QR codes 2025/benign_qr_images_500/qr_476_benign_images.png     \b\b\b\b 37%\b\b\b\b\b  OK \n",
            "Extracting  /content/qr_data/1000 QR Images of Malicious and Benign QR codes 2025/benign_qr_images_500/qr_477_benign_images.png     \b\b\b\b 38%\b\b\b\b\b  OK \n",
            "Extracting  /content/qr_data/1000 QR Images of Malicious and Benign QR codes 2025/benign_qr_images_500/qr_478_benign_images.png     \b\b\b\b 38%\b\b\b\b\b  OK \n",
            "Extracting  /content/qr_data/1000 QR Images of Malicious and Benign QR codes 2025/benign_qr_images_500/qr_479_benign_images.png     \b\b\b\b 38%\b\b\b\b\b  OK \n",
            "Extracting  /content/qr_data/1000 QR Images of Malicious and Benign QR codes 2025/benign_qr_images_500/qr_47_benign_images.png     \b\b\b\b 38%\b\b\b\b\b  OK \n",
            "Extracting  /content/qr_data/1000 QR Images of Malicious and Benign QR codes 2025/benign_qr_images_500/qr_480_benign_images.png     \b\b\b\b 38%\b\b\b\b\b  OK \n",
            "Extracting  /content/qr_data/1000 QR Images of Malicious and Benign QR codes 2025/benign_qr_images_500/qr_481_benign_images.png     \b\b\b\b 38%\b\b\b\b\b  OK \n",
            "Extracting  /content/qr_data/1000 QR Images of Malicious and Benign QR codes 2025/benign_qr_images_500/qr_482_benign_images.png     \b\b\b\b 38%\b\b\b\b\b  OK \n",
            "Extracting  /content/qr_data/1000 QR Images of Malicious and Benign QR codes 2025/benign_qr_images_500/qr_483_benign_images.png     \b\b\b\b 38%\b\b\b\b\b  OK \n",
            "Extracting  /content/qr_data/1000 QR Images of Malicious and Benign QR codes 2025/benign_qr_images_500/qr_484_benign_images.png     \b\b\b\b 38%\b\b\b\b\b  OK \n",
            "Extracting  /content/qr_data/1000 QR Images of Malicious and Benign QR codes 2025/benign_qr_images_500/qr_485_benign_images.png     \b\b\b\b 38%\b\b\b\b\b  OK \n",
            "Extracting  /content/qr_data/1000 QR Images of Malicious and Benign QR codes 2025/benign_qr_images_500/qr_486_benign_images.png     \b\b\b\b 38%\b\b\b\b\b  OK \n",
            "Extracting  /content/qr_data/1000 QR Images of Malicious and Benign QR codes 2025/benign_qr_images_500/qr_487_benign_images.png     \b\b\b\b 38%\b\b\b\b\b  OK \n",
            "Extracting  /content/qr_data/1000 QR Images of Malicious and Benign QR codes 2025/benign_qr_images_500/qr_488_benign_images.png     \b\b\b\b 39%\b\b\b\b\b  OK \n",
            "Extracting  /content/qr_data/1000 QR Images of Malicious and Benign QR codes 2025/benign_qr_images_500/qr_489_benign_images.png     \b\b\b\b 39%\b\b\b\b\b  OK \n",
            "Extracting  /content/qr_data/1000 QR Images of Malicious and Benign QR codes 2025/benign_qr_images_500/qr_48_benign_images.png     \b\b\b\b 39%\b\b\b\b\b  OK \n",
            "Extracting  /content/qr_data/1000 QR Images of Malicious and Benign QR codes 2025/benign_qr_images_500/qr_490_benign_images.png     \b\b\b\b 39%\b\b\b\b\b  OK \n",
            "Extracting  /content/qr_data/1000 QR Images of Malicious and Benign QR codes 2025/benign_qr_images_500/qr_491_benign_images.png     \b\b\b\b 39%\b\b\b\b\b  OK \n",
            "Extracting  /content/qr_data/1000 QR Images of Malicious and Benign QR codes 2025/benign_qr_images_500/qr_492_benign_images.png     \b\b\b\b 39%\b\b\b\b\b  OK \n",
            "Extracting  /content/qr_data/1000 QR Images of Malicious and Benign QR codes 2025/benign_qr_images_500/qr_493_benign_images.png     \b\b\b\b 39%\b\b\b\b\b  OK \n",
            "Extracting  /content/qr_data/1000 QR Images of Malicious and Benign QR codes 2025/benign_qr_images_500/qr_494_benign_images.png     \b\b\b\b 39%\b\b\b\b\b  OK \n",
            "Extracting  /content/qr_data/1000 QR Images of Malicious and Benign QR codes 2025/benign_qr_images_500/qr_495_benign_images.png     \b\b\b\b 39%\b\b\b\b\b  OK \n",
            "Extracting  /content/qr_data/1000 QR Images of Malicious and Benign QR codes 2025/benign_qr_images_500/qr_496_benign_images.png     \b\b\b\b 39%\b\b\b\b\b  OK \n",
            "Extracting  /content/qr_data/1000 QR Images of Malicious and Benign QR codes 2025/benign_qr_images_500/qr_497_benign_images.png     \b\b\b\b 39%\b\b\b\b\b  OK \n",
            "Extracting  /content/qr_data/1000 QR Images of Malicious and Benign QR codes 2025/benign_qr_images_500/qr_498_benign_images.png     \b\b\b\b 40%\b\b\b\b\b  OK \n",
            "Extracting  /content/qr_data/1000 QR Images of Malicious and Benign QR codes 2025/benign_qr_images_500/qr_499_benign_images.png     \b\b\b\b 40%\b\b\b\b\b  OK \n",
            "Extracting  /content/qr_data/1000 QR Images of Malicious and Benign QR codes 2025/benign_qr_images_500/qr_49_benign_images.png     \b\b\b\b 40%\b\b\b\b\b  OK \n",
            "Extracting  /content/qr_data/1000 QR Images of Malicious and Benign QR codes 2025/benign_qr_images_500/qr_4_benign_images.png     \b\b\b\b 40%\b\b\b\b\b  OK \n",
            "Extracting  /content/qr_data/1000 QR Images of Malicious and Benign QR codes 2025/benign_qr_images_500/qr_50_benign_images.png     \b\b\b\b 40%\b\b\b\b\b  OK \n",
            "Extracting  /content/qr_data/1000 QR Images of Malicious and Benign QR codes 2025/benign_qr_images_500/qr_51_benign_images.png     \b\b\b\b 40%\b\b\b\b\b  OK \n",
            "Extracting  /content/qr_data/1000 QR Images of Malicious and Benign QR codes 2025/benign_qr_images_500/qr_52_benign_images.png     \b\b\b\b 40%\b\b\b\b\b  OK \n",
            "Extracting  /content/qr_data/1000 QR Images of Malicious and Benign QR codes 2025/benign_qr_images_500/qr_53_benign_images.png     \b\b\b\b 40%\b\b\b\b\b  OK \n",
            "Extracting  /content/qr_data/1000 QR Images of Malicious and Benign QR codes 2025/benign_qr_images_500/qr_54_benign_images.png     \b\b\b\b 40%\b\b\b\b\b  OK \n",
            "Extracting  /content/qr_data/1000 QR Images of Malicious and Benign QR codes 2025/benign_qr_images_500/qr_55_benign_images.png     \b\b\b\b 40%\b\b\b\b\b  OK \n",
            "Extracting  /content/qr_data/1000 QR Images of Malicious and Benign QR codes 2025/benign_qr_images_500/qr_56_benign_images.png     \b\b\b\b 40%\b\b\b\b\b  OK \n",
            "Extracting  /content/qr_data/1000 QR Images of Malicious and Benign QR codes 2025/benign_qr_images_500/qr_57_benign_images.png     \b\b\b\b 41%\b\b\b\b\b  OK \n",
            "Extracting  /content/qr_data/1000 QR Images of Malicious and Benign QR codes 2025/benign_qr_images_500/qr_58_benign_images.png     \b\b\b\b 41%\b\b\b\b\b  OK \n",
            "Extracting  /content/qr_data/1000 QR Images of Malicious and Benign QR codes 2025/benign_qr_images_500/qr_59_benign_images.png     \b\b\b\b 41%\b\b\b\b\b  OK \n",
            "Extracting  /content/qr_data/1000 QR Images of Malicious and Benign QR codes 2025/benign_qr_images_500/qr_5_benign_images.png     \b\b\b\b 41%\b\b\b\b\b  OK \n",
            "Extracting  /content/qr_data/1000 QR Images of Malicious and Benign QR codes 2025/benign_qr_images_500/qr_60_benign_images.png     \b\b\b\b 41%\b\b\b\b\b  OK \n",
            "Extracting  /content/qr_data/1000 QR Images of Malicious and Benign QR codes 2025/benign_qr_images_500/qr_61_benign_images.png     \b\b\b\b 41%\b\b\b\b\b  OK \n",
            "Extracting  /content/qr_data/1000 QR Images of Malicious and Benign QR codes 2025/benign_qr_images_500/qr_62_benign_images.png     \b\b\b\b 41%\b\b\b\b\b  OK \n",
            "Extracting  /content/qr_data/1000 QR Images of Malicious and Benign QR codes 2025/benign_qr_images_500/qr_63_benign_images.png     \b\b\b\b 41%\b\b\b\b\b  OK \n",
            "Extracting  /content/qr_data/1000 QR Images of Malicious and Benign QR codes 2025/benign_qr_images_500/qr_64_benign_images.png     \b\b\b\b 41%\b\b\b\b\b  OK \n",
            "Extracting  /content/qr_data/1000 QR Images of Malicious and Benign QR codes 2025/benign_qr_images_500/qr_65_benign_images.png     \b\b\b\b 41%\b\b\b\b\b  OK \n",
            "Extracting  /content/qr_data/1000 QR Images of Malicious and Benign QR codes 2025/benign_qr_images_500/qr_66_benign_images.png     \b\b\b\b 41%\b\b\b\b\b  OK \n",
            "Extracting  /content/qr_data/1000 QR Images of Malicious and Benign QR codes 2025/benign_qr_images_500/qr_67_benign_images.png     \b\b\b\b 42%\b\b\b\b\b  OK \n",
            "Extracting  /content/qr_data/1000 QR Images of Malicious and Benign QR codes 2025/benign_qr_images_500/qr_68_benign_images.png     \b\b\b\b 42%\b\b\b\b\b  OK \n",
            "Extracting  /content/qr_data/1000 QR Images of Malicious and Benign QR codes 2025/benign_qr_images_500/qr_69_benign_images.png     \b\b\b\b 42%\b\b\b\b\b  OK \n",
            "Extracting  /content/qr_data/1000 QR Images of Malicious and Benign QR codes 2025/benign_qr_images_500/qr_6_benign_images.png     \b\b\b\b 42%\b\b\b\b\b  OK \n",
            "Extracting  /content/qr_data/1000 QR Images of Malicious and Benign QR codes 2025/benign_qr_images_500/qr_70_benign_images.png     \b\b\b\b 42%\b\b\b\b\b  OK \n",
            "Extracting  /content/qr_data/1000 QR Images of Malicious and Benign QR codes 2025/benign_qr_images_500/qr_71_benign_images.png     \b\b\b\b 42%\b\b\b\b\b  OK \n",
            "Extracting  /content/qr_data/1000 QR Images of Malicious and Benign QR codes 2025/benign_qr_images_500/qr_72_benign_images.png     \b\b\b\b 42%\b\b\b\b\b  OK \n",
            "Extracting  /content/qr_data/1000 QR Images of Malicious and Benign QR codes 2025/benign_qr_images_500/qr_73_benign_images.png     \b\b\b\b 42%\b\b\b\b\b  OK \n",
            "Extracting  /content/qr_data/1000 QR Images of Malicious and Benign QR codes 2025/benign_qr_images_500/qr_74_benign_images.png     \b\b\b\b 42%\b\b\b\b\b  OK \n",
            "Extracting  /content/qr_data/1000 QR Images of Malicious and Benign QR codes 2025/benign_qr_images_500/qr_75_benign_images.png     \b\b\b\b 42%\b\b\b\b\b  OK \n",
            "Extracting  /content/qr_data/1000 QR Images of Malicious and Benign QR codes 2025/benign_qr_images_500/qr_76_benign_images.png     \b\b\b\b 42%\b\b\b\b\b  OK \n",
            "Extracting  /content/qr_data/1000 QR Images of Malicious and Benign QR codes 2025/benign_qr_images_500/qr_77_benign_images.png     \b\b\b\b 43%\b\b\b\b\b  OK \n",
            "Extracting  /content/qr_data/1000 QR Images of Malicious and Benign QR codes 2025/benign_qr_images_500/qr_78_benign_images.png     \b\b\b\b 43%\b\b\b\b\b  OK \n",
            "Extracting  /content/qr_data/1000 QR Images of Malicious and Benign QR codes 2025/benign_qr_images_500/qr_79_benign_images.png     \b\b\b\b 43%\b\b\b\b\b  OK \n",
            "Extracting  /content/qr_data/1000 QR Images of Malicious and Benign QR codes 2025/benign_qr_images_500/qr_7_benign_images.png     \b\b\b\b 43%\b\b\b\b\b  OK \n",
            "Extracting  /content/qr_data/1000 QR Images of Malicious and Benign QR codes 2025/benign_qr_images_500/qr_80_benign_images.png     \b\b\b\b 43%\b\b\b\b\b  OK \n",
            "Extracting  /content/qr_data/1000 QR Images of Malicious and Benign QR codes 2025/benign_qr_images_500/qr_81_benign_images.png     \b\b\b\b 43%\b\b\b\b\b  OK \n",
            "Extracting  /content/qr_data/1000 QR Images of Malicious and Benign QR codes 2025/benign_qr_images_500/qr_82_benign_images.png     \b\b\b\b 43%\b\b\b\b\b  OK \n",
            "Extracting  /content/qr_data/1000 QR Images of Malicious and Benign QR codes 2025/benign_qr_images_500/qr_83_benign_images.png     \b\b\b\b 43%\b\b\b\b\b  OK \n",
            "Extracting  /content/qr_data/1000 QR Images of Malicious and Benign QR codes 2025/benign_qr_images_500/qr_84_benign_images.png     \b\b\b\b 43%\b\b\b\b\b  OK \n",
            "Extracting  /content/qr_data/1000 QR Images of Malicious and Benign QR codes 2025/benign_qr_images_500/qr_85_benign_images.png     \b\b\b\b 43%\b\b\b\b\b  OK \n",
            "Extracting  /content/qr_data/1000 QR Images of Malicious and Benign QR codes 2025/benign_qr_images_500/qr_86_benign_images.png     \b\b\b\b 43%\b\b\b\b\b  OK \n",
            "Extracting  /content/qr_data/1000 QR Images of Malicious and Benign QR codes 2025/benign_qr_images_500/qr_87_benign_images.png     \b\b\b\b 44%\b\b\b\b\b  OK \n",
            "Extracting  /content/qr_data/1000 QR Images of Malicious and Benign QR codes 2025/benign_qr_images_500/qr_88_benign_images.png     \b\b\b\b 44%\b\b\b\b\b  OK \n",
            "Extracting  /content/qr_data/1000 QR Images of Malicious and Benign QR codes 2025/benign_qr_images_500/qr_89_benign_images.png     \b\b\b\b 44%\b\b\b\b\b  OK \n",
            "Extracting  /content/qr_data/1000 QR Images of Malicious and Benign QR codes 2025/benign_qr_images_500/qr_8_benign_images.png     \b\b\b\b 44%\b\b\b\b\b  OK \n",
            "Extracting  /content/qr_data/1000 QR Images of Malicious and Benign QR codes 2025/benign_qr_images_500/qr_90_benign_images.png     \b\b\b\b 44%\b\b\b\b\b  OK \n",
            "Extracting  /content/qr_data/1000 QR Images of Malicious and Benign QR codes 2025/benign_qr_images_500/qr_91_benign_images.png     \b\b\b\b 44%\b\b\b\b\b  OK \n",
            "Extracting  /content/qr_data/1000 QR Images of Malicious and Benign QR codes 2025/benign_qr_images_500/qr_92_benign_images.png     \b\b\b\b 44%\b\b\b\b\b  OK \n",
            "Extracting  /content/qr_data/1000 QR Images of Malicious and Benign QR codes 2025/benign_qr_images_500/qr_93_benign_images.png     \b\b\b\b 44%\b\b\b\b\b  OK \n",
            "Extracting  /content/qr_data/1000 QR Images of Malicious and Benign QR codes 2025/benign_qr_images_500/qr_94_benign_images.png     \b\b\b\b 44%\b\b\b\b\b  OK \n",
            "Extracting  /content/qr_data/1000 QR Images of Malicious and Benign QR codes 2025/benign_qr_images_500/qr_95_benign_images.png     \b\b\b\b 44%\b\b\b\b\b  OK \n",
            "Extracting  /content/qr_data/1000 QR Images of Malicious and Benign QR codes 2025/benign_qr_images_500/qr_96_benign_images.png     \b\b\b\b 44%\b\b\b\b\b  OK \n",
            "Extracting  /content/qr_data/1000 QR Images of Malicious and Benign QR codes 2025/benign_qr_images_500/qr_97_benign_images.png     \b\b\b\b 45%\b\b\b\b\b  OK \n",
            "Extracting  /content/qr_data/1000 QR Images of Malicious and Benign QR codes 2025/benign_qr_images_500/qr_98_benign_images.png     \b\b\b\b 45%\b\b\b\b\b  OK \n",
            "Extracting  /content/qr_data/1000 QR Images of Malicious and Benign QR codes 2025/benign_qr_images_500/qr_99_benign_images.png     \b\b\b\b 45%\b\b\b\b\b  OK \n",
            "Extracting  /content/qr_data/1000 QR Images of Malicious and Benign QR codes 2025/benign_qr_images_500/qr_9_benign_images.png     \b\b\b\b 45%\b\b\b\b\b  OK \n",
            "Creating    /content/qr_data/1000 QR Images of Malicious and Benign QR codes 2025/malicious_qr_images_500  OK\n",
            "Extracting  /content/qr_data/1000 QR Images of Malicious and Benign QR codes 2025/malicious_qr_images_500/qr_0_malicious_images.png     \b\b\b\b 45%\b\b\b\b\b  OK \n",
            "Extracting  /content/qr_data/1000 QR Images of Malicious and Benign QR codes 2025/malicious_qr_images_500/qr_100_malicious_images.png     \b\b\b\b 45%\b\b\b\b\b  OK \n",
            "Extracting  /content/qr_data/1000 QR Images of Malicious and Benign QR codes 2025/malicious_qr_images_500/qr_101_malicious_images.png     \b\b\b\b 45%\b\b\b\b\b  OK \n",
            "Extracting  /content/qr_data/1000 QR Images of Malicious and Benign QR codes 2025/malicious_qr_images_500/qr_102_malicious_images.png     \b\b\b\b 45%\b\b\b\b\b  OK \n",
            "Extracting  /content/qr_data/1000 QR Images of Malicious and Benign QR codes 2025/malicious_qr_images_500/qr_103_malicious_images.png     \b\b\b\b 45%\b\b\b\b\b  OK \n",
            "Extracting  /content/qr_data/1000 QR Images of Malicious and Benign QR codes 2025/malicious_qr_images_500/qr_104_malicious_images.png     \b\b\b\b 45%\b\b\b\b\b  OK \n",
            "Extracting  /content/qr_data/1000 QR Images of Malicious and Benign QR codes 2025/malicious_qr_images_500/qr_105_malicious_images.png     \b\b\b\b 46%\b\b\b\b\b  OK \n",
            "Extracting  /content/qr_data/1000 QR Images of Malicious and Benign QR codes 2025/malicious_qr_images_500/qr_106_malicious_images.png     \b\b\b\b 46%\b\b\b\b\b  OK \n",
            "Extracting  /content/qr_data/1000 QR Images of Malicious and Benign QR codes 2025/malicious_qr_images_500/qr_107_malicious_images.png     \b\b\b\b 46%\b\b\b\b\b  OK \n",
            "Extracting  /content/qr_data/1000 QR Images of Malicious and Benign QR codes 2025/malicious_qr_images_500/qr_108_malicious_images.png     \b\b\b\b 46%\b\b\b\b\b  OK \n",
            "Extracting  /content/qr_data/1000 QR Images of Malicious and Benign QR codes 2025/malicious_qr_images_500/qr_109_malicious_images.png     \b\b\b\b 46%\b\b\b\b\b  OK \n",
            "Extracting  /content/qr_data/1000 QR Images of Malicious and Benign QR codes 2025/malicious_qr_images_500/qr_10_malicious_images.png     \b\b\b\b 46%\b\b\b\b\b  OK \n",
            "Extracting  /content/qr_data/1000 QR Images of Malicious and Benign QR codes 2025/malicious_qr_images_500/qr_110_malicious_images.png     \b\b\b\b 46%\b\b\b\b\b  OK \n",
            "Extracting  /content/qr_data/1000 QR Images of Malicious and Benign QR codes 2025/malicious_qr_images_500/qr_111_malicious_images.png     \b\b\b\b 46%\b\b\b\b\b  OK \n",
            "Extracting  /content/qr_data/1000 QR Images of Malicious and Benign QR codes 2025/malicious_qr_images_500/qr_112_malicious_images.png     \b\b\b\b 46%\b\b\b\b\b  OK \n",
            "Extracting  /content/qr_data/1000 QR Images of Malicious and Benign QR codes 2025/malicious_qr_images_500/qr_113_malicious_images.png     \b\b\b\b 47%\b\b\b\b\b  OK \n",
            "Extracting  /content/qr_data/1000 QR Images of Malicious and Benign QR codes 2025/malicious_qr_images_500/qr_114_malicious_images.png     \b\b\b\b 47%\b\b\b\b\b  OK \n",
            "Extracting  /content/qr_data/1000 QR Images of Malicious and Benign QR codes 2025/malicious_qr_images_500/qr_115_malicious_images.png     \b\b\b\b 47%\b\b\b\b\b  OK \n",
            "Extracting  /content/qr_data/1000 QR Images of Malicious and Benign QR codes 2025/malicious_qr_images_500/qr_116_malicious_images.png     \b\b\b\b 47%\b\b\b\b\b  OK \n",
            "Extracting  /content/qr_data/1000 QR Images of Malicious and Benign QR codes 2025/malicious_qr_images_500/qr_117_malicious_images.png     \b\b\b\b 47%\b\b\b\b\b  OK \n",
            "Extracting  /content/qr_data/1000 QR Images of Malicious and Benign QR codes 2025/malicious_qr_images_500/qr_118_malicious_images.png     \b\b\b\b 47%\b\b\b\b\b  OK \n",
            "Extracting  /content/qr_data/1000 QR Images of Malicious and Benign QR codes 2025/malicious_qr_images_500/qr_119_malicious_images.png     \b\b\b\b 47%\b\b\b\b\b  OK \n",
            "Extracting  /content/qr_data/1000 QR Images of Malicious and Benign QR codes 2025/malicious_qr_images_500/qr_11_malicious_images.png     \b\b\b\b 47%\b\b\b\b\b  OK \n",
            "Extracting  /content/qr_data/1000 QR Images of Malicious and Benign QR codes 2025/malicious_qr_images_500/qr_120_malicious_images.png     \b\b\b\b 47%\b\b\b\b\b  OK \n",
            "Extracting  /content/qr_data/1000 QR Images of Malicious and Benign QR codes 2025/malicious_qr_images_500/qr_121_malicious_images.png     \b\b\b\b 48%\b\b\b\b\b  OK \n",
            "Extracting  /content/qr_data/1000 QR Images of Malicious and Benign QR codes 2025/malicious_qr_images_500/qr_122_malicious_images.png     \b\b\b\b 48%\b\b\b\b\b  OK \n",
            "Extracting  /content/qr_data/1000 QR Images of Malicious and Benign QR codes 2025/malicious_qr_images_500/qr_123_malicious_images.png     \b\b\b\b 48%\b\b\b\b\b  OK \n",
            "Extracting  /content/qr_data/1000 QR Images of Malicious and Benign QR codes 2025/malicious_qr_images_500/qr_124_malicious_images.png     \b\b\b\b 48%\b\b\b\b\b  OK \n",
            "Extracting  /content/qr_data/1000 QR Images of Malicious and Benign QR codes 2025/malicious_qr_images_500/qr_125_malicious_images.png     \b\b\b\b 48%\b\b\b\b\b  OK \n",
            "Extracting  /content/qr_data/1000 QR Images of Malicious and Benign QR codes 2025/malicious_qr_images_500/qr_126_malicious_images.png     \b\b\b\b 48%\b\b\b\b\b  OK \n",
            "Extracting  /content/qr_data/1000 QR Images of Malicious and Benign QR codes 2025/malicious_qr_images_500/qr_127_malicious_images.png     \b\b\b\b 48%\b\b\b\b\b  OK \n",
            "Extracting  /content/qr_data/1000 QR Images of Malicious and Benign QR codes 2025/malicious_qr_images_500/qr_128_malicious_images.png     \b\b\b\b 48%\b\b\b\b\b  OK \n",
            "Extracting  /content/qr_data/1000 QR Images of Malicious and Benign QR codes 2025/malicious_qr_images_500/qr_129_malicious_images.png     \b\b\b\b 48%\b\b\b\b\b  OK \n",
            "Extracting  /content/qr_data/1000 QR Images of Malicious and Benign QR codes 2025/malicious_qr_images_500/qr_12_malicious_images.png     \b\b\b\b 48%\b\b\b\b\b  OK \n",
            "Extracting  /content/qr_data/1000 QR Images of Malicious and Benign QR codes 2025/malicious_qr_images_500/qr_130_malicious_images.png     \b\b\b\b 49%\b\b\b\b\b  OK \n",
            "Extracting  /content/qr_data/1000 QR Images of Malicious and Benign QR codes 2025/malicious_qr_images_500/qr_131_malicious_images.png     \b\b\b\b 49%\b\b\b\b\b  OK \n",
            "Extracting  /content/qr_data/1000 QR Images of Malicious and Benign QR codes 2025/malicious_qr_images_500/qr_132_malicious_images.png     \b\b\b\b 49%\b\b\b\b\b  OK \n",
            "Extracting  /content/qr_data/1000 QR Images of Malicious and Benign QR codes 2025/malicious_qr_images_500/qr_133_malicious_images.png     \b\b\b\b 49%\b\b\b\b\b  OK \n",
            "Extracting  /content/qr_data/1000 QR Images of Malicious and Benign QR codes 2025/malicious_qr_images_500/qr_134_malicious_images.png     \b\b\b\b 49%\b\b\b\b\b  OK \n",
            "Extracting  /content/qr_data/1000 QR Images of Malicious and Benign QR codes 2025/malicious_qr_images_500/qr_135_malicious_images.png     \b\b\b\b 49%\b\b\b\b\b  OK \n",
            "Extracting  /content/qr_data/1000 QR Images of Malicious and Benign QR codes 2025/malicious_qr_images_500/qr_136_malicious_images.png     \b\b\b\b 49%\b\b\b\b\b  OK \n",
            "Extracting  /content/qr_data/1000 QR Images of Malicious and Benign QR codes 2025/malicious_qr_images_500/qr_137_malicious_images.png     \b\b\b\b 49%\b\b\b\b\b  OK \n",
            "Extracting  /content/qr_data/1000 QR Images of Malicious and Benign QR codes 2025/malicious_qr_images_500/qr_138_malicious_images.png     \b\b\b\b 50%\b\b\b\b\b  OK \n",
            "Extracting  /content/qr_data/1000 QR Images of Malicious and Benign QR codes 2025/malicious_qr_images_500/qr_139_malicious_images.png     \b\b\b\b 50%\b\b\b\b\b  OK \n",
            "Extracting  /content/qr_data/1000 QR Images of Malicious and Benign QR codes 2025/malicious_qr_images_500/qr_13_malicious_images.png     \b\b\b\b 50%\b\b\b\b\b  OK \n",
            "Extracting  /content/qr_data/1000 QR Images of Malicious and Benign QR codes 2025/malicious_qr_images_500/qr_140_malicious_images.png     \b\b\b\b 50%\b\b\b\b\b  OK \n",
            "Extracting  /content/qr_data/1000 QR Images of Malicious and Benign QR codes 2025/malicious_qr_images_500/qr_141_malicious_images.png     \b\b\b\b 50%\b\b\b\b\b  OK \n",
            "Extracting  /content/qr_data/1000 QR Images of Malicious and Benign QR codes 2025/malicious_qr_images_500/qr_142_malicious_images.png     \b\b\b\b 50%\b\b\b\b\b  OK \n",
            "Extracting  /content/qr_data/1000 QR Images of Malicious and Benign QR codes 2025/malicious_qr_images_500/qr_143_malicious_images.png     \b\b\b\b 50%\b\b\b\b\b  OK \n",
            "Extracting  /content/qr_data/1000 QR Images of Malicious and Benign QR codes 2025/malicious_qr_images_500/qr_144_malicious_images.png     \b\b\b\b 50%\b\b\b\b\b  OK \n",
            "Extracting  /content/qr_data/1000 QR Images of Malicious and Benign QR codes 2025/malicious_qr_images_500/qr_145_malicious_images.png     \b\b\b\b 50%\b\b\b\b\b  OK \n",
            "Extracting  /content/qr_data/1000 QR Images of Malicious and Benign QR codes 2025/malicious_qr_images_500/qr_146_malicious_images.png     \b\b\b\b 51%\b\b\b\b\b  OK \n",
            "Extracting  /content/qr_data/1000 QR Images of Malicious and Benign QR codes 2025/malicious_qr_images_500/qr_147_malicious_images.png     \b\b\b\b 51%\b\b\b\b\b  OK \n",
            "Extracting  /content/qr_data/1000 QR Images of Malicious and Benign QR codes 2025/malicious_qr_images_500/qr_148_malicious_images.png     \b\b\b\b 51%\b\b\b\b\b  OK \n",
            "Extracting  /content/qr_data/1000 QR Images of Malicious and Benign QR codes 2025/malicious_qr_images_500/qr_149_malicious_images.png     \b\b\b\b 51%\b\b\b\b\b  OK \n",
            "Extracting  /content/qr_data/1000 QR Images of Malicious and Benign QR codes 2025/malicious_qr_images_500/qr_14_malicious_images.png     \b\b\b\b 51%\b\b\b\b\b  OK \n",
            "Extracting  /content/qr_data/1000 QR Images of Malicious and Benign QR codes 2025/malicious_qr_images_500/qr_150_malicious_images.png     \b\b\b\b 51%\b\b\b\b\b  OK \n",
            "Extracting  /content/qr_data/1000 QR Images of Malicious and Benign QR codes 2025/malicious_qr_images_500/qr_151_malicious_images.png     \b\b\b\b 51%\b\b\b\b\b  OK \n",
            "Extracting  /content/qr_data/1000 QR Images of Malicious and Benign QR codes 2025/malicious_qr_images_500/qr_152_malicious_images.png     \b\b\b\b 51%\b\b\b\b\b  OK \n",
            "Extracting  /content/qr_data/1000 QR Images of Malicious and Benign QR codes 2025/malicious_qr_images_500/qr_153_malicious_images.png     \b\b\b\b 51%\b\b\b\b\b  OK \n",
            "Extracting  /content/qr_data/1000 QR Images of Malicious and Benign QR codes 2025/malicious_qr_images_500/qr_154_malicious_images.png     \b\b\b\b 52%\b\b\b\b\b  OK \n",
            "Extracting  /content/qr_data/1000 QR Images of Malicious and Benign QR codes 2025/malicious_qr_images_500/qr_155_malicious_images.png     \b\b\b\b 52%\b\b\b\b\b  OK \n",
            "Extracting  /content/qr_data/1000 QR Images of Malicious and Benign QR codes 2025/malicious_qr_images_500/qr_156_malicious_images.png     \b\b\b\b 52%\b\b\b\b\b  OK \n",
            "Extracting  /content/qr_data/1000 QR Images of Malicious and Benign QR codes 2025/malicious_qr_images_500/qr_157_malicious_images.png     \b\b\b\b 52%\b\b\b\b\b  OK \n",
            "Extracting  /content/qr_data/1000 QR Images of Malicious and Benign QR codes 2025/malicious_qr_images_500/qr_158_malicious_images.png     \b\b\b\b 52%\b\b\b\b\b  OK \n",
            "Extracting  /content/qr_data/1000 QR Images of Malicious and Benign QR codes 2025/malicious_qr_images_500/qr_159_malicious_images.png     \b\b\b\b 52%\b\b\b\b\b  OK \n",
            "Extracting  /content/qr_data/1000 QR Images of Malicious and Benign QR codes 2025/malicious_qr_images_500/qr_15_malicious_images.png     \b\b\b\b 52%\b\b\b\b\b  OK \n",
            "Extracting  /content/qr_data/1000 QR Images of Malicious and Benign QR codes 2025/malicious_qr_images_500/qr_160_malicious_images.png     \b\b\b\b 52%\b\b\b\b\b  OK \n",
            "Extracting  /content/qr_data/1000 QR Images of Malicious and Benign QR codes 2025/malicious_qr_images_500/qr_161_malicious_images.png     \b\b\b\b 52%\b\b\b\b\b  OK \n",
            "Extracting  /content/qr_data/1000 QR Images of Malicious and Benign QR codes 2025/malicious_qr_images_500/qr_162_malicious_images.png     \b\b\b\b 53%\b\b\b\b\b  OK \n",
            "Extracting  /content/qr_data/1000 QR Images of Malicious and Benign QR codes 2025/malicious_qr_images_500/qr_163_malicious_images.png     \b\b\b\b 53%\b\b\b\b\b  OK \n",
            "Extracting  /content/qr_data/1000 QR Images of Malicious and Benign QR codes 2025/malicious_qr_images_500/qr_164_malicious_images.png     \b\b\b\b 53%\b\b\b\b\b  OK \n",
            "Extracting  /content/qr_data/1000 QR Images of Malicious and Benign QR codes 2025/malicious_qr_images_500/qr_165_malicious_images.png     \b\b\b\b 53%\b\b\b\b\b  OK \n",
            "Extracting  /content/qr_data/1000 QR Images of Malicious and Benign QR codes 2025/malicious_qr_images_500/qr_166_malicious_images.png     \b\b\b\b 53%\b\b\b\b\b  OK \n",
            "Extracting  /content/qr_data/1000 QR Images of Malicious and Benign QR codes 2025/malicious_qr_images_500/qr_167_malicious_images.png     \b\b\b\b 53%\b\b\b\b\b  OK \n",
            "Extracting  /content/qr_data/1000 QR Images of Malicious and Benign QR codes 2025/malicious_qr_images_500/qr_168_malicious_images.png     \b\b\b\b 53%\b\b\b\b\b  OK \n",
            "Extracting  /content/qr_data/1000 QR Images of Malicious and Benign QR codes 2025/malicious_qr_images_500/qr_169_malicious_images.png     \b\b\b\b 53%\b\b\b\b\b  OK \n",
            "Extracting  /content/qr_data/1000 QR Images of Malicious and Benign QR codes 2025/malicious_qr_images_500/qr_16_malicious_images.png     \b\b\b\b 53%\b\b\b\b\b  OK \n",
            "Extracting  /content/qr_data/1000 QR Images of Malicious and Benign QR codes 2025/malicious_qr_images_500/qr_170_malicious_images.png     \b\b\b\b 53%\b\b\b\b\b  OK \n",
            "Extracting  /content/qr_data/1000 QR Images of Malicious and Benign QR codes 2025/malicious_qr_images_500/qr_171_malicious_images.png     \b\b\b\b 54%\b\b\b\b\b  OK \n",
            "Extracting  /content/qr_data/1000 QR Images of Malicious and Benign QR codes 2025/malicious_qr_images_500/qr_172_malicious_images.png     \b\b\b\b 54%\b\b\b\b\b  OK \n",
            "Extracting  /content/qr_data/1000 QR Images of Malicious and Benign QR codes 2025/malicious_qr_images_500/qr_173_malicious_images.png     \b\b\b\b 54%\b\b\b\b\b  OK \n",
            "Extracting  /content/qr_data/1000 QR Images of Malicious and Benign QR codes 2025/malicious_qr_images_500/qr_174_malicious_images.png     \b\b\b\b 54%\b\b\b\b\b  OK \n",
            "Extracting  /content/qr_data/1000 QR Images of Malicious and Benign QR codes 2025/malicious_qr_images_500/qr_175_malicious_images.png     \b\b\b\b 54%\b\b\b\b\b  OK \n",
            "Extracting  /content/qr_data/1000 QR Images of Malicious and Benign QR codes 2025/malicious_qr_images_500/qr_176_malicious_images.png     \b\b\b\b 54%\b\b\b\b\b  OK \n",
            "Extracting  /content/qr_data/1000 QR Images of Malicious and Benign QR codes 2025/malicious_qr_images_500/qr_177_malicious_images.png     \b\b\b\b 54%\b\b\b\b\b  OK \n",
            "Extracting  /content/qr_data/1000 QR Images of Malicious and Benign QR codes 2025/malicious_qr_images_500/qr_178_malicious_images.png     \b\b\b\b 55%\b\b\b\b\b  OK \n",
            "Extracting  /content/qr_data/1000 QR Images of Malicious and Benign QR codes 2025/malicious_qr_images_500/qr_179_malicious_images.png     \b\b\b\b 55%\b\b\b\b\b  OK \n",
            "Extracting  /content/qr_data/1000 QR Images of Malicious and Benign QR codes 2025/malicious_qr_images_500/qr_17_malicious_images.png     \b\b\b\b 55%\b\b\b\b\b  OK \n",
            "Extracting  /content/qr_data/1000 QR Images of Malicious and Benign QR codes 2025/malicious_qr_images_500/qr_180_malicious_images.png     \b\b\b\b 55%\b\b\b\b\b  OK \n",
            "Extracting  /content/qr_data/1000 QR Images of Malicious and Benign QR codes 2025/malicious_qr_images_500/qr_181_malicious_images.png     \b\b\b\b 55%\b\b\b\b\b  OK \n",
            "Extracting  /content/qr_data/1000 QR Images of Malicious and Benign QR codes 2025/malicious_qr_images_500/qr_182_malicious_images.png     \b\b\b\b 55%\b\b\b\b\b  OK \n",
            "Extracting  /content/qr_data/1000 QR Images of Malicious and Benign QR codes 2025/malicious_qr_images_500/qr_183_malicious_images.png     \b\b\b\b 55%\b\b\b\b\b  OK \n",
            "Extracting  /content/qr_data/1000 QR Images of Malicious and Benign QR codes 2025/malicious_qr_images_500/qr_184_malicious_images.png     \b\b\b\b 55%\b\b\b\b\b  OK \n",
            "Extracting  /content/qr_data/1000 QR Images of Malicious and Benign QR codes 2025/malicious_qr_images_500/qr_185_malicious_images.png     \b\b\b\b 55%\b\b\b\b\b  OK \n",
            "Extracting  /content/qr_data/1000 QR Images of Malicious and Benign QR codes 2025/malicious_qr_images_500/qr_186_malicious_images.png     \b\b\b\b 56%\b\b\b\b\b  OK \n",
            "Extracting  /content/qr_data/1000 QR Images of Malicious and Benign QR codes 2025/malicious_qr_images_500/qr_187_malicious_images.png     \b\b\b\b 56%\b\b\b\b\b  OK \n",
            "Extracting  /content/qr_data/1000 QR Images of Malicious and Benign QR codes 2025/malicious_qr_images_500/qr_188_malicious_images.png     \b\b\b\b 56%\b\b\b\b\b  OK \n",
            "Extracting  /content/qr_data/1000 QR Images of Malicious and Benign QR codes 2025/malicious_qr_images_500/qr_189_malicious_images.png     \b\b\b\b 56%\b\b\b\b\b  OK \n",
            "Extracting  /content/qr_data/1000 QR Images of Malicious and Benign QR codes 2025/malicious_qr_images_500/qr_18_malicious_images.png     \b\b\b\b 56%\b\b\b\b\b  OK \n",
            "Extracting  /content/qr_data/1000 QR Images of Malicious and Benign QR codes 2025/malicious_qr_images_500/qr_190_malicious_images.png     \b\b\b\b 56%\b\b\b\b\b  OK \n",
            "Extracting  /content/qr_data/1000 QR Images of Malicious and Benign QR codes 2025/malicious_qr_images_500/qr_191_malicious_images.png     \b\b\b\b 56%\b\b\b\b\b  OK \n",
            "Extracting  /content/qr_data/1000 QR Images of Malicious and Benign QR codes 2025/malicious_qr_images_500/qr_192_malicious_images.png     \b\b\b\b 56%\b\b\b\b\b  OK \n",
            "Extracting  /content/qr_data/1000 QR Images of Malicious and Benign QR codes 2025/malicious_qr_images_500/qr_193_malicious_images.png     \b\b\b\b 56%\b\b\b\b\b  OK \n",
            "Extracting  /content/qr_data/1000 QR Images of Malicious and Benign QR codes 2025/malicious_qr_images_500/qr_194_malicious_images.png     \b\b\b\b 57%\b\b\b\b\b  OK \n",
            "Extracting  /content/qr_data/1000 QR Images of Malicious and Benign QR codes 2025/malicious_qr_images_500/qr_195_malicious_images.png     \b\b\b\b 57%\b\b\b\b\b  OK \n",
            "Extracting  /content/qr_data/1000 QR Images of Malicious and Benign QR codes 2025/malicious_qr_images_500/qr_196_malicious_images.png     \b\b\b\b 57%\b\b\b\b\b  OK \n",
            "Extracting  /content/qr_data/1000 QR Images of Malicious and Benign QR codes 2025/malicious_qr_images_500/qr_197_malicious_images.png     \b\b\b\b 57%\b\b\b\b\b  OK \n",
            "Extracting  /content/qr_data/1000 QR Images of Malicious and Benign QR codes 2025/malicious_qr_images_500/qr_198_malicious_images.png     \b\b\b\b 57%\b\b\b\b\b  OK \n",
            "Extracting  /content/qr_data/1000 QR Images of Malicious and Benign QR codes 2025/malicious_qr_images_500/qr_199_malicious_images.png     \b\b\b\b 57%\b\b\b\b\b  OK \n",
            "Extracting  /content/qr_data/1000 QR Images of Malicious and Benign QR codes 2025/malicious_qr_images_500/qr_19_malicious_images.png     \b\b\b\b 57%\b\b\b\b\b  OK \n",
            "Extracting  /content/qr_data/1000 QR Images of Malicious and Benign QR codes 2025/malicious_qr_images_500/qr_1_malicious_images.png     \b\b\b\b 57%\b\b\b\b\b  OK \n",
            "Extracting  /content/qr_data/1000 QR Images of Malicious and Benign QR codes 2025/malicious_qr_images_500/qr_200_malicious_images.png     \b\b\b\b 57%\b\b\b\b\b  OK \n",
            "Extracting  /content/qr_data/1000 QR Images of Malicious and Benign QR codes 2025/malicious_qr_images_500/qr_201_malicious_images.png     \b\b\b\b 57%\b\b\b\b\b  OK \n",
            "Extracting  /content/qr_data/1000 QR Images of Malicious and Benign QR codes 2025/malicious_qr_images_500/qr_202_malicious_images.png     \b\b\b\b 58%\b\b\b\b\b  OK \n",
            "Extracting  /content/qr_data/1000 QR Images of Malicious and Benign QR codes 2025/malicious_qr_images_500/qr_203_malicious_images.png     \b\b\b\b 58%\b\b\b\b\b  OK \n",
            "Extracting  /content/qr_data/1000 QR Images of Malicious and Benign QR codes 2025/malicious_qr_images_500/qr_204_malicious_images.png     \b\b\b\b 58%\b\b\b\b\b  OK \n",
            "Extracting  /content/qr_data/1000 QR Images of Malicious and Benign QR codes 2025/malicious_qr_images_500/qr_205_malicious_images.png     \b\b\b\b 58%\b\b\b\b\b  OK \n",
            "Extracting  /content/qr_data/1000 QR Images of Malicious and Benign QR codes 2025/malicious_qr_images_500/qr_206_malicious_images.png     \b\b\b\b 58%\b\b\b\b\b  OK \n",
            "Extracting  /content/qr_data/1000 QR Images of Malicious and Benign QR codes 2025/malicious_qr_images_500/qr_207_malicious_images.png     \b\b\b\b 58%\b\b\b\b\b  OK \n",
            "Extracting  /content/qr_data/1000 QR Images of Malicious and Benign QR codes 2025/malicious_qr_images_500/qr_208_malicious_images.png     \b\b\b\b 58%\b\b\b\b\b  OK \n",
            "Extracting  /content/qr_data/1000 QR Images of Malicious and Benign QR codes 2025/malicious_qr_images_500/qr_209_malicious_images.png     \b\b\b\b 58%\b\b\b\b\b  OK \n",
            "Extracting  /content/qr_data/1000 QR Images of Malicious and Benign QR codes 2025/malicious_qr_images_500/qr_20_malicious_images.png     \b\b\b\b 58%\b\b\b\b\b  OK \n",
            "Extracting  /content/qr_data/1000 QR Images of Malicious and Benign QR codes 2025/malicious_qr_images_500/qr_210_malicious_images.png     \b\b\b\b 59%\b\b\b\b\b  OK \n",
            "Extracting  /content/qr_data/1000 QR Images of Malicious and Benign QR codes 2025/malicious_qr_images_500/qr_211_malicious_images.png     \b\b\b\b 59%\b\b\b\b\b  OK \n",
            "Extracting  /content/qr_data/1000 QR Images of Malicious and Benign QR codes 2025/malicious_qr_images_500/qr_212_malicious_images.png     \b\b\b\b 59%\b\b\b\b\b  OK \n",
            "Extracting  /content/qr_data/1000 QR Images of Malicious and Benign QR codes 2025/malicious_qr_images_500/qr_213_malicious_images.png     \b\b\b\b 59%\b\b\b\b\b  OK \n",
            "Extracting  /content/qr_data/1000 QR Images of Malicious and Benign QR codes 2025/malicious_qr_images_500/qr_214_malicious_images.png     \b\b\b\b 59%\b\b\b\b\b  OK \n",
            "Extracting  /content/qr_data/1000 QR Images of Malicious and Benign QR codes 2025/malicious_qr_images_500/qr_215_malicious_images.png     \b\b\b\b 59%\b\b\b\b\b  OK \n",
            "Extracting  /content/qr_data/1000 QR Images of Malicious and Benign QR codes 2025/malicious_qr_images_500/qr_216_malicious_images.png     \b\b\b\b 59%\b\b\b\b\b  OK \n",
            "Extracting  /content/qr_data/1000 QR Images of Malicious and Benign QR codes 2025/malicious_qr_images_500/qr_217_malicious_images.png     \b\b\b\b 60%\b\b\b\b\b  OK \n",
            "Extracting  /content/qr_data/1000 QR Images of Malicious and Benign QR codes 2025/malicious_qr_images_500/qr_218_malicious_images.png     \b\b\b\b 60%\b\b\b\b\b  OK \n",
            "Extracting  /content/qr_data/1000 QR Images of Malicious and Benign QR codes 2025/malicious_qr_images_500/qr_219_malicious_images.png     \b\b\b\b 60%\b\b\b\b\b  OK \n",
            "Extracting  /content/qr_data/1000 QR Images of Malicious and Benign QR codes 2025/malicious_qr_images_500/qr_21_malicious_images.png     \b\b\b\b 60%\b\b\b\b\b  OK \n",
            "Extracting  /content/qr_data/1000 QR Images of Malicious and Benign QR codes 2025/malicious_qr_images_500/qr_220_malicious_images.png     \b\b\b\b 60%\b\b\b\b\b  OK \n",
            "Extracting  /content/qr_data/1000 QR Images of Malicious and Benign QR codes 2025/malicious_qr_images_500/qr_221_malicious_images.png     \b\b\b\b 60%\b\b\b\b\b  OK \n",
            "Extracting  /content/qr_data/1000 QR Images of Malicious and Benign QR codes 2025/malicious_qr_images_500/qr_222_malicious_images.png     \b\b\b\b 60%\b\b\b\b\b  OK \n",
            "Extracting  /content/qr_data/1000 QR Images of Malicious and Benign QR codes 2025/malicious_qr_images_500/qr_223_malicious_images.png     \b\b\b\b 60%\b\b\b\b\b  OK \n",
            "Extracting  /content/qr_data/1000 QR Images of Malicious and Benign QR codes 2025/malicious_qr_images_500/qr_224_malicious_images.png     \b\b\b\b 60%\b\b\b\b\b  OK \n",
            "Extracting  /content/qr_data/1000 QR Images of Malicious and Benign QR codes 2025/malicious_qr_images_500/qr_225_malicious_images.png     \b\b\b\b 60%\b\b\b\b\b  OK \n",
            "Extracting  /content/qr_data/1000 QR Images of Malicious and Benign QR codes 2025/malicious_qr_images_500/qr_226_malicious_images.png     \b\b\b\b 61%\b\b\b\b\b  OK \n",
            "Extracting  /content/qr_data/1000 QR Images of Malicious and Benign QR codes 2025/malicious_qr_images_500/qr_227_malicious_images.png     \b\b\b\b 61%\b\b\b\b\b  OK \n",
            "Extracting  /content/qr_data/1000 QR Images of Malicious and Benign QR codes 2025/malicious_qr_images_500/qr_228_malicious_images.png     \b\b\b\b 61%\b\b\b\b\b  OK \n",
            "Extracting  /content/qr_data/1000 QR Images of Malicious and Benign QR codes 2025/malicious_qr_images_500/qr_229_malicious_images.png     \b\b\b\b 61%\b\b\b\b\b  OK \n",
            "Extracting  /content/qr_data/1000 QR Images of Malicious and Benign QR codes 2025/malicious_qr_images_500/qr_22_malicious_images.png     \b\b\b\b 61%\b\b\b\b\b  OK \n",
            "Extracting  /content/qr_data/1000 QR Images of Malicious and Benign QR codes 2025/malicious_qr_images_500/qr_230_malicious_images.png     \b\b\b\b 61%\b\b\b\b\b  OK \n",
            "Extracting  /content/qr_data/1000 QR Images of Malicious and Benign QR codes 2025/malicious_qr_images_500/qr_231_malicious_images.png     \b\b\b\b 61%\b\b\b\b\b  OK \n",
            "Extracting  /content/qr_data/1000 QR Images of Malicious and Benign QR codes 2025/malicious_qr_images_500/qr_232_malicious_images.png     \b\b\b\b 61%\b\b\b\b\b  OK \n",
            "Extracting  /content/qr_data/1000 QR Images of Malicious and Benign QR codes 2025/malicious_qr_images_500/qr_233_malicious_images.png     \b\b\b\b 61%\b\b\b\b\b  OK \n",
            "Extracting  /content/qr_data/1000 QR Images of Malicious and Benign QR codes 2025/malicious_qr_images_500/qr_234_malicious_images.png     \b\b\b\b 62%\b\b\b\b\b  OK \n",
            "Extracting  /content/qr_data/1000 QR Images of Malicious and Benign QR codes 2025/malicious_qr_images_500/qr_235_malicious_images.png     \b\b\b\b 62%\b\b\b\b\b  OK \n",
            "Extracting  /content/qr_data/1000 QR Images of Malicious and Benign QR codes 2025/malicious_qr_images_500/qr_236_malicious_images.png     \b\b\b\b 62%\b\b\b\b\b  OK \n",
            "Extracting  /content/qr_data/1000 QR Images of Malicious and Benign QR codes 2025/malicious_qr_images_500/qr_237_malicious_images.png     \b\b\b\b 62%\b\b\b\b\b  OK \n",
            "Extracting  /content/qr_data/1000 QR Images of Malicious and Benign QR codes 2025/malicious_qr_images_500/qr_238_malicious_images.png     \b\b\b\b 62%\b\b\b\b\b  OK \n",
            "Extracting  /content/qr_data/1000 QR Images of Malicious and Benign QR codes 2025/malicious_qr_images_500/qr_239_malicious_images.png     \b\b\b\b 62%\b\b\b\b\b  OK \n",
            "Extracting  /content/qr_data/1000 QR Images of Malicious and Benign QR codes 2025/malicious_qr_images_500/qr_23_malicious_images.png     \b\b\b\b 62%\b\b\b\b\b  OK \n",
            "Extracting  /content/qr_data/1000 QR Images of Malicious and Benign QR codes 2025/malicious_qr_images_500/qr_240_malicious_images.png     \b\b\b\b 62%\b\b\b\b\b  OK \n",
            "Extracting  /content/qr_data/1000 QR Images of Malicious and Benign QR codes 2025/malicious_qr_images_500/qr_241_malicious_images.png     \b\b\b\b 62%\b\b\b\b\b  OK \n",
            "Extracting  /content/qr_data/1000 QR Images of Malicious and Benign QR codes 2025/malicious_qr_images_500/qr_242_malicious_images.png     \b\b\b\b 63%\b\b\b\b\b  OK \n",
            "Extracting  /content/qr_data/1000 QR Images of Malicious and Benign QR codes 2025/malicious_qr_images_500/qr_243_malicious_images.png     \b\b\b\b 63%\b\b\b\b\b  OK \n",
            "Extracting  /content/qr_data/1000 QR Images of Malicious and Benign QR codes 2025/malicious_qr_images_500/qr_244_malicious_images.png     \b\b\b\b 63%\b\b\b\b\b  OK \n",
            "Extracting  /content/qr_data/1000 QR Images of Malicious and Benign QR codes 2025/malicious_qr_images_500/qr_245_malicious_images.png     \b\b\b\b 63%\b\b\b\b\b  OK \n",
            "Extracting  /content/qr_data/1000 QR Images of Malicious and Benign QR codes 2025/malicious_qr_images_500/qr_246_malicious_images.png     \b\b\b\b 63%\b\b\b\b\b  OK \n",
            "Extracting  /content/qr_data/1000 QR Images of Malicious and Benign QR codes 2025/malicious_qr_images_500/qr_247_malicious_images.png     \b\b\b\b 63%\b\b\b\b\b  OK \n",
            "Extracting  /content/qr_data/1000 QR Images of Malicious and Benign QR codes 2025/malicious_qr_images_500/qr_248_malicious_images.png     \b\b\b\b 63%\b\b\b\b\b  OK \n",
            "Extracting  /content/qr_data/1000 QR Images of Malicious and Benign QR codes 2025/malicious_qr_images_500/qr_249_malicious_images.png     \b\b\b\b 63%\b\b\b\b\b  OK \n",
            "Extracting  /content/qr_data/1000 QR Images of Malicious and Benign QR codes 2025/malicious_qr_images_500/qr_24_malicious_images.png     \b\b\b\b 63%\b\b\b\b\b  OK \n",
            "Extracting  /content/qr_data/1000 QR Images of Malicious and Benign QR codes 2025/malicious_qr_images_500/qr_250_malicious_images.png     \b\b\b\b 64%\b\b\b\b\b  OK \n",
            "Extracting  /content/qr_data/1000 QR Images of Malicious and Benign QR codes 2025/malicious_qr_images_500/qr_251_malicious_images.png     \b\b\b\b 64%\b\b\b\b\b  OK \n",
            "Extracting  /content/qr_data/1000 QR Images of Malicious and Benign QR codes 2025/malicious_qr_images_500/qr_252_malicious_images.png     \b\b\b\b 64%\b\b\b\b\b  OK \n",
            "Extracting  /content/qr_data/1000 QR Images of Malicious and Benign QR codes 2025/malicious_qr_images_500/qr_253_malicious_images.png     \b\b\b\b 64%\b\b\b\b\b  OK \n",
            "Extracting  /content/qr_data/1000 QR Images of Malicious and Benign QR codes 2025/malicious_qr_images_500/qr_254_malicious_images.png     \b\b\b\b 64%\b\b\b\b\b  OK \n",
            "Extracting  /content/qr_data/1000 QR Images of Malicious and Benign QR codes 2025/malicious_qr_images_500/qr_255_malicious_images.png     \b\b\b\b 64%\b\b\b\b\b  OK \n",
            "Extracting  /content/qr_data/1000 QR Images of Malicious and Benign QR codes 2025/malicious_qr_images_500/qr_256_malicious_images.png     \b\b\b\b 64%\b\b\b\b\b  OK \n",
            "Extracting  /content/qr_data/1000 QR Images of Malicious and Benign QR codes 2025/malicious_qr_images_500/qr_257_malicious_images.png     \b\b\b\b 64%\b\b\b\b\b  OK \n",
            "Extracting  /content/qr_data/1000 QR Images of Malicious and Benign QR codes 2025/malicious_qr_images_500/qr_258_malicious_images.png     \b\b\b\b 64%\b\b\b\b\b  OK \n",
            "Extracting  /content/qr_data/1000 QR Images of Malicious and Benign QR codes 2025/malicious_qr_images_500/qr_259_malicious_images.png     \b\b\b\b 65%\b\b\b\b\b  OK \n",
            "Extracting  /content/qr_data/1000 QR Images of Malicious and Benign QR codes 2025/malicious_qr_images_500/qr_25_malicious_images.png     \b\b\b\b 65%\b\b\b\b\b  OK \n",
            "Extracting  /content/qr_data/1000 QR Images of Malicious and Benign QR codes 2025/malicious_qr_images_500/qr_260_malicious_images.png     \b\b\b\b 65%\b\b\b\b\b  OK \n",
            "Extracting  /content/qr_data/1000 QR Images of Malicious and Benign QR codes 2025/malicious_qr_images_500/qr_261_malicious_images.png     \b\b\b\b 65%\b\b\b\b\b  OK \n",
            "Extracting  /content/qr_data/1000 QR Images of Malicious and Benign QR codes 2025/malicious_qr_images_500/qr_262_malicious_images.png     \b\b\b\b 65%\b\b\b\b\b  OK \n",
            "Extracting  /content/qr_data/1000 QR Images of Malicious and Benign QR codes 2025/malicious_qr_images_500/qr_263_malicious_images.png     \b\b\b\b 65%\b\b\b\b\b  OK \n",
            "Extracting  /content/qr_data/1000 QR Images of Malicious and Benign QR codes 2025/malicious_qr_images_500/qr_264_malicious_images.png     \b\b\b\b 65%\b\b\b\b\b  OK \n",
            "Extracting  /content/qr_data/1000 QR Images of Malicious and Benign QR codes 2025/malicious_qr_images_500/qr_265_malicious_images.png     \b\b\b\b 65%\b\b\b\b\b  OK \n",
            "Extracting  /content/qr_data/1000 QR Images of Malicious and Benign QR codes 2025/malicious_qr_images_500/qr_266_malicious_images.png     \b\b\b\b 65%\b\b\b\b\b  OK \n",
            "Extracting  /content/qr_data/1000 QR Images of Malicious and Benign QR codes 2025/malicious_qr_images_500/qr_267_malicious_images.png     \b\b\b\b 66%\b\b\b\b\b  OK \n",
            "Extracting  /content/qr_data/1000 QR Images of Malicious and Benign QR codes 2025/malicious_qr_images_500/qr_268_malicious_images.png     \b\b\b\b 66%\b\b\b\b\b  OK \n",
            "Extracting  /content/qr_data/1000 QR Images of Malicious and Benign QR codes 2025/malicious_qr_images_500/qr_269_malicious_images.png     \b\b\b\b 66%\b\b\b\b\b  OK \n",
            "Extracting  /content/qr_data/1000 QR Images of Malicious and Benign QR codes 2025/malicious_qr_images_500/qr_26_malicious_images.png     \b\b\b\b 66%\b\b\b\b\b  OK \n",
            "Extracting  /content/qr_data/1000 QR Images of Malicious and Benign QR codes 2025/malicious_qr_images_500/qr_270_malicious_images.png     \b\b\b\b 66%\b\b\b\b\b  OK \n",
            "Extracting  /content/qr_data/1000 QR Images of Malicious and Benign QR codes 2025/malicious_qr_images_500/qr_271_malicious_images.png     \b\b\b\b 66%\b\b\b\b\b  OK \n",
            "Extracting  /content/qr_data/1000 QR Images of Malicious and Benign QR codes 2025/malicious_qr_images_500/qr_272_malicious_images.png     \b\b\b\b 66%\b\b\b\b\b  OK \n",
            "Extracting  /content/qr_data/1000 QR Images of Malicious and Benign QR codes 2025/malicious_qr_images_500/qr_273_malicious_images.png     \b\b\b\b 66%\b\b\b\b\b  OK \n",
            "Extracting  /content/qr_data/1000 QR Images of Malicious and Benign QR codes 2025/malicious_qr_images_500/qr_274_malicious_images.png     \b\b\b\b 67%\b\b\b\b\b  OK \n",
            "Extracting  /content/qr_data/1000 QR Images of Malicious and Benign QR codes 2025/malicious_qr_images_500/qr_275_malicious_images.png     \b\b\b\b 67%\b\b\b\b\b  OK \n",
            "Extracting  /content/qr_data/1000 QR Images of Malicious and Benign QR codes 2025/malicious_qr_images_500/qr_276_malicious_images.png     \b\b\b\b 67%\b\b\b\b\b  OK \n",
            "Extracting  /content/qr_data/1000 QR Images of Malicious and Benign QR codes 2025/malicious_qr_images_500/qr_277_malicious_images.png     \b\b\b\b 67%\b\b\b\b\b  OK \n",
            "Extracting  /content/qr_data/1000 QR Images of Malicious and Benign QR codes 2025/malicious_qr_images_500/qr_278_malicious_images.png     \b\b\b\b 67%\b\b\b\b\b  OK \n",
            "Extracting  /content/qr_data/1000 QR Images of Malicious and Benign QR codes 2025/malicious_qr_images_500/qr_279_malicious_images.png     \b\b\b\b 67%\b\b\b\b\b  OK \n",
            "Extracting  /content/qr_data/1000 QR Images of Malicious and Benign QR codes 2025/malicious_qr_images_500/qr_27_malicious_images.png     \b\b\b\b 67%\b\b\b\b\b  OK \n",
            "Extracting  /content/qr_data/1000 QR Images of Malicious and Benign QR codes 2025/malicious_qr_images_500/qr_280_malicious_images.png     \b\b\b\b 67%\b\b\b\b\b  OK \n",
            "Extracting  /content/qr_data/1000 QR Images of Malicious and Benign QR codes 2025/malicious_qr_images_500/qr_281_malicious_images.png     \b\b\b\b 67%\b\b\b\b\b  OK \n",
            "Extracting  /content/qr_data/1000 QR Images of Malicious and Benign QR codes 2025/malicious_qr_images_500/qr_282_malicious_images.png     \b\b\b\b 67%\b\b\b\b\b  OK \n",
            "Extracting  /content/qr_data/1000 QR Images of Malicious and Benign QR codes 2025/malicious_qr_images_500/qr_283_malicious_images.png     \b\b\b\b 68%\b\b\b\b\b  OK \n",
            "Extracting  /content/qr_data/1000 QR Images of Malicious and Benign QR codes 2025/malicious_qr_images_500/qr_284_malicious_images.png     \b\b\b\b 68%\b\b\b\b\b  OK \n",
            "Extracting  /content/qr_data/1000 QR Images of Malicious and Benign QR codes 2025/malicious_qr_images_500/qr_285_malicious_images.png     \b\b\b\b 68%\b\b\b\b\b  OK \n",
            "Extracting  /content/qr_data/1000 QR Images of Malicious and Benign QR codes 2025/malicious_qr_images_500/qr_286_malicious_images.png     \b\b\b\b 68%\b\b\b\b\b  OK \n",
            "Extracting  /content/qr_data/1000 QR Images of Malicious and Benign QR codes 2025/malicious_qr_images_500/qr_287_malicious_images.png     \b\b\b\b 68%\b\b\b\b\b  OK \n",
            "Extracting  /content/qr_data/1000 QR Images of Malicious and Benign QR codes 2025/malicious_qr_images_500/qr_288_malicious_images.png     \b\b\b\b 68%\b\b\b\b\b  OK \n",
            "Extracting  /content/qr_data/1000 QR Images of Malicious and Benign QR codes 2025/malicious_qr_images_500/qr_289_malicious_images.png     \b\b\b\b 68%\b\b\b\b\b  OK \n",
            "Extracting  /content/qr_data/1000 QR Images of Malicious and Benign QR codes 2025/malicious_qr_images_500/qr_28_malicious_images.png     \b\b\b\b 68%\b\b\b\b\b  OK \n",
            "Extracting  /content/qr_data/1000 QR Images of Malicious and Benign QR codes 2025/malicious_qr_images_500/qr_290_malicious_images.png     \b\b\b\b 69%\b\b\b\b\b  OK \n",
            "Extracting  /content/qr_data/1000 QR Images of Malicious and Benign QR codes 2025/malicious_qr_images_500/qr_291_malicious_images.png     \b\b\b\b 69%\b\b\b\b\b  OK \n",
            "Extracting  /content/qr_data/1000 QR Images of Malicious and Benign QR codes 2025/malicious_qr_images_500/qr_292_malicious_images.png     \b\b\b\b 69%\b\b\b\b\b  OK \n",
            "Extracting  /content/qr_data/1000 QR Images of Malicious and Benign QR codes 2025/malicious_qr_images_500/qr_293_malicious_images.png     \b\b\b\b 69%\b\b\b\b\b  OK \n",
            "Extracting  /content/qr_data/1000 QR Images of Malicious and Benign QR codes 2025/malicious_qr_images_500/qr_294_malicious_images.png     \b\b\b\b 69%\b\b\b\b\b  OK \n",
            "Extracting  /content/qr_data/1000 QR Images of Malicious and Benign QR codes 2025/malicious_qr_images_500/qr_295_malicious_images.png     \b\b\b\b 69%\b\b\b\b\b  OK \n",
            "Extracting  /content/qr_data/1000 QR Images of Malicious and Benign QR codes 2025/malicious_qr_images_500/qr_296_malicious_images.png     \b\b\b\b 69%\b\b\b\b\b  OK \n",
            "Extracting  /content/qr_data/1000 QR Images of Malicious and Benign QR codes 2025/malicious_qr_images_500/qr_297_malicious_images.png     \b\b\b\b 70%\b\b\b\b\b  OK \n",
            "Extracting  /content/qr_data/1000 QR Images of Malicious and Benign QR codes 2025/malicious_qr_images_500/qr_298_malicious_images.png     \b\b\b\b 70%\b\b\b\b\b  OK \n",
            "Extracting  /content/qr_data/1000 QR Images of Malicious and Benign QR codes 2025/malicious_qr_images_500/qr_299_malicious_images.png     \b\b\b\b 70%\b\b\b\b\b  OK \n",
            "Extracting  /content/qr_data/1000 QR Images of Malicious and Benign QR codes 2025/malicious_qr_images_500/qr_29_malicious_images.png     \b\b\b\b 70%\b\b\b\b\b  OK \n",
            "Extracting  /content/qr_data/1000 QR Images of Malicious and Benign QR codes 2025/malicious_qr_images_500/qr_2_malicious_images.png     \b\b\b\b 70%\b\b\b\b\b  OK \n",
            "Extracting  /content/qr_data/1000 QR Images of Malicious and Benign QR codes 2025/malicious_qr_images_500/qr_300_malicious_images.png     \b\b\b\b 70%\b\b\b\b\b  OK \n",
            "Extracting  /content/qr_data/1000 QR Images of Malicious and Benign QR codes 2025/malicious_qr_images_500/qr_301_malicious_images.png     \b\b\b\b 70%\b\b\b\b\b  OK \n",
            "Extracting  /content/qr_data/1000 QR Images of Malicious and Benign QR codes 2025/malicious_qr_images_500/qr_302_malicious_images.png     \b\b\b\b 70%\b\b\b\b\b  OK \n",
            "Extracting  /content/qr_data/1000 QR Images of Malicious and Benign QR codes 2025/malicious_qr_images_500/qr_303_malicious_images.png     \b\b\b\b 70%\b\b\b\b\b  OK \n",
            "Extracting  /content/qr_data/1000 QR Images of Malicious and Benign QR codes 2025/malicious_qr_images_500/qr_304_malicious_images.png     \b\b\b\b 71%\b\b\b\b\b  OK \n",
            "Extracting  /content/qr_data/1000 QR Images of Malicious and Benign QR codes 2025/malicious_qr_images_500/qr_305_malicious_images.png     \b\b\b\b 71%\b\b\b\b\b  OK \n",
            "Extracting  /content/qr_data/1000 QR Images of Malicious and Benign QR codes 2025/malicious_qr_images_500/qr_306_malicious_images.png     \b\b\b\b 71%\b\b\b\b\b  OK \n",
            "Extracting  /content/qr_data/1000 QR Images of Malicious and Benign QR codes 2025/malicious_qr_images_500/qr_307_malicious_images.png     \b\b\b\b 71%\b\b\b\b\b  OK \n",
            "Extracting  /content/qr_data/1000 QR Images of Malicious and Benign QR codes 2025/malicious_qr_images_500/qr_308_malicious_images.png     \b\b\b\b 71%\b\b\b\b\b  OK \n",
            "Extracting  /content/qr_data/1000 QR Images of Malicious and Benign QR codes 2025/malicious_qr_images_500/qr_309_malicious_images.png     \b\b\b\b 71%\b\b\b\b\b  OK \n",
            "Extracting  /content/qr_data/1000 QR Images of Malicious and Benign QR codes 2025/malicious_qr_images_500/qr_30_malicious_images.png     \b\b\b\b 71%\b\b\b\b\b  OK \n",
            "Extracting  /content/qr_data/1000 QR Images of Malicious and Benign QR codes 2025/malicious_qr_images_500/qr_310_malicious_images.png     \b\b\b\b 71%\b\b\b\b\b  OK \n",
            "Extracting  /content/qr_data/1000 QR Images of Malicious and Benign QR codes 2025/malicious_qr_images_500/qr_311_malicious_images.png     \b\b\b\b 71%\b\b\b\b\b  OK \n",
            "Extracting  /content/qr_data/1000 QR Images of Malicious and Benign QR codes 2025/malicious_qr_images_500/qr_312_malicious_images.png     \b\b\b\b 72%\b\b\b\b\b  OK \n",
            "Extracting  /content/qr_data/1000 QR Images of Malicious and Benign QR codes 2025/malicious_qr_images_500/qr_313_malicious_images.png     \b\b\b\b 72%\b\b\b\b\b  OK \n",
            "Extracting  /content/qr_data/1000 QR Images of Malicious and Benign QR codes 2025/malicious_qr_images_500/qr_314_malicious_images.png     \b\b\b\b 72%\b\b\b\b\b  OK \n",
            "Extracting  /content/qr_data/1000 QR Images of Malicious and Benign QR codes 2025/malicious_qr_images_500/qr_315_malicious_images.png     \b\b\b\b 72%\b\b\b\b\b  OK \n",
            "Extracting  /content/qr_data/1000 QR Images of Malicious and Benign QR codes 2025/malicious_qr_images_500/qr_316_malicious_images.png     \b\b\b\b 72%\b\b\b\b\b  OK \n",
            "Extracting  /content/qr_data/1000 QR Images of Malicious and Benign QR codes 2025/malicious_qr_images_500/qr_317_malicious_images.png     \b\b\b\b 72%\b\b\b\b\b  OK \n",
            "Extracting  /content/qr_data/1000 QR Images of Malicious and Benign QR codes 2025/malicious_qr_images_500/qr_318_malicious_images.png     \b\b\b\b 72%\b\b\b\b\b  OK \n",
            "Extracting  /content/qr_data/1000 QR Images of Malicious and Benign QR codes 2025/malicious_qr_images_500/qr_319_malicious_images.png     \b\b\b\b 72%\b\b\b\b\b  OK \n",
            "Extracting  /content/qr_data/1000 QR Images of Malicious and Benign QR codes 2025/malicious_qr_images_500/qr_31_malicious_images.png     \b\b\b\b 72%\b\b\b\b\b  OK \n",
            "Extracting  /content/qr_data/1000 QR Images of Malicious and Benign QR codes 2025/malicious_qr_images_500/qr_320_malicious_images.png     \b\b\b\b 73%\b\b\b\b\b  OK \n",
            "Extracting  /content/qr_data/1000 QR Images of Malicious and Benign QR codes 2025/malicious_qr_images_500/qr_321_malicious_images.png     \b\b\b\b 73%\b\b\b\b\b  OK \n",
            "Extracting  /content/qr_data/1000 QR Images of Malicious and Benign QR codes 2025/malicious_qr_images_500/qr_322_malicious_images.png     \b\b\b\b 73%\b\b\b\b\b  OK \n",
            "Extracting  /content/qr_data/1000 QR Images of Malicious and Benign QR codes 2025/malicious_qr_images_500/qr_323_malicious_images.png     \b\b\b\b 73%\b\b\b\b\b  OK \n",
            "Extracting  /content/qr_data/1000 QR Images of Malicious and Benign QR codes 2025/malicious_qr_images_500/qr_324_malicious_images.png     \b\b\b\b 73%\b\b\b\b\b  OK \n",
            "Extracting  /content/qr_data/1000 QR Images of Malicious and Benign QR codes 2025/malicious_qr_images_500/qr_325_malicious_images.png     \b\b\b\b 73%\b\b\b\b\b  OK \n",
            "Extracting  /content/qr_data/1000 QR Images of Malicious and Benign QR codes 2025/malicious_qr_images_500/qr_326_malicious_images.png     \b\b\b\b 73%\b\b\b\b\b  OK \n",
            "Extracting  /content/qr_data/1000 QR Images of Malicious and Benign QR codes 2025/malicious_qr_images_500/qr_327_malicious_images.png     \b\b\b\b 73%\b\b\b\b\b  OK \n",
            "Extracting  /content/qr_data/1000 QR Images of Malicious and Benign QR codes 2025/malicious_qr_images_500/qr_328_malicious_images.png     \b\b\b\b 73%\b\b\b\b\b  OK \n",
            "Extracting  /content/qr_data/1000 QR Images of Malicious and Benign QR codes 2025/malicious_qr_images_500/qr_329_malicious_images.png     \b\b\b\b 73%\b\b\b\b\b  OK \n",
            "Extracting  /content/qr_data/1000 QR Images of Malicious and Benign QR codes 2025/malicious_qr_images_500/qr_32_malicious_images.png     \b\b\b\b 74%\b\b\b\b\b  OK \n",
            "Extracting  /content/qr_data/1000 QR Images of Malicious and Benign QR codes 2025/malicious_qr_images_500/qr_330_malicious_images.png     \b\b\b\b 74%\b\b\b\b\b  OK \n",
            "Extracting  /content/qr_data/1000 QR Images of Malicious and Benign QR codes 2025/malicious_qr_images_500/qr_331_malicious_images.png     \b\b\b\b 74%\b\b\b\b\b  OK \n",
            "Extracting  /content/qr_data/1000 QR Images of Malicious and Benign QR codes 2025/malicious_qr_images_500/qr_332_malicious_images.png     \b\b\b\b 74%\b\b\b\b\b  OK \n",
            "Extracting  /content/qr_data/1000 QR Images of Malicious and Benign QR codes 2025/malicious_qr_images_500/qr_333_malicious_images.png     \b\b\b\b 74%\b\b\b\b\b  OK \n",
            "Extracting  /content/qr_data/1000 QR Images of Malicious and Benign QR codes 2025/malicious_qr_images_500/qr_334_malicious_images.png     \b\b\b\b 74%\b\b\b\b\b  OK \n",
            "Extracting  /content/qr_data/1000 QR Images of Malicious and Benign QR codes 2025/malicious_qr_images_500/qr_335_malicious_images.png     \b\b\b\b 74%\b\b\b\b\b  OK \n",
            "Extracting  /content/qr_data/1000 QR Images of Malicious and Benign QR codes 2025/malicious_qr_images_500/qr_336_malicious_images.png     \b\b\b\b 74%\b\b\b\b\b  OK \n",
            "Extracting  /content/qr_data/1000 QR Images of Malicious and Benign QR codes 2025/malicious_qr_images_500/qr_337_malicious_images.png     \b\b\b\b 74%\b\b\b\b\b  OK \n",
            "Extracting  /content/qr_data/1000 QR Images of Malicious and Benign QR codes 2025/malicious_qr_images_500/qr_338_malicious_images.png     \b\b\b\b 74%\b\b\b\b\b  OK \n",
            "Extracting  /content/qr_data/1000 QR Images of Malicious and Benign QR codes 2025/malicious_qr_images_500/qr_339_malicious_images.png     \b\b\b\b 75%\b\b\b\b\b  OK \n",
            "Extracting  /content/qr_data/1000 QR Images of Malicious and Benign QR codes 2025/malicious_qr_images_500/qr_33_malicious_images.png     \b\b\b\b 75%\b\b\b\b\b  OK \n",
            "Extracting  /content/qr_data/1000 QR Images of Malicious and Benign QR codes 2025/malicious_qr_images_500/qr_340_malicious_images.png     \b\b\b\b 75%\b\b\b\b\b  OK \n",
            "Extracting  /content/qr_data/1000 QR Images of Malicious and Benign QR codes 2025/malicious_qr_images_500/qr_341_malicious_images.png     \b\b\b\b 75%\b\b\b\b\b  OK \n",
            "Extracting  /content/qr_data/1000 QR Images of Malicious and Benign QR codes 2025/malicious_qr_images_500/qr_342_malicious_images.png     \b\b\b\b 75%\b\b\b\b\b  OK \n",
            "Extracting  /content/qr_data/1000 QR Images of Malicious and Benign QR codes 2025/malicious_qr_images_500/qr_343_malicious_images.png     \b\b\b\b 75%\b\b\b\b\b  OK \n",
            "Extracting  /content/qr_data/1000 QR Images of Malicious and Benign QR codes 2025/malicious_qr_images_500/qr_344_malicious_images.png     \b\b\b\b 75%\b\b\b\b\b  OK \n",
            "Extracting  /content/qr_data/1000 QR Images of Malicious and Benign QR codes 2025/malicious_qr_images_500/qr_345_malicious_images.png     \b\b\b\b 75%\b\b\b\b\b  OK \n",
            "Extracting  /content/qr_data/1000 QR Images of Malicious and Benign QR codes 2025/malicious_qr_images_500/qr_346_malicious_images.png     \b\b\b\b 75%\b\b\b\b\b  OK \n",
            "Extracting  /content/qr_data/1000 QR Images of Malicious and Benign QR codes 2025/malicious_qr_images_500/qr_347_malicious_images.png     \b\b\b\b 76%\b\b\b\b\b  OK \n",
            "Extracting  /content/qr_data/1000 QR Images of Malicious and Benign QR codes 2025/malicious_qr_images_500/qr_348_malicious_images.png     \b\b\b\b 76%\b\b\b\b\b  OK \n",
            "Extracting  /content/qr_data/1000 QR Images of Malicious and Benign QR codes 2025/malicious_qr_images_500/qr_349_malicious_images.png     \b\b\b\b 76%\b\b\b\b\b  OK \n",
            "Extracting  /content/qr_data/1000 QR Images of Malicious and Benign QR codes 2025/malicious_qr_images_500/qr_34_malicious_images.png     \b\b\b\b 76%\b\b\b\b\b  OK \n",
            "Extracting  /content/qr_data/1000 QR Images of Malicious and Benign QR codes 2025/malicious_qr_images_500/qr_350_malicious_images.png     \b\b\b\b 76%\b\b\b\b\b  OK \n",
            "Extracting  /content/qr_data/1000 QR Images of Malicious and Benign QR codes 2025/malicious_qr_images_500/qr_351_malicious_images.png     \b\b\b\b 76%\b\b\b\b\b  OK \n",
            "Extracting  /content/qr_data/1000 QR Images of Malicious and Benign QR codes 2025/malicious_qr_images_500/qr_352_malicious_images.png     \b\b\b\b 76%\b\b\b\b\b  OK \n",
            "Extracting  /content/qr_data/1000 QR Images of Malicious and Benign QR codes 2025/malicious_qr_images_500/qr_353_malicious_images.png     \b\b\b\b 76%\b\b\b\b\b  OK \n",
            "Extracting  /content/qr_data/1000 QR Images of Malicious and Benign QR codes 2025/malicious_qr_images_500/qr_354_malicious_images.png     \b\b\b\b 76%\b\b\b\b\b  OK \n",
            "Extracting  /content/qr_data/1000 QR Images of Malicious and Benign QR codes 2025/malicious_qr_images_500/qr_355_malicious_images.png     \b\b\b\b 76%\b\b\b\b\b  OK \n",
            "Extracting  /content/qr_data/1000 QR Images of Malicious and Benign QR codes 2025/malicious_qr_images_500/qr_356_malicious_images.png     \b\b\b\b 76%\b\b\b\b\b  OK \n",
            "Extracting  /content/qr_data/1000 QR Images of Malicious and Benign QR codes 2025/malicious_qr_images_500/qr_357_malicious_images.png     \b\b\b\b 77%\b\b\b\b\b  OK \n",
            "Extracting  /content/qr_data/1000 QR Images of Malicious and Benign QR codes 2025/malicious_qr_images_500/qr_358_malicious_images.png     \b\b\b\b 77%\b\b\b\b\b  OK \n",
            "Extracting  /content/qr_data/1000 QR Images of Malicious and Benign QR codes 2025/malicious_qr_images_500/qr_359_malicious_images.png     \b\b\b\b 77%\b\b\b\b\b  OK \n",
            "Extracting  /content/qr_data/1000 QR Images of Malicious and Benign QR codes 2025/malicious_qr_images_500/qr_35_malicious_images.png     \b\b\b\b 77%\b\b\b\b\b  OK \n",
            "Extracting  /content/qr_data/1000 QR Images of Malicious and Benign QR codes 2025/malicious_qr_images_500/qr_360_malicious_images.png     \b\b\b\b 77%\b\b\b\b\b  OK \n",
            "Extracting  /content/qr_data/1000 QR Images of Malicious and Benign QR codes 2025/malicious_qr_images_500/qr_361_malicious_images.png     \b\b\b\b 77%\b\b\b\b\b  OK \n",
            "Extracting  /content/qr_data/1000 QR Images of Malicious and Benign QR codes 2025/malicious_qr_images_500/qr_362_malicious_images.png     \b\b\b\b 77%\b\b\b\b\b  OK \n",
            "Extracting  /content/qr_data/1000 QR Images of Malicious and Benign QR codes 2025/malicious_qr_images_500/qr_363_malicious_images.png     \b\b\b\b 77%\b\b\b\b\b  OK \n",
            "Extracting  /content/qr_data/1000 QR Images of Malicious and Benign QR codes 2025/malicious_qr_images_500/qr_364_malicious_images.png     \b\b\b\b 77%\b\b\b\b\b  OK \n",
            "Extracting  /content/qr_data/1000 QR Images of Malicious and Benign QR codes 2025/malicious_qr_images_500/qr_365_malicious_images.png     \b\b\b\b 78%\b\b\b\b\b  OK \n",
            "Extracting  /content/qr_data/1000 QR Images of Malicious and Benign QR codes 2025/malicious_qr_images_500/qr_366_malicious_images.png     \b\b\b\b 78%\b\b\b\b\b  OK \n",
            "Extracting  /content/qr_data/1000 QR Images of Malicious and Benign QR codes 2025/malicious_qr_images_500/qr_367_malicious_images.png     \b\b\b\b 78%\b\b\b\b\b  OK \n",
            "Extracting  /content/qr_data/1000 QR Images of Malicious and Benign QR codes 2025/malicious_qr_images_500/qr_368_malicious_images.png     \b\b\b\b 78%\b\b\b\b\b  OK \n",
            "Extracting  /content/qr_data/1000 QR Images of Malicious and Benign QR codes 2025/malicious_qr_images_500/qr_369_malicious_images.png     \b\b\b\b 78%\b\b\b\b\b  OK \n",
            "Extracting  /content/qr_data/1000 QR Images of Malicious and Benign QR codes 2025/malicious_qr_images_500/qr_36_malicious_images.png     \b\b\b\b 78%\b\b\b\b\b  OK \n",
            "Extracting  /content/qr_data/1000 QR Images of Malicious and Benign QR codes 2025/malicious_qr_images_500/qr_370_malicious_images.png     \b\b\b\b 78%\b\b\b\b\b  OK \n",
            "Extracting  /content/qr_data/1000 QR Images of Malicious and Benign QR codes 2025/malicious_qr_images_500/qr_371_malicious_images.png     \b\b\b\b 78%\b\b\b\b\b  OK \n",
            "Extracting  /content/qr_data/1000 QR Images of Malicious and Benign QR codes 2025/malicious_qr_images_500/qr_372_malicious_images.png     \b\b\b\b 79%\b\b\b\b\b  OK \n",
            "Extracting  /content/qr_data/1000 QR Images of Malicious and Benign QR codes 2025/malicious_qr_images_500/qr_373_malicious_images.png     \b\b\b\b 79%\b\b\b\b\b  OK \n",
            "Extracting  /content/qr_data/1000 QR Images of Malicious and Benign QR codes 2025/malicious_qr_images_500/qr_374_malicious_images.png     \b\b\b\b 79%\b\b\b\b\b  OK \n",
            "Extracting  /content/qr_data/1000 QR Images of Malicious and Benign QR codes 2025/malicious_qr_images_500/qr_375_malicious_images.png     \b\b\b\b 79%\b\b\b\b\b  OK \n",
            "Extracting  /content/qr_data/1000 QR Images of Malicious and Benign QR codes 2025/malicious_qr_images_500/qr_376_malicious_images.png     \b\b\b\b 79%\b\b\b\b\b  OK \n",
            "Extracting  /content/qr_data/1000 QR Images of Malicious and Benign QR codes 2025/malicious_qr_images_500/qr_377_malicious_images.png     \b\b\b\b 79%\b\b\b\b\b  OK \n",
            "Extracting  /content/qr_data/1000 QR Images of Malicious and Benign QR codes 2025/malicious_qr_images_500/qr_378_malicious_images.png     \b\b\b\b 79%\b\b\b\b\b  OK \n",
            "Extracting  /content/qr_data/1000 QR Images of Malicious and Benign QR codes 2025/malicious_qr_images_500/qr_379_malicious_images.png     \b\b\b\b 79%\b\b\b\b\b  OK \n",
            "Extracting  /content/qr_data/1000 QR Images of Malicious and Benign QR codes 2025/malicious_qr_images_500/qr_37_malicious_images.png     \b\b\b\b 79%\b\b\b\b\b  OK \n",
            "Extracting  /content/qr_data/1000 QR Images of Malicious and Benign QR codes 2025/malicious_qr_images_500/qr_380_malicious_images.png     \b\b\b\b 79%\b\b\b\b\b  OK \n",
            "Extracting  /content/qr_data/1000 QR Images of Malicious and Benign QR codes 2025/malicious_qr_images_500/qr_381_malicious_images.png     \b\b\b\b 80%\b\b\b\b\b  OK \n",
            "Extracting  /content/qr_data/1000 QR Images of Malicious and Benign QR codes 2025/malicious_qr_images_500/qr_382_malicious_images.png     \b\b\b\b 80%\b\b\b\b\b  OK \n",
            "Extracting  /content/qr_data/1000 QR Images of Malicious and Benign QR codes 2025/malicious_qr_images_500/qr_383_malicious_images.png     \b\b\b\b 80%\b\b\b\b\b  OK \n",
            "Extracting  /content/qr_data/1000 QR Images of Malicious and Benign QR codes 2025/malicious_qr_images_500/qr_384_malicious_images.png     \b\b\b\b 80%\b\b\b\b\b  OK \n",
            "Extracting  /content/qr_data/1000 QR Images of Malicious and Benign QR codes 2025/malicious_qr_images_500/qr_385_malicious_images.png     \b\b\b\b 80%\b\b\b\b\b  OK \n",
            "Extracting  /content/qr_data/1000 QR Images of Malicious and Benign QR codes 2025/malicious_qr_images_500/qr_386_malicious_images.png     \b\b\b\b 80%\b\b\b\b\b  OK \n",
            "Extracting  /content/qr_data/1000 QR Images of Malicious and Benign QR codes 2025/malicious_qr_images_500/qr_387_malicious_images.png     \b\b\b\b 80%\b\b\b\b\b  OK \n",
            "Extracting  /content/qr_data/1000 QR Images of Malicious and Benign QR codes 2025/malicious_qr_images_500/qr_388_malicious_images.png     \b\b\b\b 80%\b\b\b\b\b  OK \n",
            "Extracting  /content/qr_data/1000 QR Images of Malicious and Benign QR codes 2025/malicious_qr_images_500/qr_389_malicious_images.png     \b\b\b\b 80%\b\b\b\b\b  OK \n",
            "Extracting  /content/qr_data/1000 QR Images of Malicious and Benign QR codes 2025/malicious_qr_images_500/qr_38_malicious_images.png     \b\b\b\b 81%\b\b\b\b\b  OK \n",
            "Extracting  /content/qr_data/1000 QR Images of Malicious and Benign QR codes 2025/malicious_qr_images_500/qr_390_malicious_images.png     \b\b\b\b 81%\b\b\b\b\b  OK \n",
            "Extracting  /content/qr_data/1000 QR Images of Malicious and Benign QR codes 2025/malicious_qr_images_500/qr_391_malicious_images.png     \b\b\b\b 81%\b\b\b\b\b  OK \n",
            "Extracting  /content/qr_data/1000 QR Images of Malicious and Benign QR codes 2025/malicious_qr_images_500/qr_392_malicious_images.png     \b\b\b\b 81%\b\b\b\b\b  OK \n",
            "Extracting  /content/qr_data/1000 QR Images of Malicious and Benign QR codes 2025/malicious_qr_images_500/qr_393_malicious_images.png     \b\b\b\b 81%\b\b\b\b\b  OK \n",
            "Extracting  /content/qr_data/1000 QR Images of Malicious and Benign QR codes 2025/malicious_qr_images_500/qr_394_malicious_images.png     \b\b\b\b 81%\b\b\b\b\b  OK \n",
            "Extracting  /content/qr_data/1000 QR Images of Malicious and Benign QR codes 2025/malicious_qr_images_500/qr_395_malicious_images.png     \b\b\b\b 81%\b\b\b\b\b  OK \n",
            "Extracting  /content/qr_data/1000 QR Images of Malicious and Benign QR codes 2025/malicious_qr_images_500/qr_396_malicious_images.png     \b\b\b\b 81%\b\b\b\b\b  OK \n",
            "Extracting  /content/qr_data/1000 QR Images of Malicious and Benign QR codes 2025/malicious_qr_images_500/qr_397_malicious_images.png     \b\b\b\b 81%\b\b\b\b\b  OK \n",
            "Extracting  /content/qr_data/1000 QR Images of Malicious and Benign QR codes 2025/malicious_qr_images_500/qr_398_malicious_images.png     \b\b\b\b 82%\b\b\b\b\b  OK \n",
            "Extracting  /content/qr_data/1000 QR Images of Malicious and Benign QR codes 2025/malicious_qr_images_500/qr_399_malicious_images.png     \b\b\b\b 82%\b\b\b\b\b  OK \n",
            "Extracting  /content/qr_data/1000 QR Images of Malicious and Benign QR codes 2025/malicious_qr_images_500/qr_39_malicious_images.png     \b\b\b\b 82%\b\b\b\b\b  OK \n",
            "Extracting  /content/qr_data/1000 QR Images of Malicious and Benign QR codes 2025/malicious_qr_images_500/qr_3_malicious_images.png     \b\b\b\b 82%\b\b\b\b\b  OK \n",
            "Extracting  /content/qr_data/1000 QR Images of Malicious and Benign QR codes 2025/malicious_qr_images_500/qr_400_malicious_images.png     \b\b\b\b 82%\b\b\b\b\b  OK \n",
            "Extracting  /content/qr_data/1000 QR Images of Malicious and Benign QR codes 2025/malicious_qr_images_500/qr_401_malicious_images.png     \b\b\b\b 82%\b\b\b\b\b  OK \n",
            "Extracting  /content/qr_data/1000 QR Images of Malicious and Benign QR codes 2025/malicious_qr_images_500/qr_402_malicious_images.png     \b\b\b\b 82%\b\b\b\b\b  OK \n",
            "Extracting  /content/qr_data/1000 QR Images of Malicious and Benign QR codes 2025/malicious_qr_images_500/qr_403_malicious_images.png     \b\b\b\b 82%\b\b\b\b\b  OK \n",
            "Extracting  /content/qr_data/1000 QR Images of Malicious and Benign QR codes 2025/malicious_qr_images_500/qr_404_malicious_images.png     \b\b\b\b 82%\b\b\b\b\b  OK \n",
            "Extracting  /content/qr_data/1000 QR Images of Malicious and Benign QR codes 2025/malicious_qr_images_500/qr_405_malicious_images.png     \b\b\b\b 82%\b\b\b\b\b  OK \n",
            "Extracting  /content/qr_data/1000 QR Images of Malicious and Benign QR codes 2025/malicious_qr_images_500/qr_406_malicious_images.png     \b\b\b\b 83%\b\b\b\b\b  OK \n",
            "Extracting  /content/qr_data/1000 QR Images of Malicious and Benign QR codes 2025/malicious_qr_images_500/qr_407_malicious_images.png     \b\b\b\b 83%\b\b\b\b\b  OK \n",
            "Extracting  /content/qr_data/1000 QR Images of Malicious and Benign QR codes 2025/malicious_qr_images_500/qr_408_malicious_images.png     \b\b\b\b 83%\b\b\b\b\b  OK \n",
            "Extracting  /content/qr_data/1000 QR Images of Malicious and Benign QR codes 2025/malicious_qr_images_500/qr_409_malicious_images.png     \b\b\b\b 83%\b\b\b\b\b  OK \n",
            "Extracting  /content/qr_data/1000 QR Images of Malicious and Benign QR codes 2025/malicious_qr_images_500/qr_40_malicious_images.png     \b\b\b\b 83%\b\b\b\b\b  OK \n",
            "Extracting  /content/qr_data/1000 QR Images of Malicious and Benign QR codes 2025/malicious_qr_images_500/qr_410_malicious_images.png     \b\b\b\b 83%\b\b\b\b\b  OK \n",
            "Extracting  /content/qr_data/1000 QR Images of Malicious and Benign QR codes 2025/malicious_qr_images_500/qr_411_malicious_images.png     \b\b\b\b 83%\b\b\b\b\b  OK \n",
            "Extracting  /content/qr_data/1000 QR Images of Malicious and Benign QR codes 2025/malicious_qr_images_500/qr_412_malicious_images.png     \b\b\b\b 83%\b\b\b\b\b  OK \n",
            "Extracting  /content/qr_data/1000 QR Images of Malicious and Benign QR codes 2025/malicious_qr_images_500/qr_413_malicious_images.png     \b\b\b\b 83%\b\b\b\b\b  OK \n",
            "Extracting  /content/qr_data/1000 QR Images of Malicious and Benign QR codes 2025/malicious_qr_images_500/qr_414_malicious_images.png     \b\b\b\b 84%\b\b\b\b\b  OK \n",
            "Extracting  /content/qr_data/1000 QR Images of Malicious and Benign QR codes 2025/malicious_qr_images_500/qr_415_malicious_images.png     \b\b\b\b 84%\b\b\b\b\b  OK \n",
            "Extracting  /content/qr_data/1000 QR Images of Malicious and Benign QR codes 2025/malicious_qr_images_500/qr_416_malicious_images.png     \b\b\b\b 84%\b\b\b\b\b  OK \n",
            "Extracting  /content/qr_data/1000 QR Images of Malicious and Benign QR codes 2025/malicious_qr_images_500/qr_417_malicious_images.png     \b\b\b\b 84%\b\b\b\b\b  OK \n",
            "Extracting  /content/qr_data/1000 QR Images of Malicious and Benign QR codes 2025/malicious_qr_images_500/qr_418_malicious_images.png     \b\b\b\b 84%\b\b\b\b\b  OK \n",
            "Extracting  /content/qr_data/1000 QR Images of Malicious and Benign QR codes 2025/malicious_qr_images_500/qr_419_malicious_images.png     \b\b\b\b 84%\b\b\b\b\b  OK \n",
            "Extracting  /content/qr_data/1000 QR Images of Malicious and Benign QR codes 2025/malicious_qr_images_500/qr_41_malicious_images.png     \b\b\b\b 84%\b\b\b\b\b  OK \n",
            "Extracting  /content/qr_data/1000 QR Images of Malicious and Benign QR codes 2025/malicious_qr_images_500/qr_420_malicious_images.png     \b\b\b\b 84%\b\b\b\b\b  OK \n",
            "Extracting  /content/qr_data/1000 QR Images of Malicious and Benign QR codes 2025/malicious_qr_images_500/qr_421_malicious_images.png     \b\b\b\b 84%\b\b\b\b\b  OK \n",
            "Extracting  /content/qr_data/1000 QR Images of Malicious and Benign QR codes 2025/malicious_qr_images_500/qr_422_malicious_images.png     \b\b\b\b 84%\b\b\b\b\b  OK \n",
            "Extracting  /content/qr_data/1000 QR Images of Malicious and Benign QR codes 2025/malicious_qr_images_500/qr_423_malicious_images.png     \b\b\b\b 85%\b\b\b\b\b  OK \n",
            "Extracting  /content/qr_data/1000 QR Images of Malicious and Benign QR codes 2025/malicious_qr_images_500/qr_424_malicious_images.png     \b\b\b\b 85%\b\b\b\b\b  OK \n",
            "Extracting  /content/qr_data/1000 QR Images of Malicious and Benign QR codes 2025/malicious_qr_images_500/qr_425_malicious_images.png     \b\b\b\b 85%\b\b\b\b\b  OK \n",
            "Extracting  /content/qr_data/1000 QR Images of Malicious and Benign QR codes 2025/malicious_qr_images_500/qr_426_malicious_images.png     \b\b\b\b 85%\b\b\b\b\b  OK \n",
            "Extracting  /content/qr_data/1000 QR Images of Malicious and Benign QR codes 2025/malicious_qr_images_500/qr_427_malicious_images.png     \b\b\b\b 85%\b\b\b\b\b  OK \n",
            "Extracting  /content/qr_data/1000 QR Images of Malicious and Benign QR codes 2025/malicious_qr_images_500/qr_428_malicious_images.png     \b\b\b\b 85%\b\b\b\b\b  OK \n",
            "Extracting  /content/qr_data/1000 QR Images of Malicious and Benign QR codes 2025/malicious_qr_images_500/qr_429_malicious_images.png     \b\b\b\b 85%\b\b\b\b\b  OK \n",
            "Extracting  /content/qr_data/1000 QR Images of Malicious and Benign QR codes 2025/malicious_qr_images_500/qr_42_malicious_images.png     \b\b\b\b 85%\b\b\b\b\b  OK \n",
            "Extracting  /content/qr_data/1000 QR Images of Malicious and Benign QR codes 2025/malicious_qr_images_500/qr_430_malicious_images.png     \b\b\b\b 85%\b\b\b\b\b  OK \n",
            "Extracting  /content/qr_data/1000 QR Images of Malicious and Benign QR codes 2025/malicious_qr_images_500/qr_431_malicious_images.png     \b\b\b\b 85%\b\b\b\b\b  OK \n",
            "Extracting  /content/qr_data/1000 QR Images of Malicious and Benign QR codes 2025/malicious_qr_images_500/qr_432_malicious_images.png     \b\b\b\b 86%\b\b\b\b\b  OK \n",
            "Extracting  /content/qr_data/1000 QR Images of Malicious and Benign QR codes 2025/malicious_qr_images_500/qr_433_malicious_images.png     \b\b\b\b 86%\b\b\b\b\b  OK \n",
            "Extracting  /content/qr_data/1000 QR Images of Malicious and Benign QR codes 2025/malicious_qr_images_500/qr_434_malicious_images.png     \b\b\b\b 86%\b\b\b\b\b  OK \n",
            "Extracting  /content/qr_data/1000 QR Images of Malicious and Benign QR codes 2025/malicious_qr_images_500/qr_435_malicious_images.png     \b\b\b\b 86%\b\b\b\b\b  OK \n",
            "Extracting  /content/qr_data/1000 QR Images of Malicious and Benign QR codes 2025/malicious_qr_images_500/qr_436_malicious_images.png     \b\b\b\b 86%\b\b\b\b\b  OK \n",
            "Extracting  /content/qr_data/1000 QR Images of Malicious and Benign QR codes 2025/malicious_qr_images_500/qr_437_malicious_images.png     \b\b\b\b 86%\b\b\b\b\b  OK \n",
            "Extracting  /content/qr_data/1000 QR Images of Malicious and Benign QR codes 2025/malicious_qr_images_500/qr_438_malicious_images.png     \b\b\b\b 86%\b\b\b\b\b  OK \n",
            "Extracting  /content/qr_data/1000 QR Images of Malicious and Benign QR codes 2025/malicious_qr_images_500/qr_439_malicious_images.png     \b\b\b\b 86%\b\b\b\b\b  OK \n",
            "Extracting  /content/qr_data/1000 QR Images of Malicious and Benign QR codes 2025/malicious_qr_images_500/qr_43_malicious_images.png     \b\b\b\b 86%\b\b\b\b\b  OK \n",
            "Extracting  /content/qr_data/1000 QR Images of Malicious and Benign QR codes 2025/malicious_qr_images_500/qr_440_malicious_images.png     \b\b\b\b 87%\b\b\b\b\b  OK \n",
            "Extracting  /content/qr_data/1000 QR Images of Malicious and Benign QR codes 2025/malicious_qr_images_500/qr_441_malicious_images.png     \b\b\b\b 87%\b\b\b\b\b  OK \n",
            "Extracting  /content/qr_data/1000 QR Images of Malicious and Benign QR codes 2025/malicious_qr_images_500/qr_442_malicious_images.png     \b\b\b\b 87%\b\b\b\b\b  OK \n",
            "Extracting  /content/qr_data/1000 QR Images of Malicious and Benign QR codes 2025/malicious_qr_images_500/qr_443_malicious_images.png     \b\b\b\b 87%\b\b\b\b\b  OK \n",
            "Extracting  /content/qr_data/1000 QR Images of Malicious and Benign QR codes 2025/malicious_qr_images_500/qr_444_malicious_images.png     \b\b\b\b 87%\b\b\b\b\b  OK \n",
            "Extracting  /content/qr_data/1000 QR Images of Malicious and Benign QR codes 2025/malicious_qr_images_500/qr_445_malicious_images.png     \b\b\b\b 87%\b\b\b\b\b  OK \n",
            "Extracting  /content/qr_data/1000 QR Images of Malicious and Benign QR codes 2025/malicious_qr_images_500/qr_446_malicious_images.png     \b\b\b\b 87%\b\b\b\b\b  OK \n",
            "Extracting  /content/qr_data/1000 QR Images of Malicious and Benign QR codes 2025/malicious_qr_images_500/qr_447_malicious_images.png     \b\b\b\b 87%\b\b\b\b\b  OK \n",
            "Extracting  /content/qr_data/1000 QR Images of Malicious and Benign QR codes 2025/malicious_qr_images_500/qr_448_malicious_images.png     \b\b\b\b 87%\b\b\b\b\b  OK \n",
            "Extracting  /content/qr_data/1000 QR Images of Malicious and Benign QR codes 2025/malicious_qr_images_500/qr_449_malicious_images.png     \b\b\b\b 88%\b\b\b\b\b  OK \n",
            "Extracting  /content/qr_data/1000 QR Images of Malicious and Benign QR codes 2025/malicious_qr_images_500/qr_44_malicious_images.png     \b\b\b\b 88%\b\b\b\b\b  OK \n",
            "Extracting  /content/qr_data/1000 QR Images of Malicious and Benign QR codes 2025/malicious_qr_images_500/qr_450_malicious_images.png     \b\b\b\b 88%\b\b\b\b\b  OK \n",
            "Extracting  /content/qr_data/1000 QR Images of Malicious and Benign QR codes 2025/malicious_qr_images_500/qr_451_malicious_images.png     \b\b\b\b 88%\b\b\b\b\b  OK \n",
            "Extracting  /content/qr_data/1000 QR Images of Malicious and Benign QR codes 2025/malicious_qr_images_500/qr_452_malicious_images.png     \b\b\b\b 88%\b\b\b\b\b  OK \n",
            "Extracting  /content/qr_data/1000 QR Images of Malicious and Benign QR codes 2025/malicious_qr_images_500/qr_453_malicious_images.png     \b\b\b\b 88%\b\b\b\b\b  OK \n",
            "Extracting  /content/qr_data/1000 QR Images of Malicious and Benign QR codes 2025/malicious_qr_images_500/qr_454_malicious_images.png     \b\b\b\b 88%\b\b\b\b\b  OK \n",
            "Extracting  /content/qr_data/1000 QR Images of Malicious and Benign QR codes 2025/malicious_qr_images_500/qr_455_malicious_images.png     \b\b\b\b 88%\b\b\b\b\b  OK \n",
            "Extracting  /content/qr_data/1000 QR Images of Malicious and Benign QR codes 2025/malicious_qr_images_500/qr_456_malicious_images.png     \b\b\b\b 88%\b\b\b\b\b  OK \n",
            "Extracting  /content/qr_data/1000 QR Images of Malicious and Benign QR codes 2025/malicious_qr_images_500/qr_457_malicious_images.png     \b\b\b\b 89%\b\b\b\b\b  OK \n",
            "Extracting  /content/qr_data/1000 QR Images of Malicious and Benign QR codes 2025/malicious_qr_images_500/qr_458_malicious_images.png     \b\b\b\b 89%\b\b\b\b\b  OK \n",
            "Extracting  /content/qr_data/1000 QR Images of Malicious and Benign QR codes 2025/malicious_qr_images_500/qr_459_malicious_images.png     \b\b\b\b 89%\b\b\b\b\b  OK \n",
            "Extracting  /content/qr_data/1000 QR Images of Malicious and Benign QR codes 2025/malicious_qr_images_500/qr_45_malicious_images.png     \b\b\b\b 89%\b\b\b\b\b  OK \n",
            "Extracting  /content/qr_data/1000 QR Images of Malicious and Benign QR codes 2025/malicious_qr_images_500/qr_460_malicious_images.png     \b\b\b\b 89%\b\b\b\b\b  OK \n",
            "Extracting  /content/qr_data/1000 QR Images of Malicious and Benign QR codes 2025/malicious_qr_images_500/qr_461_malicious_images.png     \b\b\b\b 89%\b\b\b\b\b  OK \n",
            "Extracting  /content/qr_data/1000 QR Images of Malicious and Benign QR codes 2025/malicious_qr_images_500/qr_462_malicious_images.png     \b\b\b\b 89%\b\b\b\b\b  OK \n",
            "Extracting  /content/qr_data/1000 QR Images of Malicious and Benign QR codes 2025/malicious_qr_images_500/qr_463_malicious_images.png     \b\b\b\b 89%\b\b\b\b\b  OK \n",
            "Extracting  /content/qr_data/1000 QR Images of Malicious and Benign QR codes 2025/malicious_qr_images_500/qr_464_malicious_images.png     \b\b\b\b 89%\b\b\b\b\b  OK \n",
            "Extracting  /content/qr_data/1000 QR Images of Malicious and Benign QR codes 2025/malicious_qr_images_500/qr_465_malicious_images.png     \b\b\b\b 89%\b\b\b\b\b  OK \n",
            "Extracting  /content/qr_data/1000 QR Images of Malicious and Benign QR codes 2025/malicious_qr_images_500/qr_466_malicious_images.png     \b\b\b\b 90%\b\b\b\b\b  OK \n",
            "Extracting  /content/qr_data/1000 QR Images of Malicious and Benign QR codes 2025/malicious_qr_images_500/qr_467_malicious_images.png     \b\b\b\b 90%\b\b\b\b\b  OK \n",
            "Extracting  /content/qr_data/1000 QR Images of Malicious and Benign QR codes 2025/malicious_qr_images_500/qr_468_malicious_images.png     \b\b\b\b 90%\b\b\b\b\b  OK \n",
            "Extracting  /content/qr_data/1000 QR Images of Malicious and Benign QR codes 2025/malicious_qr_images_500/qr_469_malicious_images.png     \b\b\b\b 90%\b\b\b\b\b  OK \n",
            "Extracting  /content/qr_data/1000 QR Images of Malicious and Benign QR codes 2025/malicious_qr_images_500/qr_46_malicious_images.png     \b\b\b\b 90%\b\b\b\b\b  OK \n",
            "Extracting  /content/qr_data/1000 QR Images of Malicious and Benign QR codes 2025/malicious_qr_images_500/qr_470_malicious_images.png     \b\b\b\b 90%\b\b\b\b\b  OK \n",
            "Extracting  /content/qr_data/1000 QR Images of Malicious and Benign QR codes 2025/malicious_qr_images_500/qr_471_malicious_images.png     \b\b\b\b 90%\b\b\b\b\b  OK \n",
            "Extracting  /content/qr_data/1000 QR Images of Malicious and Benign QR codes 2025/malicious_qr_images_500/qr_472_malicious_images.png     \b\b\b\b 90%\b\b\b\b\b  OK \n",
            "Extracting  /content/qr_data/1000 QR Images of Malicious and Benign QR codes 2025/malicious_qr_images_500/qr_473_malicious_images.png     \b\b\b\b 90%\b\b\b\b\b  OK \n",
            "Extracting  /content/qr_data/1000 QR Images of Malicious and Benign QR codes 2025/malicious_qr_images_500/qr_474_malicious_images.png     \b\b\b\b 90%\b\b\b\b\b  OK \n",
            "Extracting  /content/qr_data/1000 QR Images of Malicious and Benign QR codes 2025/malicious_qr_images_500/qr_475_malicious_images.png     \b\b\b\b 91%\b\b\b\b\b  OK \n",
            "Extracting  /content/qr_data/1000 QR Images of Malicious and Benign QR codes 2025/malicious_qr_images_500/qr_476_malicious_images.png     \b\b\b\b 91%\b\b\b\b\b  OK \n",
            "Extracting  /content/qr_data/1000 QR Images of Malicious and Benign QR codes 2025/malicious_qr_images_500/qr_477_malicious_images.png     \b\b\b\b 91%\b\b\b\b\b  OK \n",
            "Extracting  /content/qr_data/1000 QR Images of Malicious and Benign QR codes 2025/malicious_qr_images_500/qr_478_malicious_images.png     \b\b\b\b 91%\b\b\b\b\b  OK \n",
            "Extracting  /content/qr_data/1000 QR Images of Malicious and Benign QR codes 2025/malicious_qr_images_500/qr_479_malicious_images.png     \b\b\b\b 91%\b\b\b\b\b  OK \n",
            "Extracting  /content/qr_data/1000 QR Images of Malicious and Benign QR codes 2025/malicious_qr_images_500/qr_47_malicious_images.png     \b\b\b\b 91%\b\b\b\b\b  OK \n",
            "Extracting  /content/qr_data/1000 QR Images of Malicious and Benign QR codes 2025/malicious_qr_images_500/qr_480_malicious_images.png     \b\b\b\b 91%\b\b\b\b\b  OK \n",
            "Extracting  /content/qr_data/1000 QR Images of Malicious and Benign QR codes 2025/malicious_qr_images_500/qr_481_malicious_images.png     \b\b\b\b 91%\b\b\b\b\b  OK \n",
            "Extracting  /content/qr_data/1000 QR Images of Malicious and Benign QR codes 2025/malicious_qr_images_500/qr_482_malicious_images.png     \b\b\b\b 91%\b\b\b\b\b  OK \n",
            "Extracting  /content/qr_data/1000 QR Images of Malicious and Benign QR codes 2025/malicious_qr_images_500/qr_483_malicious_images.png     \b\b\b\b 92%\b\b\b\b\b  OK \n",
            "Extracting  /content/qr_data/1000 QR Images of Malicious and Benign QR codes 2025/malicious_qr_images_500/qr_484_malicious_images.png     \b\b\b\b 92%\b\b\b\b\b  OK \n",
            "Extracting  /content/qr_data/1000 QR Images of Malicious and Benign QR codes 2025/malicious_qr_images_500/qr_485_malicious_images.png     \b\b\b\b 92%\b\b\b\b\b  OK \n",
            "Extracting  /content/qr_data/1000 QR Images of Malicious and Benign QR codes 2025/malicious_qr_images_500/qr_486_malicious_images.png     \b\b\b\b 92%\b\b\b\b\b  OK \n",
            "Extracting  /content/qr_data/1000 QR Images of Malicious and Benign QR codes 2025/malicious_qr_images_500/qr_487_malicious_images.png     \b\b\b\b 92%\b\b\b\b\b  OK \n",
            "Extracting  /content/qr_data/1000 QR Images of Malicious and Benign QR codes 2025/malicious_qr_images_500/qr_488_malicious_images.png     \b\b\b\b 92%\b\b\b\b\b  OK \n",
            "Extracting  /content/qr_data/1000 QR Images of Malicious and Benign QR codes 2025/malicious_qr_images_500/qr_489_malicious_images.png     \b\b\b\b 92%\b\b\b\b\b  OK \n",
            "Extracting  /content/qr_data/1000 QR Images of Malicious and Benign QR codes 2025/malicious_qr_images_500/qr_48_malicious_images.png     \b\b\b\b 92%\b\b\b\b\b  OK \n",
            "Extracting  /content/qr_data/1000 QR Images of Malicious and Benign QR codes 2025/malicious_qr_images_500/qr_490_malicious_images.png     \b\b\b\b 92%\b\b\b\b\b  OK \n",
            "Extracting  /content/qr_data/1000 QR Images of Malicious and Benign QR codes 2025/malicious_qr_images_500/qr_491_malicious_images.png     \b\b\b\b 93%\b\b\b\b\b  OK \n",
            "Extracting  /content/qr_data/1000 QR Images of Malicious and Benign QR codes 2025/malicious_qr_images_500/qr_492_malicious_images.png     \b\b\b\b 93%\b\b\b\b\b  OK \n",
            "Extracting  /content/qr_data/1000 QR Images of Malicious and Benign QR codes 2025/malicious_qr_images_500/qr_493_malicious_images.png     \b\b\b\b 93%\b\b\b\b\b  OK \n",
            "Extracting  /content/qr_data/1000 QR Images of Malicious and Benign QR codes 2025/malicious_qr_images_500/qr_494_malicious_images.png     \b\b\b\b 93%\b\b\b\b\b  OK \n",
            "Extracting  /content/qr_data/1000 QR Images of Malicious and Benign QR codes 2025/malicious_qr_images_500/qr_495_malicious_images.png     \b\b\b\b 93%\b\b\b\b\b  OK \n",
            "Extracting  /content/qr_data/1000 QR Images of Malicious and Benign QR codes 2025/malicious_qr_images_500/qr_496_malicious_images.png     \b\b\b\b 93%\b\b\b\b\b  OK \n",
            "Extracting  /content/qr_data/1000 QR Images of Malicious and Benign QR codes 2025/malicious_qr_images_500/qr_497_malicious_images.png     \b\b\b\b 93%\b\b\b\b\b  OK \n",
            "Extracting  /content/qr_data/1000 QR Images of Malicious and Benign QR codes 2025/malicious_qr_images_500/qr_498_malicious_images.png     \b\b\b\b 93%\b\b\b\b\b  OK \n",
            "Extracting  /content/qr_data/1000 QR Images of Malicious and Benign QR codes 2025/malicious_qr_images_500/qr_499_malicious_images.png     \b\b\b\b 93%\b\b\b\b\b  OK \n",
            "Extracting  /content/qr_data/1000 QR Images of Malicious and Benign QR codes 2025/malicious_qr_images_500/qr_49_malicious_images.png     \b\b\b\b 94%\b\b\b\b\b  OK \n",
            "Extracting  /content/qr_data/1000 QR Images of Malicious and Benign QR codes 2025/malicious_qr_images_500/qr_4_malicious_images.png     \b\b\b\b 94%\b\b\b\b\b  OK \n",
            "Extracting  /content/qr_data/1000 QR Images of Malicious and Benign QR codes 2025/malicious_qr_images_500/qr_50_malicious_images.png     \b\b\b\b 94%\b\b\b\b\b  OK \n",
            "Extracting  /content/qr_data/1000 QR Images of Malicious and Benign QR codes 2025/malicious_qr_images_500/qr_51_malicious_images.png     \b\b\b\b 94%\b\b\b\b\b  OK \n",
            "Extracting  /content/qr_data/1000 QR Images of Malicious and Benign QR codes 2025/malicious_qr_images_500/qr_52_malicious_images.png     \b\b\b\b 94%\b\b\b\b\b  OK \n",
            "Extracting  /content/qr_data/1000 QR Images of Malicious and Benign QR codes 2025/malicious_qr_images_500/qr_53_malicious_images.png     \b\b\b\b 94%\b\b\b\b\b  OK \n",
            "Extracting  /content/qr_data/1000 QR Images of Malicious and Benign QR codes 2025/malicious_qr_images_500/qr_54_malicious_images.png     \b\b\b\b 94%\b\b\b\b\b  OK \n",
            "Extracting  /content/qr_data/1000 QR Images of Malicious and Benign QR codes 2025/malicious_qr_images_500/qr_55_malicious_images.png     \b\b\b\b 94%\b\b\b\b\b  OK \n",
            "Extracting  /content/qr_data/1000 QR Images of Malicious and Benign QR codes 2025/malicious_qr_images_500/qr_56_malicious_images.png     \b\b\b\b 94%\b\b\b\b\b  OK \n",
            "Extracting  /content/qr_data/1000 QR Images of Malicious and Benign QR codes 2025/malicious_qr_images_500/qr_57_malicious_images.png     \b\b\b\b 95%\b\b\b\b\b  OK \n",
            "Extracting  /content/qr_data/1000 QR Images of Malicious and Benign QR codes 2025/malicious_qr_images_500/qr_58_malicious_images.png     \b\b\b\b 95%\b\b\b\b\b  OK \n",
            "Extracting  /content/qr_data/1000 QR Images of Malicious and Benign QR codes 2025/malicious_qr_images_500/qr_59_malicious_images.png     \b\b\b\b 95%\b\b\b\b\b  OK \n",
            "Extracting  /content/qr_data/1000 QR Images of Malicious and Benign QR codes 2025/malicious_qr_images_500/qr_5_malicious_images.png     \b\b\b\b 95%\b\b\b\b\b  OK \n",
            "Extracting  /content/qr_data/1000 QR Images of Malicious and Benign QR codes 2025/malicious_qr_images_500/qr_60_malicious_images.png     \b\b\b\b 95%\b\b\b\b\b  OK \n",
            "Extracting  /content/qr_data/1000 QR Images of Malicious and Benign QR codes 2025/malicious_qr_images_500/qr_61_malicious_images.png     \b\b\b\b 95%\b\b\b\b\b  OK \n",
            "Extracting  /content/qr_data/1000 QR Images of Malicious and Benign QR codes 2025/malicious_qr_images_500/qr_62_malicious_images.png     \b\b\b\b 95%\b\b\b\b\b  OK \n",
            "Extracting  /content/qr_data/1000 QR Images of Malicious and Benign QR codes 2025/malicious_qr_images_500/qr_63_malicious_images.png     \b\b\b\b 95%\b\b\b\b\b  OK \n",
            "Extracting  /content/qr_data/1000 QR Images of Malicious and Benign QR codes 2025/malicious_qr_images_500/qr_64_malicious_images.png     \b\b\b\b 95%\b\b\b\b\b  OK \n",
            "Extracting  /content/qr_data/1000 QR Images of Malicious and Benign QR codes 2025/malicious_qr_images_500/qr_65_malicious_images.png     \b\b\b\b 96%\b\b\b\b\b  OK \n",
            "Extracting  /content/qr_data/1000 QR Images of Malicious and Benign QR codes 2025/malicious_qr_images_500/qr_66_malicious_images.png     \b\b\b\b 96%\b\b\b\b\b  OK \n",
            "Extracting  /content/qr_data/1000 QR Images of Malicious and Benign QR codes 2025/malicious_qr_images_500/qr_67_malicious_images.png     \b\b\b\b 96%\b\b\b\b\b  OK \n",
            "Extracting  /content/qr_data/1000 QR Images of Malicious and Benign QR codes 2025/malicious_qr_images_500/qr_68_malicious_images.png     \b\b\b\b 96%\b\b\b\b\b  OK \n",
            "Extracting  /content/qr_data/1000 QR Images of Malicious and Benign QR codes 2025/malicious_qr_images_500/qr_69_malicious_images.png     \b\b\b\b 96%\b\b\b\b\b  OK \n",
            "Extracting  /content/qr_data/1000 QR Images of Malicious and Benign QR codes 2025/malicious_qr_images_500/qr_6_malicious_images.png     \b\b\b\b 96%\b\b\b\b\b  OK \n",
            "Extracting  /content/qr_data/1000 QR Images of Malicious and Benign QR codes 2025/malicious_qr_images_500/qr_70_malicious_images.png     \b\b\b\b 96%\b\b\b\b\b  OK \n",
            "Extracting  /content/qr_data/1000 QR Images of Malicious and Benign QR codes 2025/malicious_qr_images_500/qr_71_malicious_images.png     \b\b\b\b 96%\b\b\b\b\b  OK \n",
            "Extracting  /content/qr_data/1000 QR Images of Malicious and Benign QR codes 2025/malicious_qr_images_500/qr_72_malicious_images.png     \b\b\b\b 96%\b\b\b\b\b  OK \n",
            "Extracting  /content/qr_data/1000 QR Images of Malicious and Benign QR codes 2025/malicious_qr_images_500/qr_73_malicious_images.png     \b\b\b\b 96%\b\b\b\b\b  OK \n",
            "Extracting  /content/qr_data/1000 QR Images of Malicious and Benign QR codes 2025/malicious_qr_images_500/qr_74_malicious_images.png     \b\b\b\b 97%\b\b\b\b\b  OK \n",
            "Extracting  /content/qr_data/1000 QR Images of Malicious and Benign QR codes 2025/malicious_qr_images_500/qr_75_malicious_images.png     \b\b\b\b 97%\b\b\b\b\b  OK \n",
            "Extracting  /content/qr_data/1000 QR Images of Malicious and Benign QR codes 2025/malicious_qr_images_500/qr_76_malicious_images.png     \b\b\b\b 97%\b\b\b\b\b  OK \n",
            "Extracting  /content/qr_data/1000 QR Images of Malicious and Benign QR codes 2025/malicious_qr_images_500/qr_77_malicious_images.png     \b\b\b\b 97%\b\b\b\b\b  OK \n",
            "Extracting  /content/qr_data/1000 QR Images of Malicious and Benign QR codes 2025/malicious_qr_images_500/qr_78_malicious_images.png     \b\b\b\b 97%\b\b\b\b\b  OK \n",
            "Extracting  /content/qr_data/1000 QR Images of Malicious and Benign QR codes 2025/malicious_qr_images_500/qr_79_malicious_images.png     \b\b\b\b 97%\b\b\b\b\b  OK \n",
            "Extracting  /content/qr_data/1000 QR Images of Malicious and Benign QR codes 2025/malicious_qr_images_500/qr_7_malicious_images.png     \b\b\b\b 97%\b\b\b\b\b  OK \n",
            "Extracting  /content/qr_data/1000 QR Images of Malicious and Benign QR codes 2025/malicious_qr_images_500/qr_80_malicious_images.png     \b\b\b\b 97%\b\b\b\b\b  OK \n",
            "Extracting  /content/qr_data/1000 QR Images of Malicious and Benign QR codes 2025/malicious_qr_images_500/qr_81_malicious_images.png     \b\b\b\b 97%\b\b\b\b\b  OK \n",
            "Extracting  /content/qr_data/1000 QR Images of Malicious and Benign QR codes 2025/malicious_qr_images_500/qr_82_malicious_images.png     \b\b\b\b 97%\b\b\b\b\b  OK \n",
            "Extracting  /content/qr_data/1000 QR Images of Malicious and Benign QR codes 2025/malicious_qr_images_500/qr_83_malicious_images.png     \b\b\b\b 98%\b\b\b\b\b  OK \n",
            "Extracting  /content/qr_data/1000 QR Images of Malicious and Benign QR codes 2025/malicious_qr_images_500/qr_84_malicious_images.png     \b\b\b\b 98%\b\b\b\b\b  OK \n",
            "Extracting  /content/qr_data/1000 QR Images of Malicious and Benign QR codes 2025/malicious_qr_images_500/qr_85_malicious_images.png     \b\b\b\b 98%\b\b\b\b\b  OK \n",
            "Extracting  /content/qr_data/1000 QR Images of Malicious and Benign QR codes 2025/malicious_qr_images_500/qr_86_malicious_images.png     \b\b\b\b 98%\b\b\b\b\b  OK \n",
            "Extracting  /content/qr_data/1000 QR Images of Malicious and Benign QR codes 2025/malicious_qr_images_500/qr_87_malicious_images.png     \b\b\b\b 98%\b\b\b\b\b  OK \n",
            "Extracting  /content/qr_data/1000 QR Images of Malicious and Benign QR codes 2025/malicious_qr_images_500/qr_88_malicious_images.png     \b\b\b\b 98%\b\b\b\b\b  OK \n",
            "Extracting  /content/qr_data/1000 QR Images of Malicious and Benign QR codes 2025/malicious_qr_images_500/qr_89_malicious_images.png     \b\b\b\b 98%\b\b\b\b\b  OK \n",
            "Extracting  /content/qr_data/1000 QR Images of Malicious and Benign QR codes 2025/malicious_qr_images_500/qr_8_malicious_images.png     \b\b\b\b 98%\b\b\b\b\b  OK \n",
            "Extracting  /content/qr_data/1000 QR Images of Malicious and Benign QR codes 2025/malicious_qr_images_500/qr_90_malicious_images.png     \b\b\b\b 98%\b\b\b\b\b  OK \n",
            "Extracting  /content/qr_data/1000 QR Images of Malicious and Benign QR codes 2025/malicious_qr_images_500/qr_91_malicious_images.png     \b\b\b\b 99%\b\b\b\b\b  OK \n",
            "Extracting  /content/qr_data/1000 QR Images of Malicious and Benign QR codes 2025/malicious_qr_images_500/qr_92_malicious_images.png     \b\b\b\b 99%\b\b\b\b\b  OK \n",
            "Extracting  /content/qr_data/1000 QR Images of Malicious and Benign QR codes 2025/malicious_qr_images_500/qr_93_malicious_images.png     \b\b\b\b 99%\b\b\b\b\b  OK \n",
            "Extracting  /content/qr_data/1000 QR Images of Malicious and Benign QR codes 2025/malicious_qr_images_500/qr_94_malicious_images.png     \b\b\b\b 99%\b\b\b\b\b  OK \n",
            "Extracting  /content/qr_data/1000 QR Images of Malicious and Benign QR codes 2025/malicious_qr_images_500/qr_95_malicious_images.png     \b\b\b\b 99%\b\b\b\b\b  OK \n",
            "Extracting  /content/qr_data/1000 QR Images of Malicious and Benign QR codes 2025/malicious_qr_images_500/qr_96_malicious_images.png     \b\b\b\b 99%\b\b\b\b\b  OK \n",
            "Extracting  /content/qr_data/1000 QR Images of Malicious and Benign QR codes 2025/malicious_qr_images_500/qr_97_malicious_images.png     \b\b\b\b 99%\b\b\b\b\b  OK \n",
            "Extracting  /content/qr_data/1000 QR Images of Malicious and Benign QR codes 2025/malicious_qr_images_500/qr_98_malicious_images.png     \b\b\b\b 99%\b\b\b\b\b  OK \n",
            "Extracting  /content/qr_data/1000 QR Images of Malicious and Benign QR codes 2025/malicious_qr_images_500/qr_99_malicious_images.png     \b\b\b\b 99%\b\b\b\b\b  OK \n",
            "Extracting  /content/qr_data/1000 QR Images of Malicious and Benign QR codes 2025/malicious_qr_images_500/qr_9_malicious_images.png     \b\b\b\b 99%\b\b\b\b\b  OK \n",
            "All OK\n"
          ]
        }
      ]
    },
    {
      "cell_type": "code",
      "source": [],
      "metadata": {
        "id": "S-7OEOuEaR6e"
      },
      "execution_count": 3,
      "outputs": []
    },
    {
      "cell_type": "code",
      "source": [
        "!ls /content/qr_data/\n"
      ],
      "metadata": {
        "colab": {
          "base_uri": "https://localhost:8080/"
        },
        "id": "jhzwtioi4LnH",
        "outputId": "b8f30960-3b31-4fbc-9776-8d3788ab20ed"
      },
      "execution_count": 4,
      "outputs": [
        {
          "output_type": "stream",
          "name": "stdout",
          "text": [
            "ls: cannot access '/content/qr_data/': No such file or directory\n"
          ]
        }
      ]
    },
    {
      "cell_type": "code",
      "source": [
        "benign_path = \"/content/qr_data/1000 QR Images of Malicious and Benign QR codes 2025/benign_qr_images_500\"\n",
        "malicious_path = \"/content/qr_data/1000 QR Images of Malicious and Benign QR codes 2025/malicious_qr_images_500\"\n"
      ],
      "metadata": {
        "id": "6IlwkvEq4Q_m"
      },
      "execution_count": 5,
      "outputs": []
    },
    {
      "cell_type": "code",
      "source": [
        "import os\n",
        "print(\"Benign exists:\", os.path.exists(benign_path))\n",
        "print(\"Malicious exists:\", os.path.exists(malicious_path))\n"
      ],
      "metadata": {
        "colab": {
          "base_uri": "https://localhost:8080/"
        },
        "id": "pnUeT5TE4pc3",
        "outputId": "0cf25abf-82e7-4077-d1b3-f0eed378e38d"
      },
      "execution_count": 6,
      "outputs": [
        {
          "output_type": "stream",
          "name": "stdout",
          "text": [
            "Benign exists: False\n",
            "Malicious exists: False\n"
          ]
        }
      ]
    },
    {
      "cell_type": "code",
      "source": [
        "# Set image dimensions\n",
        "height, width = 224, 224  # Standard size, adjust if needed\n",
        "channels = 3  # RGB images\n"
      ],
      "metadata": {
        "id": "JfzeXhej4ui2"
      },
      "execution_count": 7,
      "outputs": []
    },
    {
      "cell_type": "code",
      "source": [
        "def load_images(folder_path, label):\n",
        "    images = []\n",
        "    labels = []\n",
        "    for img_name in os.listdir(folder_path):\n",
        "        if img_name.endswith('.png'):\n",
        "            img_path = os.path.join(folder_path, img_name)\n",
        "            img = load_img(img_path, target_size=(height, width))\n",
        "            img_array = img_to_array(img)\n",
        "            img_array = img_array / 255.0\n",
        "            images.append(img_array)\n",
        "            labels.append(label)\n",
        "    return images, labels\n"
      ],
      "metadata": {
        "id": "DuzD64c440ii"
      },
      "execution_count": 21,
      "outputs": []
    },
    {
      "cell_type": "code",
      "source": [
        "# Load images\n",
        "benign_images, benign_labels = load_images(benign_path, 0)\n",
        "malicious_images, malicious_labels = load_images(malicious_path, 1)"
      ],
      "metadata": {
        "id": "rXuhpMSD5AcD"
      },
      "execution_count": 22,
      "outputs": []
    },
    {
      "cell_type": "code",
      "source": [
        "# Combine datasets\n",
        "X = np.array(benign_images + malicious_images)\n",
        "y = np.array(benign_labels + malicious_labels)"
      ],
      "metadata": {
        "id": "w4MrwMqW4_pM"
      },
      "execution_count": 23,
      "outputs": []
    },
    {
      "cell_type": "code",
      "source": [
        "# Split data\n",
        "x_train, x_test, y_train, y_test = train_test_split(X, y, test_size=0.2, random_state=42)"
      ],
      "metadata": {
        "id": "CpObamcm5OQU"
      },
      "execution_count": 24,
      "outputs": []
    },
    {
      "cell_type": "code",
      "source": [
        "# Convert to categorical\n",
        "y_train = keras.utils.to_categorical(y_train)\n",
        "y_test = keras.utils.to_categorical(y_test)"
      ],
      "metadata": {
        "id": "HPb54DC05Uqw"
      },
      "execution_count": 25,
      "outputs": []
    },
    {
      "cell_type": "code",
      "source": [
        "print(\"shape of x_train:\", x_train.shape)\n",
        "print(\"shape of y_train:\", y_train.shape)\n",
        "print(\"shape of x_test:\", x_test.shape)\n",
        "print(\"shape of y_test:\", y_test.shape)"
      ],
      "metadata": {
        "colab": {
          "base_uri": "https://localhost:8080/"
        },
        "id": "9yfqm22F55Ee",
        "outputId": "2340f335-120f-4c63-d690-81ed0bd149a8"
      },
      "execution_count": 26,
      "outputs": [
        {
          "output_type": "stream",
          "name": "stdout",
          "text": [
            "shape of x_train: (800, 224, 224, 3)\n",
            "shape of y_train: (800, 2)\n",
            "shape of x_test: (200, 224, 224, 3)\n",
            "shape of y_test: (200, 2)\n"
          ]
        }
      ]
    },
    {
      "cell_type": "code",
      "source": [
        "# Define model parameters\n",
        "num_classes = 2  # Benign and Malicious\n",
        "batch_size = 32\n",
        "num_epochs = 10"
      ],
      "metadata": {
        "id": "DudYMu096D1T"
      },
      "execution_count": 27,
      "outputs": []
    },
    {
      "cell_type": "code",
      "source": [
        "# Create and train model\n",
        "input_shape = (height, width, channels)\n",
        "\n",
        "model_1 = keras.Sequential([\n",
        "    Input(shape=input_shape),\n",
        "    layers.Conv2D(32, kernel_size=(3,3), activation='relu'),\n",
        "    layers.MaxPooling2D(pool_size=(2,2)),\n",
        "    layers.Conv2D(64, kernel_size=(3,3), activation='relu'),\n",
        "    layers.MaxPooling2D(pool_size=(2,2)),\n",
        "    layers.Flatten(),\n",
        "    layers.Dense(num_classes, activation='softmax')\n",
        "])"
      ],
      "metadata": {
        "id": "oDxtIcjN6TeG"
      },
      "execution_count": 28,
      "outputs": []
    },
    {
      "cell_type": "code",
      "source": [
        "model_1.compile(loss='categorical_crossentropy', optimizer='adam', metrics=['accuracy'])"
      ],
      "metadata": {
        "id": "3McgZfGz7Svp"
      },
      "execution_count": 29,
      "outputs": []
    },
    {
      "cell_type": "code",
      "source": [
        "model_1.summary()"
      ],
      "metadata": {
        "colab": {
          "base_uri": "https://localhost:8080/",
          "height": 321
        },
        "id": "V7Vu12rW7X0n",
        "outputId": "a2d8cfa4-4c0c-48b2-b31c-72c6f900757b"
      },
      "execution_count": 30,
      "outputs": [
        {
          "output_type": "display_data",
          "data": {
            "text/plain": [
              "\u001b[1mModel: \"sequential\"\u001b[0m\n"
            ],
            "text/html": [
              "<pre style=\"white-space:pre;overflow-x:auto;line-height:normal;font-family:Menlo,'DejaVu Sans Mono',consolas,'Courier New',monospace\"><span style=\"font-weight: bold\">Model: \"sequential\"</span>\n",
              "</pre>\n"
            ]
          },
          "metadata": {}
        },
        {
          "output_type": "display_data",
          "data": {
            "text/plain": [
              "┏━━━━━━━━━━━━━━━━━━━━━━━━━━━━━━━━━┳━━━━━━━━━━━━━━━━━━━━━━━━┳━━━━━━━━━━━━━━━┓\n",
              "┃\u001b[1m \u001b[0m\u001b[1mLayer (type)                   \u001b[0m\u001b[1m \u001b[0m┃\u001b[1m \u001b[0m\u001b[1mOutput Shape          \u001b[0m\u001b[1m \u001b[0m┃\u001b[1m \u001b[0m\u001b[1m      Param #\u001b[0m\u001b[1m \u001b[0m┃\n",
              "┡━━━━━━━━━━━━━━━━━━━━━━━━━━━━━━━━━╇━━━━━━━━━━━━━━━━━━━━━━━━╇━━━━━━━━━━━━━━━┩\n",
              "│ conv2d (\u001b[38;5;33mConv2D\u001b[0m)                 │ (\u001b[38;5;45mNone\u001b[0m, \u001b[38;5;34m222\u001b[0m, \u001b[38;5;34m222\u001b[0m, \u001b[38;5;34m32\u001b[0m)   │           \u001b[38;5;34m896\u001b[0m │\n",
              "├─────────────────────────────────┼────────────────────────┼───────────────┤\n",
              "│ max_pooling2d (\u001b[38;5;33mMaxPooling2D\u001b[0m)    │ (\u001b[38;5;45mNone\u001b[0m, \u001b[38;5;34m111\u001b[0m, \u001b[38;5;34m111\u001b[0m, \u001b[38;5;34m32\u001b[0m)   │             \u001b[38;5;34m0\u001b[0m │\n",
              "├─────────────────────────────────┼────────────────────────┼───────────────┤\n",
              "│ conv2d_1 (\u001b[38;5;33mConv2D\u001b[0m)               │ (\u001b[38;5;45mNone\u001b[0m, \u001b[38;5;34m109\u001b[0m, \u001b[38;5;34m109\u001b[0m, \u001b[38;5;34m64\u001b[0m)   │        \u001b[38;5;34m18,496\u001b[0m │\n",
              "├─────────────────────────────────┼────────────────────────┼───────────────┤\n",
              "│ max_pooling2d_1 (\u001b[38;5;33mMaxPooling2D\u001b[0m)  │ (\u001b[38;5;45mNone\u001b[0m, \u001b[38;5;34m54\u001b[0m, \u001b[38;5;34m54\u001b[0m, \u001b[38;5;34m64\u001b[0m)     │             \u001b[38;5;34m0\u001b[0m │\n",
              "├─────────────────────────────────┼────────────────────────┼───────────────┤\n",
              "│ flatten (\u001b[38;5;33mFlatten\u001b[0m)               │ (\u001b[38;5;45mNone\u001b[0m, \u001b[38;5;34m186624\u001b[0m)         │             \u001b[38;5;34m0\u001b[0m │\n",
              "├─────────────────────────────────┼────────────────────────┼───────────────┤\n",
              "│ dense (\u001b[38;5;33mDense\u001b[0m)                   │ (\u001b[38;5;45mNone\u001b[0m, \u001b[38;5;34m2\u001b[0m)              │       \u001b[38;5;34m373,250\u001b[0m │\n",
              "└─────────────────────────────────┴────────────────────────┴───────────────┘\n"
            ],
            "text/html": [
              "<pre style=\"white-space:pre;overflow-x:auto;line-height:normal;font-family:Menlo,'DejaVu Sans Mono',consolas,'Courier New',monospace\">┏━━━━━━━━━━━━━━━━━━━━━━━━━━━━━━━━━┳━━━━━━━━━━━━━━━━━━━━━━━━┳━━━━━━━━━━━━━━━┓\n",
              "┃<span style=\"font-weight: bold\"> Layer (type)                    </span>┃<span style=\"font-weight: bold\"> Output Shape           </span>┃<span style=\"font-weight: bold\">       Param # </span>┃\n",
              "┡━━━━━━━━━━━━━━━━━━━━━━━━━━━━━━━━━╇━━━━━━━━━━━━━━━━━━━━━━━━╇━━━━━━━━━━━━━━━┩\n",
              "│ conv2d (<span style=\"color: #0087ff; text-decoration-color: #0087ff\">Conv2D</span>)                 │ (<span style=\"color: #00d7ff; text-decoration-color: #00d7ff\">None</span>, <span style=\"color: #00af00; text-decoration-color: #00af00\">222</span>, <span style=\"color: #00af00; text-decoration-color: #00af00\">222</span>, <span style=\"color: #00af00; text-decoration-color: #00af00\">32</span>)   │           <span style=\"color: #00af00; text-decoration-color: #00af00\">896</span> │\n",
              "├─────────────────────────────────┼────────────────────────┼───────────────┤\n",
              "│ max_pooling2d (<span style=\"color: #0087ff; text-decoration-color: #0087ff\">MaxPooling2D</span>)    │ (<span style=\"color: #00d7ff; text-decoration-color: #00d7ff\">None</span>, <span style=\"color: #00af00; text-decoration-color: #00af00\">111</span>, <span style=\"color: #00af00; text-decoration-color: #00af00\">111</span>, <span style=\"color: #00af00; text-decoration-color: #00af00\">32</span>)   │             <span style=\"color: #00af00; text-decoration-color: #00af00\">0</span> │\n",
              "├─────────────────────────────────┼────────────────────────┼───────────────┤\n",
              "│ conv2d_1 (<span style=\"color: #0087ff; text-decoration-color: #0087ff\">Conv2D</span>)               │ (<span style=\"color: #00d7ff; text-decoration-color: #00d7ff\">None</span>, <span style=\"color: #00af00; text-decoration-color: #00af00\">109</span>, <span style=\"color: #00af00; text-decoration-color: #00af00\">109</span>, <span style=\"color: #00af00; text-decoration-color: #00af00\">64</span>)   │        <span style=\"color: #00af00; text-decoration-color: #00af00\">18,496</span> │\n",
              "├─────────────────────────────────┼────────────────────────┼───────────────┤\n",
              "│ max_pooling2d_1 (<span style=\"color: #0087ff; text-decoration-color: #0087ff\">MaxPooling2D</span>)  │ (<span style=\"color: #00d7ff; text-decoration-color: #00d7ff\">None</span>, <span style=\"color: #00af00; text-decoration-color: #00af00\">54</span>, <span style=\"color: #00af00; text-decoration-color: #00af00\">54</span>, <span style=\"color: #00af00; text-decoration-color: #00af00\">64</span>)     │             <span style=\"color: #00af00; text-decoration-color: #00af00\">0</span> │\n",
              "├─────────────────────────────────┼────────────────────────┼───────────────┤\n",
              "│ flatten (<span style=\"color: #0087ff; text-decoration-color: #0087ff\">Flatten</span>)               │ (<span style=\"color: #00d7ff; text-decoration-color: #00d7ff\">None</span>, <span style=\"color: #00af00; text-decoration-color: #00af00\">186624</span>)         │             <span style=\"color: #00af00; text-decoration-color: #00af00\">0</span> │\n",
              "├─────────────────────────────────┼────────────────────────┼───────────────┤\n",
              "│ dense (<span style=\"color: #0087ff; text-decoration-color: #0087ff\">Dense</span>)                   │ (<span style=\"color: #00d7ff; text-decoration-color: #00d7ff\">None</span>, <span style=\"color: #00af00; text-decoration-color: #00af00\">2</span>)              │       <span style=\"color: #00af00; text-decoration-color: #00af00\">373,250</span> │\n",
              "└─────────────────────────────────┴────────────────────────┴───────────────┘\n",
              "</pre>\n"
            ]
          },
          "metadata": {}
        },
        {
          "output_type": "display_data",
          "data": {
            "text/plain": [
              "\u001b[1m Total params: \u001b[0m\u001b[38;5;34m392,642\u001b[0m (1.50 MB)\n"
            ],
            "text/html": [
              "<pre style=\"white-space:pre;overflow-x:auto;line-height:normal;font-family:Menlo,'DejaVu Sans Mono',consolas,'Courier New',monospace\"><span style=\"font-weight: bold\"> Total params: </span><span style=\"color: #00af00; text-decoration-color: #00af00\">392,642</span> (1.50 MB)\n",
              "</pre>\n"
            ]
          },
          "metadata": {}
        },
        {
          "output_type": "display_data",
          "data": {
            "text/plain": [
              "\u001b[1m Trainable params: \u001b[0m\u001b[38;5;34m392,642\u001b[0m (1.50 MB)\n"
            ],
            "text/html": [
              "<pre style=\"white-space:pre;overflow-x:auto;line-height:normal;font-family:Menlo,'DejaVu Sans Mono',consolas,'Courier New',monospace\"><span style=\"font-weight: bold\"> Trainable params: </span><span style=\"color: #00af00; text-decoration-color: #00af00\">392,642</span> (1.50 MB)\n",
              "</pre>\n"
            ]
          },
          "metadata": {}
        },
        {
          "output_type": "display_data",
          "data": {
            "text/plain": [
              "\u001b[1m Non-trainable params: \u001b[0m\u001b[38;5;34m0\u001b[0m (0.00 B)\n"
            ],
            "text/html": [
              "<pre style=\"white-space:pre;overflow-x:auto;line-height:normal;font-family:Menlo,'DejaVu Sans Mono',consolas,'Courier New',monospace\"><span style=\"font-weight: bold\"> Non-trainable params: </span><span style=\"color: #00af00; text-decoration-color: #00af00\">0</span> (0.00 B)\n",
              "</pre>\n"
            ]
          },
          "metadata": {}
        }
      ]
    },
    {
      "cell_type": "code",
      "source": [
        "start_time = time.time()\n",
        "model_1.fit(x_train, y_train, batch_size=batch_size, epochs=num_epochs, validation_data=(x_test, y_test))\n",
        "end_time = time.time()\n",
        "elapsed_time = end_time - start_time\n",
        "print(f\"Training time: {elapsed_time:.2f} seconds\")\n"
      ],
      "metadata": {
        "colab": {
          "base_uri": "https://localhost:8080/"
        },
        "id": "QeZj1FJR7gHj",
        "outputId": "ac3f8868-c562-468c-8081-4e96621c3376"
      },
      "execution_count": 31,
      "outputs": [
        {
          "output_type": "stream",
          "name": "stdout",
          "text": [
            "Epoch 1/10\n",
            "\u001b[1m25/25\u001b[0m \u001b[32m━━━━━━━━━━━━━━━━━━━━\u001b[0m\u001b[37m\u001b[0m \u001b[1m9s\u001b[0m 131ms/step - accuracy: 0.6227 - loss: 2.9625 - val_accuracy: 0.8050 - val_loss: 0.5070\n",
            "Epoch 2/10\n",
            "\u001b[1m25/25\u001b[0m \u001b[32m━━━━━━━━━━━━━━━━━━━━\u001b[0m\u001b[37m\u001b[0m \u001b[1m1s\u001b[0m 55ms/step - accuracy: 0.7830 - loss: 0.4843 - val_accuracy: 0.8000 - val_loss: 0.4424\n",
            "Epoch 3/10\n",
            "\u001b[1m25/25\u001b[0m \u001b[32m━━━━━━━━━━━━━━━━━━━━\u001b[0m\u001b[37m\u001b[0m \u001b[1m2s\u001b[0m 45ms/step - accuracy: 0.8363 - loss: 0.3850 - val_accuracy: 0.8200 - val_loss: 0.4011\n",
            "Epoch 4/10\n",
            "\u001b[1m25/25\u001b[0m \u001b[32m━━━━━━━━━━━━━━━━━━━━\u001b[0m\u001b[37m\u001b[0m \u001b[1m1s\u001b[0m 45ms/step - accuracy: 0.8879 - loss: 0.2862 - val_accuracy: 0.8100 - val_loss: 0.4029\n",
            "Epoch 5/10\n",
            "\u001b[1m25/25\u001b[0m \u001b[32m━━━━━━━━━━━━━━━━━━━━\u001b[0m\u001b[37m\u001b[0m \u001b[1m1s\u001b[0m 45ms/step - accuracy: 0.9169 - loss: 0.2378 - val_accuracy: 0.8450 - val_loss: 0.3479\n",
            "Epoch 6/10\n",
            "\u001b[1m25/25\u001b[0m \u001b[32m━━━━━━━━━━━━━━━━━━━━\u001b[0m\u001b[37m\u001b[0m \u001b[1m1s\u001b[0m 46ms/step - accuracy: 0.9585 - loss: 0.1654 - val_accuracy: 0.8750 - val_loss: 0.3507\n",
            "Epoch 7/10\n",
            "\u001b[1m25/25\u001b[0m \u001b[32m━━━━━━━━━━━━━━━━━━━━\u001b[0m\u001b[37m\u001b[0m \u001b[1m1s\u001b[0m 47ms/step - accuracy: 0.9753 - loss: 0.1002 - val_accuracy: 0.8750 - val_loss: 0.3774\n",
            "Epoch 8/10\n",
            "\u001b[1m25/25\u001b[0m \u001b[32m━━━━━━━━━━━━━━━━━━━━\u001b[0m\u001b[37m\u001b[0m \u001b[1m1s\u001b[0m 46ms/step - accuracy: 0.9855 - loss: 0.0689 - val_accuracy: 0.8800 - val_loss: 0.4495\n",
            "Epoch 9/10\n",
            "\u001b[1m25/25\u001b[0m \u001b[32m━━━━━━━━━━━━━━━━━━━━\u001b[0m\u001b[37m\u001b[0m \u001b[1m1s\u001b[0m 46ms/step - accuracy: 0.9926 - loss: 0.0351 - val_accuracy: 0.8750 - val_loss: 0.4882\n",
            "Epoch 10/10\n",
            "\u001b[1m25/25\u001b[0m \u001b[32m━━━━━━━━━━━━━━━━━━━━\u001b[0m\u001b[37m\u001b[0m \u001b[1m1s\u001b[0m 45ms/step - accuracy: 0.9913 - loss: 0.0283 - val_accuracy: 0.8400 - val_loss: 0.5478\n",
            "Training time: 22.53 seconds\n"
          ]
        }
      ]
    },
    {
      "cell_type": "code",
      "source": [
        "\n",
        "# Evaluate model\n",
        "score = model_1.evaluate(x_test, y_test, verbose=0)\n",
        "print(\"Test loss:\", score[0])\n",
        "print(\"Test accuracy:\", score[1])"
      ],
      "metadata": {
        "colab": {
          "base_uri": "https://localhost:8080/"
        },
        "id": "FiTYYicO8Zcg",
        "outputId": "62db70ae-ae43-4b3f-8f8b-9757c01d0491"
      },
      "execution_count": 32,
      "outputs": [
        {
          "output_type": "stream",
          "name": "stdout",
          "text": [
            "Test loss: 0.547755241394043\n",
            "Test accuracy: 0.8399999737739563\n"
          ]
        }
      ]
    },
    {
      "cell_type": "code",
      "source": [
        "# 1. Get predicted class labels\n",
        "y_prob = model_1.predict(x_test)              # shape (N, num_classes)\n",
        "y_pred = np.argmax(y_prob, axis=1)            # shape (N,)\n",
        "y_true = np.argmax(y_test, axis=1)            # shape (N,)\n",
        "\n",
        "# 2. Compute confusion matrix entries\n",
        "tn, fp, fn, tp = confusion_matrix(y_true, y_pred).ravel()\n",
        "\n",
        "# 3. Compute metrics\n",
        "accuracy_1    = (tp + tn) / (tp + fp + tn + fn)\n",
        "precision_1  = tp / (tp + fp) if (tp + fp) > 0 else 0\n",
        "sensitivity_1 = tp / (tp + fn) if (tp + fn) > 0 else 0   # a.k.a recall\n",
        "f1_score_1    = 2 * (precision_1 * sensitivity_1) / (precision_1 + sensitivity_1) \\\n",
        "              if (precision_1 + sensitivity_1) > 0 else 0\n",
        "\n",
        "# 4. Display\n",
        "print(f\"TP={tp}, FP={fp}, TN={tn}, FN={fn}\")\n",
        "print(f\"Accuracy_1  = (TP + TN) / (TP + FP + TN + FN) = {accuracy_1:.4f}\")\n",
        "print(f\"Precision_1 = TP / (TP + FP)                   = {precision_1:.4f}\")\n",
        "print(f\"Sensitivity_1 (Recall) = TP / (TP + FN)        = {sensitivity_1:.4f}\")\n",
        "print(f\"F1 Score_1  = 2*(Precision*Sensitivity)/(Precision+Sensitivity) = {f1_score_1:.4f}\")"
      ],
      "metadata": {
        "colab": {
          "base_uri": "https://localhost:8080/"
        },
        "id": "hrbbVM9A8ZY_",
        "outputId": "46f5932a-3d0e-4d4c-8715-58c0a34e6e12"
      },
      "execution_count": 33,
      "outputs": [
        {
          "output_type": "stream",
          "name": "stdout",
          "text": [
            "\u001b[1m7/7\u001b[0m \u001b[32m━━━━━━━━━━━━━━━━━━━━\u001b[0m\u001b[37m\u001b[0m \u001b[1m1s\u001b[0m 86ms/step\n",
            "TP=94, FP=22, TN=74, FN=10\n",
            "Accuracy_1  = (TP + TN) / (TP + FP + TN + FN) = 0.8400\n",
            "Precision_1 = TP / (TP + FP)                   = 0.8103\n",
            "Sensitivity_1 (Recall) = TP / (TP + FN)        = 0.9038\n",
            "F1 Score_1  = 2*(Precision*Sensitivity)/(Precision+Sensitivity) = 0.8545\n"
          ]
        }
      ]
    },
    {
      "cell_type": "code",
      "source": [
        "input_shape = (height, width, channels)\n",
        "model_2 = keras.Sequential([\n",
        "    layers.Input(shape=input_shape),\n",
        "    layers.Conv2D(64, kernel_size=(3, 3), activation='relu'),\n",
        "    layers.MaxPooling2D(pool_size=(2, 2)),\n",
        "    layers.Conv2D(64, kernel_size=(3, 3), activation='relu'),\n",
        "    layers.MaxPooling2D(pool_size=(2, 2)),\n",
        "    layers.Flatten(),\n",
        "    layers.Dense(256, activation='relu'),\n",
        "    layers.Dense(num_classes, activation='softmax')\n",
        "])"
      ],
      "metadata": {
        "id": "AUcrtNLsnrG6"
      },
      "execution_count": 34,
      "outputs": []
    },
    {
      "cell_type": "code",
      "source": [
        "model_2.compile(loss='categorical_crossentropy', optimizer='adam', metrics=['accuracy'])\n",
        ""
      ],
      "metadata": {
        "id": "CVaWBbWXn5mn"
      },
      "execution_count": 35,
      "outputs": []
    },
    {
      "cell_type": "code",
      "source": [
        "model_2.summary()"
      ],
      "metadata": {
        "colab": {
          "base_uri": "https://localhost:8080/",
          "height": 353
        },
        "id": "JiEojNCLn5jK",
        "outputId": "58be0255-6a10-4eed-f997-bffb7aba0db8"
      },
      "execution_count": 36,
      "outputs": [
        {
          "output_type": "display_data",
          "data": {
            "text/plain": [
              "\u001b[1mModel: \"sequential_1\"\u001b[0m\n"
            ],
            "text/html": [
              "<pre style=\"white-space:pre;overflow-x:auto;line-height:normal;font-family:Menlo,'DejaVu Sans Mono',consolas,'Courier New',monospace\"><span style=\"font-weight: bold\">Model: \"sequential_1\"</span>\n",
              "</pre>\n"
            ]
          },
          "metadata": {}
        },
        {
          "output_type": "display_data",
          "data": {
            "text/plain": [
              "┏━━━━━━━━━━━━━━━━━━━━━━━━━━━━━━━━━┳━━━━━━━━━━━━━━━━━━━━━━━━┳━━━━━━━━━━━━━━━┓\n",
              "┃\u001b[1m \u001b[0m\u001b[1mLayer (type)                   \u001b[0m\u001b[1m \u001b[0m┃\u001b[1m \u001b[0m\u001b[1mOutput Shape          \u001b[0m\u001b[1m \u001b[0m┃\u001b[1m \u001b[0m\u001b[1m      Param #\u001b[0m\u001b[1m \u001b[0m┃\n",
              "┡━━━━━━━━━━━━━━━━━━━━━━━━━━━━━━━━━╇━━━━━━━━━━━━━━━━━━━━━━━━╇━━━━━━━━━━━━━━━┩\n",
              "│ conv2d_2 (\u001b[38;5;33mConv2D\u001b[0m)               │ (\u001b[38;5;45mNone\u001b[0m, \u001b[38;5;34m222\u001b[0m, \u001b[38;5;34m222\u001b[0m, \u001b[38;5;34m64\u001b[0m)   │         \u001b[38;5;34m1,792\u001b[0m │\n",
              "├─────────────────────────────────┼────────────────────────┼───────────────┤\n",
              "│ max_pooling2d_2 (\u001b[38;5;33mMaxPooling2D\u001b[0m)  │ (\u001b[38;5;45mNone\u001b[0m, \u001b[38;5;34m111\u001b[0m, \u001b[38;5;34m111\u001b[0m, \u001b[38;5;34m64\u001b[0m)   │             \u001b[38;5;34m0\u001b[0m │\n",
              "├─────────────────────────────────┼────────────────────────┼───────────────┤\n",
              "│ conv2d_3 (\u001b[38;5;33mConv2D\u001b[0m)               │ (\u001b[38;5;45mNone\u001b[0m, \u001b[38;5;34m109\u001b[0m, \u001b[38;5;34m109\u001b[0m, \u001b[38;5;34m64\u001b[0m)   │        \u001b[38;5;34m36,928\u001b[0m │\n",
              "├─────────────────────────────────┼────────────────────────┼───────────────┤\n",
              "│ max_pooling2d_3 (\u001b[38;5;33mMaxPooling2D\u001b[0m)  │ (\u001b[38;5;45mNone\u001b[0m, \u001b[38;5;34m54\u001b[0m, \u001b[38;5;34m54\u001b[0m, \u001b[38;5;34m64\u001b[0m)     │             \u001b[38;5;34m0\u001b[0m │\n",
              "├─────────────────────────────────┼────────────────────────┼───────────────┤\n",
              "│ flatten_1 (\u001b[38;5;33mFlatten\u001b[0m)             │ (\u001b[38;5;45mNone\u001b[0m, \u001b[38;5;34m186624\u001b[0m)         │             \u001b[38;5;34m0\u001b[0m │\n",
              "├─────────────────────────────────┼────────────────────────┼───────────────┤\n",
              "│ dense_1 (\u001b[38;5;33mDense\u001b[0m)                 │ (\u001b[38;5;45mNone\u001b[0m, \u001b[38;5;34m256\u001b[0m)            │    \u001b[38;5;34m47,776,000\u001b[0m │\n",
              "├─────────────────────────────────┼────────────────────────┼───────────────┤\n",
              "│ dense_2 (\u001b[38;5;33mDense\u001b[0m)                 │ (\u001b[38;5;45mNone\u001b[0m, \u001b[38;5;34m2\u001b[0m)              │           \u001b[38;5;34m514\u001b[0m │\n",
              "└─────────────────────────────────┴────────────────────────┴───────────────┘\n"
            ],
            "text/html": [
              "<pre style=\"white-space:pre;overflow-x:auto;line-height:normal;font-family:Menlo,'DejaVu Sans Mono',consolas,'Courier New',monospace\">┏━━━━━━━━━━━━━━━━━━━━━━━━━━━━━━━━━┳━━━━━━━━━━━━━━━━━━━━━━━━┳━━━━━━━━━━━━━━━┓\n",
              "┃<span style=\"font-weight: bold\"> Layer (type)                    </span>┃<span style=\"font-weight: bold\"> Output Shape           </span>┃<span style=\"font-weight: bold\">       Param # </span>┃\n",
              "┡━━━━━━━━━━━━━━━━━━━━━━━━━━━━━━━━━╇━━━━━━━━━━━━━━━━━━━━━━━━╇━━━━━━━━━━━━━━━┩\n",
              "│ conv2d_2 (<span style=\"color: #0087ff; text-decoration-color: #0087ff\">Conv2D</span>)               │ (<span style=\"color: #00d7ff; text-decoration-color: #00d7ff\">None</span>, <span style=\"color: #00af00; text-decoration-color: #00af00\">222</span>, <span style=\"color: #00af00; text-decoration-color: #00af00\">222</span>, <span style=\"color: #00af00; text-decoration-color: #00af00\">64</span>)   │         <span style=\"color: #00af00; text-decoration-color: #00af00\">1,792</span> │\n",
              "├─────────────────────────────────┼────────────────────────┼───────────────┤\n",
              "│ max_pooling2d_2 (<span style=\"color: #0087ff; text-decoration-color: #0087ff\">MaxPooling2D</span>)  │ (<span style=\"color: #00d7ff; text-decoration-color: #00d7ff\">None</span>, <span style=\"color: #00af00; text-decoration-color: #00af00\">111</span>, <span style=\"color: #00af00; text-decoration-color: #00af00\">111</span>, <span style=\"color: #00af00; text-decoration-color: #00af00\">64</span>)   │             <span style=\"color: #00af00; text-decoration-color: #00af00\">0</span> │\n",
              "├─────────────────────────────────┼────────────────────────┼───────────────┤\n",
              "│ conv2d_3 (<span style=\"color: #0087ff; text-decoration-color: #0087ff\">Conv2D</span>)               │ (<span style=\"color: #00d7ff; text-decoration-color: #00d7ff\">None</span>, <span style=\"color: #00af00; text-decoration-color: #00af00\">109</span>, <span style=\"color: #00af00; text-decoration-color: #00af00\">109</span>, <span style=\"color: #00af00; text-decoration-color: #00af00\">64</span>)   │        <span style=\"color: #00af00; text-decoration-color: #00af00\">36,928</span> │\n",
              "├─────────────────────────────────┼────────────────────────┼───────────────┤\n",
              "│ max_pooling2d_3 (<span style=\"color: #0087ff; text-decoration-color: #0087ff\">MaxPooling2D</span>)  │ (<span style=\"color: #00d7ff; text-decoration-color: #00d7ff\">None</span>, <span style=\"color: #00af00; text-decoration-color: #00af00\">54</span>, <span style=\"color: #00af00; text-decoration-color: #00af00\">54</span>, <span style=\"color: #00af00; text-decoration-color: #00af00\">64</span>)     │             <span style=\"color: #00af00; text-decoration-color: #00af00\">0</span> │\n",
              "├─────────────────────────────────┼────────────────────────┼───────────────┤\n",
              "│ flatten_1 (<span style=\"color: #0087ff; text-decoration-color: #0087ff\">Flatten</span>)             │ (<span style=\"color: #00d7ff; text-decoration-color: #00d7ff\">None</span>, <span style=\"color: #00af00; text-decoration-color: #00af00\">186624</span>)         │             <span style=\"color: #00af00; text-decoration-color: #00af00\">0</span> │\n",
              "├─────────────────────────────────┼────────────────────────┼───────────────┤\n",
              "│ dense_1 (<span style=\"color: #0087ff; text-decoration-color: #0087ff\">Dense</span>)                 │ (<span style=\"color: #00d7ff; text-decoration-color: #00d7ff\">None</span>, <span style=\"color: #00af00; text-decoration-color: #00af00\">256</span>)            │    <span style=\"color: #00af00; text-decoration-color: #00af00\">47,776,000</span> │\n",
              "├─────────────────────────────────┼────────────────────────┼───────────────┤\n",
              "│ dense_2 (<span style=\"color: #0087ff; text-decoration-color: #0087ff\">Dense</span>)                 │ (<span style=\"color: #00d7ff; text-decoration-color: #00d7ff\">None</span>, <span style=\"color: #00af00; text-decoration-color: #00af00\">2</span>)              │           <span style=\"color: #00af00; text-decoration-color: #00af00\">514</span> │\n",
              "└─────────────────────────────────┴────────────────────────┴───────────────┘\n",
              "</pre>\n"
            ]
          },
          "metadata": {}
        },
        {
          "output_type": "display_data",
          "data": {
            "text/plain": [
              "\u001b[1m Total params: \u001b[0m\u001b[38;5;34m47,815,234\u001b[0m (182.40 MB)\n"
            ],
            "text/html": [
              "<pre style=\"white-space:pre;overflow-x:auto;line-height:normal;font-family:Menlo,'DejaVu Sans Mono',consolas,'Courier New',monospace\"><span style=\"font-weight: bold\"> Total params: </span><span style=\"color: #00af00; text-decoration-color: #00af00\">47,815,234</span> (182.40 MB)\n",
              "</pre>\n"
            ]
          },
          "metadata": {}
        },
        {
          "output_type": "display_data",
          "data": {
            "text/plain": [
              "\u001b[1m Trainable params: \u001b[0m\u001b[38;5;34m47,815,234\u001b[0m (182.40 MB)\n"
            ],
            "text/html": [
              "<pre style=\"white-space:pre;overflow-x:auto;line-height:normal;font-family:Menlo,'DejaVu Sans Mono',consolas,'Courier New',monospace\"><span style=\"font-weight: bold\"> Trainable params: </span><span style=\"color: #00af00; text-decoration-color: #00af00\">47,815,234</span> (182.40 MB)\n",
              "</pre>\n"
            ]
          },
          "metadata": {}
        },
        {
          "output_type": "display_data",
          "data": {
            "text/plain": [
              "\u001b[1m Non-trainable params: \u001b[0m\u001b[38;5;34m0\u001b[0m (0.00 B)\n"
            ],
            "text/html": [
              "<pre style=\"white-space:pre;overflow-x:auto;line-height:normal;font-family:Menlo,'DejaVu Sans Mono',consolas,'Courier New',monospace\"><span style=\"font-weight: bold\"> Non-trainable params: </span><span style=\"color: #00af00; text-decoration-color: #00af00\">0</span> (0.00 B)\n",
              "</pre>\n"
            ]
          },
          "metadata": {}
        }
      ]
    },
    {
      "cell_type": "code",
      "source": [
        "start_time = time.time()\n",
        "model_2.fit(x_train, y_train, batch_size=batch_size, epochs=num_epochs, validation_data=(x_test, y_test))\n",
        "end_time = time.time()\n",
        "elapsed_time = end_time - start_time\n",
        "print(f\"Training time: {elapsed_time:.2f} seconds\")"
      ],
      "metadata": {
        "colab": {
          "base_uri": "https://localhost:8080/"
        },
        "id": "kt9DyNSzn5hL",
        "outputId": "5d654008-099c-4a9b-f05a-aed437913b60"
      },
      "execution_count": 37,
      "outputs": [
        {
          "output_type": "stream",
          "name": "stdout",
          "text": [
            "Epoch 1/10\n",
            "\u001b[1m25/25\u001b[0m \u001b[32m━━━━━━━━━━━━━━━━━━━━\u001b[0m\u001b[37m\u001b[0m \u001b[1m11s\u001b[0m 191ms/step - accuracy: 0.6429 - loss: 6.5905 - val_accuracy: 0.8000 - val_loss: 0.4427\n",
            "Epoch 2/10\n",
            "\u001b[1m25/25\u001b[0m \u001b[32m━━━━━━━━━━━━━━━━━━━━\u001b[0m\u001b[37m\u001b[0m \u001b[1m2s\u001b[0m 82ms/step - accuracy: 0.8123 - loss: 0.4208 - val_accuracy: 0.8250 - val_loss: 0.3958\n",
            "Epoch 3/10\n",
            "\u001b[1m25/25\u001b[0m \u001b[32m━━━━━━━━━━━━━━━━━━━━\u001b[0m\u001b[37m\u001b[0m \u001b[1m2s\u001b[0m 79ms/step - accuracy: 0.9083 - loss: 0.2635 - val_accuracy: 0.8150 - val_loss: 0.3933\n",
            "Epoch 4/10\n",
            "\u001b[1m25/25\u001b[0m \u001b[32m━━━━━━━━━━━━━━━━━━━━\u001b[0m\u001b[37m\u001b[0m \u001b[1m2s\u001b[0m 79ms/step - accuracy: 0.9326 - loss: 0.2083 - val_accuracy: 0.8350 - val_loss: 0.4239\n",
            "Epoch 5/10\n",
            "\u001b[1m25/25\u001b[0m \u001b[32m━━━━━━━━━━━━━━━━━━━━\u001b[0m\u001b[37m\u001b[0m \u001b[1m3s\u001b[0m 80ms/step - accuracy: 0.9750 - loss: 0.0845 - val_accuracy: 0.8750 - val_loss: 0.4582\n",
            "Epoch 6/10\n",
            "\u001b[1m25/25\u001b[0m \u001b[32m━━━━━━━━━━━━━━━━━━━━\u001b[0m\u001b[37m\u001b[0m \u001b[1m3s\u001b[0m 81ms/step - accuracy: 0.9789 - loss: 0.0640 - val_accuracy: 0.8450 - val_loss: 0.5467\n",
            "Epoch 7/10\n",
            "\u001b[1m25/25\u001b[0m \u001b[32m━━━━━━━━━━━━━━━━━━━━\u001b[0m\u001b[37m\u001b[0m \u001b[1m2s\u001b[0m 79ms/step - accuracy: 0.9960 - loss: 0.0272 - val_accuracy: 0.8600 - val_loss: 0.6120\n",
            "Epoch 8/10\n",
            "\u001b[1m25/25\u001b[0m \u001b[32m━━━━━━━━━━━━━━━━━━━━\u001b[0m\u001b[37m\u001b[0m \u001b[1m3s\u001b[0m 78ms/step - accuracy: 1.0000 - loss: 0.0071 - val_accuracy: 0.8500 - val_loss: 0.7209\n",
            "Epoch 9/10\n",
            "\u001b[1m25/25\u001b[0m \u001b[32m━━━━━━━━━━━━━━━━━━━━\u001b[0m\u001b[37m\u001b[0m \u001b[1m3s\u001b[0m 79ms/step - accuracy: 1.0000 - loss: 0.0052 - val_accuracy: 0.8650 - val_loss: 0.7584\n",
            "Epoch 10/10\n",
            "\u001b[1m25/25\u001b[0m \u001b[32m━━━━━━━━━━━━━━━━━━━━\u001b[0m\u001b[37m\u001b[0m \u001b[1m2s\u001b[0m 81ms/step - accuracy: 1.0000 - loss: 0.0015 - val_accuracy: 0.8500 - val_loss: 0.7673\n",
            "Training time: 33.25 seconds\n"
          ]
        }
      ]
    },
    {
      "cell_type": "code",
      "source": [
        "score = model_2.evaluate(x_test, y_test, verbose=0)\n",
        "print(\"Test loss:\", score[0])\n",
        "print(\"Test accuracy:\", score[1])\n",
        ""
      ],
      "metadata": {
        "colab": {
          "base_uri": "https://localhost:8080/"
        },
        "id": "jdieM7bPn5eX",
        "outputId": "783093f6-2159-4b5d-c4e9-42d74865ffb0"
      },
      "execution_count": 38,
      "outputs": [
        {
          "output_type": "stream",
          "name": "stdout",
          "text": [
            "Test loss: 0.7673377394676208\n",
            "Test accuracy: 0.8500000238418579\n"
          ]
        }
      ]
    },
    {
      "cell_type": "code",
      "source": [
        "import numpy as np\n",
        "from sklearn.metrics import confusion_matrix\n",
        "\n",
        "# 1. Get predicted class labels\n",
        "y_prob = model_2.predict(x_test)              # shape (N, num_classes)\n",
        "y_pred = np.argmax(y_prob, axis=1)            # shape (N,)\n",
        "y_true = np.argmax(y_test, axis=1)            # shape (N,)\n",
        "\n",
        "# 2. Compute confusion matrix entries\n",
        "tn, fp, fn, tp = confusion_matrix(y_true, y_pred).ravel()\n",
        "\n",
        "# 3. Compute metrics\n",
        "accuracy_2    = (tp + tn) / (tp + fp + tn + fn)\n",
        "precision_2   = tp / (tp + fp) if (tp + fp) > 0 else 0\n",
        "sensitivity_2 = tp / (tp + fn) if (tp + fn) > 0 else 0   # a.k.a recall\n",
        "f1_score_2    = 2 * (precision_2 * sensitivity_2) / (precision_2 + sensitivity_2) \\\n",
        "              if (precision_2 + sensitivity_2) > 0 else 0\n",
        "\n",
        "# 4. Display\n",
        "print(f\"TP={tp}, FP={fp}, TN={tn}, FN={fn}\")\n",
        "print(f\"Accuracy_2  = (TP + TN) / (TP + FP + TN + FN) = {accuracy_2:.4f}\")\n",
        "print(f\"Precision_2 = TP / (TP + FP)                   = {precision_2:.4f}\")\n",
        "print(f\"Sensitivity_2 (Recall) = TP / (TP + FN)        = {sensitivity_2:.4f}\")\n",
        "print(f\"F1 Score_2  = 2*(Precision*Sensitivity)/(Precision+Sensitivity) = {f1_score_2:.4f}\")"
      ],
      "metadata": {
        "colab": {
          "base_uri": "https://localhost:8080/"
        },
        "id": "wMArdxE4oQcq",
        "outputId": "dfae875e-6919-4a7d-e613-f2c9c4d26b7f"
      },
      "execution_count": 39,
      "outputs": [
        {
          "output_type": "stream",
          "name": "stdout",
          "text": [
            "\u001b[1m7/7\u001b[0m \u001b[32m━━━━━━━━━━━━━━━━━━━━\u001b[0m\u001b[37m\u001b[0m \u001b[1m1s\u001b[0m 149ms/step\n",
            "TP=90, FP=16, TN=80, FN=14\n",
            "Accuracy_2  = (TP + TN) / (TP + FP + TN + FN) = 0.8500\n",
            "Precision_2 = TP / (TP + FP)                   = 0.8491\n",
            "Sensitivity_2 (Recall) = TP / (TP + FN)        = 0.8654\n",
            "F1 Score_2  = 2*(Precision*Sensitivity)/(Precision+Sensitivity) = 0.8571\n"
          ]
        }
      ]
    },
    {
      "cell_type": "code",
      "source": [
        "input_shape = (height, width, channels)\n",
        "model_3 = keras.Sequential([\n",
        "        layers.Conv2D(32, (3,3), activation='relu', padding='same', input_shape=input_shape),\n",
        "        layers.Conv2D(32, (3,3), activation='relu', padding='same'),\n",
        "        layers.MaxPooling2D((2,2)),\n",
        "        layers.Conv2D(64, (3,3), activation='relu', padding='same'),\n",
        "        layers.Conv2D(64, (3,3), activation='relu', padding='same'),\n",
        "        layers.MaxPooling2D((2,2)),\n",
        "        layers.Conv2D(128, (3,3), activation='relu', padding='same'),\n",
        "        layers.Conv2D(128, (3,3), activation='relu', padding='same'),\n",
        "        layers.MaxPooling2D((2,2)),\n",
        "        layers.Flatten(),\n",
        "        layers.Dense(128, activation='relu'),\n",
        "        layers.Dense(num_classes, activation='softmax')\n",
        "    ])"
      ],
      "metadata": {
        "colab": {
          "base_uri": "https://localhost:8080/"
        },
        "id": "nSBRu3iFoQZO",
        "outputId": "5d9585a2-c12f-4ced-da0b-39f0bed6713e"
      },
      "execution_count": 40,
      "outputs": [
        {
          "output_type": "stream",
          "name": "stderr",
          "text": [
            "/usr/local/lib/python3.12/dist-packages/keras/src/layers/convolutional/base_conv.py:113: UserWarning: Do not pass an `input_shape`/`input_dim` argument to a layer. When using Sequential models, prefer using an `Input(shape)` object as the first layer in the model instead.\n",
            "  super().__init__(activity_regularizer=activity_regularizer, **kwargs)\n"
          ]
        }
      ]
    },
    {
      "cell_type": "code",
      "source": [
        "model_3.compile(loss='categorical_crossentropy', optimizer='adam', metrics=['accuracy'])"
      ],
      "metadata": {
        "id": "hAtDGmxNoQWw"
      },
      "execution_count": 41,
      "outputs": []
    },
    {
      "cell_type": "code",
      "source": [
        "model_3.summary()"
      ],
      "metadata": {
        "colab": {
          "base_uri": "https://localhost:8080/",
          "height": 513
        },
        "id": "fU7_BH53odb6",
        "outputId": "0205b935-b7e6-44e6-ce55-b75052059421"
      },
      "execution_count": 42,
      "outputs": [
        {
          "output_type": "display_data",
          "data": {
            "text/plain": [
              "\u001b[1mModel: \"sequential_2\"\u001b[0m\n"
            ],
            "text/html": [
              "<pre style=\"white-space:pre;overflow-x:auto;line-height:normal;font-family:Menlo,'DejaVu Sans Mono',consolas,'Courier New',monospace\"><span style=\"font-weight: bold\">Model: \"sequential_2\"</span>\n",
              "</pre>\n"
            ]
          },
          "metadata": {}
        },
        {
          "output_type": "display_data",
          "data": {
            "text/plain": [
              "┏━━━━━━━━━━━━━━━━━━━━━━━━━━━━━━━━━┳━━━━━━━━━━━━━━━━━━━━━━━━┳━━━━━━━━━━━━━━━┓\n",
              "┃\u001b[1m \u001b[0m\u001b[1mLayer (type)                   \u001b[0m\u001b[1m \u001b[0m┃\u001b[1m \u001b[0m\u001b[1mOutput Shape          \u001b[0m\u001b[1m \u001b[0m┃\u001b[1m \u001b[0m\u001b[1m      Param #\u001b[0m\u001b[1m \u001b[0m┃\n",
              "┡━━━━━━━━━━━━━━━━━━━━━━━━━━━━━━━━━╇━━━━━━━━━━━━━━━━━━━━━━━━╇━━━━━━━━━━━━━━━┩\n",
              "│ conv2d_4 (\u001b[38;5;33mConv2D\u001b[0m)               │ (\u001b[38;5;45mNone\u001b[0m, \u001b[38;5;34m224\u001b[0m, \u001b[38;5;34m224\u001b[0m, \u001b[38;5;34m32\u001b[0m)   │           \u001b[38;5;34m896\u001b[0m │\n",
              "├─────────────────────────────────┼────────────────────────┼───────────────┤\n",
              "│ conv2d_5 (\u001b[38;5;33mConv2D\u001b[0m)               │ (\u001b[38;5;45mNone\u001b[0m, \u001b[38;5;34m224\u001b[0m, \u001b[38;5;34m224\u001b[0m, \u001b[38;5;34m32\u001b[0m)   │         \u001b[38;5;34m9,248\u001b[0m │\n",
              "├─────────────────────────────────┼────────────────────────┼───────────────┤\n",
              "│ max_pooling2d_4 (\u001b[38;5;33mMaxPooling2D\u001b[0m)  │ (\u001b[38;5;45mNone\u001b[0m, \u001b[38;5;34m112\u001b[0m, \u001b[38;5;34m112\u001b[0m, \u001b[38;5;34m32\u001b[0m)   │             \u001b[38;5;34m0\u001b[0m │\n",
              "├─────────────────────────────────┼────────────────────────┼───────────────┤\n",
              "│ conv2d_6 (\u001b[38;5;33mConv2D\u001b[0m)               │ (\u001b[38;5;45mNone\u001b[0m, \u001b[38;5;34m112\u001b[0m, \u001b[38;5;34m112\u001b[0m, \u001b[38;5;34m64\u001b[0m)   │        \u001b[38;5;34m18,496\u001b[0m │\n",
              "├─────────────────────────────────┼────────────────────────┼───────────────┤\n",
              "│ conv2d_7 (\u001b[38;5;33mConv2D\u001b[0m)               │ (\u001b[38;5;45mNone\u001b[0m, \u001b[38;5;34m112\u001b[0m, \u001b[38;5;34m112\u001b[0m, \u001b[38;5;34m64\u001b[0m)   │        \u001b[38;5;34m36,928\u001b[0m │\n",
              "├─────────────────────────────────┼────────────────────────┼───────────────┤\n",
              "│ max_pooling2d_5 (\u001b[38;5;33mMaxPooling2D\u001b[0m)  │ (\u001b[38;5;45mNone\u001b[0m, \u001b[38;5;34m56\u001b[0m, \u001b[38;5;34m56\u001b[0m, \u001b[38;5;34m64\u001b[0m)     │             \u001b[38;5;34m0\u001b[0m │\n",
              "├─────────────────────────────────┼────────────────────────┼───────────────┤\n",
              "│ conv2d_8 (\u001b[38;5;33mConv2D\u001b[0m)               │ (\u001b[38;5;45mNone\u001b[0m, \u001b[38;5;34m56\u001b[0m, \u001b[38;5;34m56\u001b[0m, \u001b[38;5;34m128\u001b[0m)    │        \u001b[38;5;34m73,856\u001b[0m │\n",
              "├─────────────────────────────────┼────────────────────────┼───────────────┤\n",
              "│ conv2d_9 (\u001b[38;5;33mConv2D\u001b[0m)               │ (\u001b[38;5;45mNone\u001b[0m, \u001b[38;5;34m56\u001b[0m, \u001b[38;5;34m56\u001b[0m, \u001b[38;5;34m128\u001b[0m)    │       \u001b[38;5;34m147,584\u001b[0m │\n",
              "├─────────────────────────────────┼────────────────────────┼───────────────┤\n",
              "│ max_pooling2d_6 (\u001b[38;5;33mMaxPooling2D\u001b[0m)  │ (\u001b[38;5;45mNone\u001b[0m, \u001b[38;5;34m28\u001b[0m, \u001b[38;5;34m28\u001b[0m, \u001b[38;5;34m128\u001b[0m)    │             \u001b[38;5;34m0\u001b[0m │\n",
              "├─────────────────────────────────┼────────────────────────┼───────────────┤\n",
              "│ flatten_2 (\u001b[38;5;33mFlatten\u001b[0m)             │ (\u001b[38;5;45mNone\u001b[0m, \u001b[38;5;34m100352\u001b[0m)         │             \u001b[38;5;34m0\u001b[0m │\n",
              "├─────────────────────────────────┼────────────────────────┼───────────────┤\n",
              "│ dense_3 (\u001b[38;5;33mDense\u001b[0m)                 │ (\u001b[38;5;45mNone\u001b[0m, \u001b[38;5;34m128\u001b[0m)            │    \u001b[38;5;34m12,845,184\u001b[0m │\n",
              "├─────────────────────────────────┼────────────────────────┼───────────────┤\n",
              "│ dense_4 (\u001b[38;5;33mDense\u001b[0m)                 │ (\u001b[38;5;45mNone\u001b[0m, \u001b[38;5;34m2\u001b[0m)              │           \u001b[38;5;34m258\u001b[0m │\n",
              "└─────────────────────────────────┴────────────────────────┴───────────────┘\n"
            ],
            "text/html": [
              "<pre style=\"white-space:pre;overflow-x:auto;line-height:normal;font-family:Menlo,'DejaVu Sans Mono',consolas,'Courier New',monospace\">┏━━━━━━━━━━━━━━━━━━━━━━━━━━━━━━━━━┳━━━━━━━━━━━━━━━━━━━━━━━━┳━━━━━━━━━━━━━━━┓\n",
              "┃<span style=\"font-weight: bold\"> Layer (type)                    </span>┃<span style=\"font-weight: bold\"> Output Shape           </span>┃<span style=\"font-weight: bold\">       Param # </span>┃\n",
              "┡━━━━━━━━━━━━━━━━━━━━━━━━━━━━━━━━━╇━━━━━━━━━━━━━━━━━━━━━━━━╇━━━━━━━━━━━━━━━┩\n",
              "│ conv2d_4 (<span style=\"color: #0087ff; text-decoration-color: #0087ff\">Conv2D</span>)               │ (<span style=\"color: #00d7ff; text-decoration-color: #00d7ff\">None</span>, <span style=\"color: #00af00; text-decoration-color: #00af00\">224</span>, <span style=\"color: #00af00; text-decoration-color: #00af00\">224</span>, <span style=\"color: #00af00; text-decoration-color: #00af00\">32</span>)   │           <span style=\"color: #00af00; text-decoration-color: #00af00\">896</span> │\n",
              "├─────────────────────────────────┼────────────────────────┼───────────────┤\n",
              "│ conv2d_5 (<span style=\"color: #0087ff; text-decoration-color: #0087ff\">Conv2D</span>)               │ (<span style=\"color: #00d7ff; text-decoration-color: #00d7ff\">None</span>, <span style=\"color: #00af00; text-decoration-color: #00af00\">224</span>, <span style=\"color: #00af00; text-decoration-color: #00af00\">224</span>, <span style=\"color: #00af00; text-decoration-color: #00af00\">32</span>)   │         <span style=\"color: #00af00; text-decoration-color: #00af00\">9,248</span> │\n",
              "├─────────────────────────────────┼────────────────────────┼───────────────┤\n",
              "│ max_pooling2d_4 (<span style=\"color: #0087ff; text-decoration-color: #0087ff\">MaxPooling2D</span>)  │ (<span style=\"color: #00d7ff; text-decoration-color: #00d7ff\">None</span>, <span style=\"color: #00af00; text-decoration-color: #00af00\">112</span>, <span style=\"color: #00af00; text-decoration-color: #00af00\">112</span>, <span style=\"color: #00af00; text-decoration-color: #00af00\">32</span>)   │             <span style=\"color: #00af00; text-decoration-color: #00af00\">0</span> │\n",
              "├─────────────────────────────────┼────────────────────────┼───────────────┤\n",
              "│ conv2d_6 (<span style=\"color: #0087ff; text-decoration-color: #0087ff\">Conv2D</span>)               │ (<span style=\"color: #00d7ff; text-decoration-color: #00d7ff\">None</span>, <span style=\"color: #00af00; text-decoration-color: #00af00\">112</span>, <span style=\"color: #00af00; text-decoration-color: #00af00\">112</span>, <span style=\"color: #00af00; text-decoration-color: #00af00\">64</span>)   │        <span style=\"color: #00af00; text-decoration-color: #00af00\">18,496</span> │\n",
              "├─────────────────────────────────┼────────────────────────┼───────────────┤\n",
              "│ conv2d_7 (<span style=\"color: #0087ff; text-decoration-color: #0087ff\">Conv2D</span>)               │ (<span style=\"color: #00d7ff; text-decoration-color: #00d7ff\">None</span>, <span style=\"color: #00af00; text-decoration-color: #00af00\">112</span>, <span style=\"color: #00af00; text-decoration-color: #00af00\">112</span>, <span style=\"color: #00af00; text-decoration-color: #00af00\">64</span>)   │        <span style=\"color: #00af00; text-decoration-color: #00af00\">36,928</span> │\n",
              "├─────────────────────────────────┼────────────────────────┼───────────────┤\n",
              "│ max_pooling2d_5 (<span style=\"color: #0087ff; text-decoration-color: #0087ff\">MaxPooling2D</span>)  │ (<span style=\"color: #00d7ff; text-decoration-color: #00d7ff\">None</span>, <span style=\"color: #00af00; text-decoration-color: #00af00\">56</span>, <span style=\"color: #00af00; text-decoration-color: #00af00\">56</span>, <span style=\"color: #00af00; text-decoration-color: #00af00\">64</span>)     │             <span style=\"color: #00af00; text-decoration-color: #00af00\">0</span> │\n",
              "├─────────────────────────────────┼────────────────────────┼───────────────┤\n",
              "│ conv2d_8 (<span style=\"color: #0087ff; text-decoration-color: #0087ff\">Conv2D</span>)               │ (<span style=\"color: #00d7ff; text-decoration-color: #00d7ff\">None</span>, <span style=\"color: #00af00; text-decoration-color: #00af00\">56</span>, <span style=\"color: #00af00; text-decoration-color: #00af00\">56</span>, <span style=\"color: #00af00; text-decoration-color: #00af00\">128</span>)    │        <span style=\"color: #00af00; text-decoration-color: #00af00\">73,856</span> │\n",
              "├─────────────────────────────────┼────────────────────────┼───────────────┤\n",
              "│ conv2d_9 (<span style=\"color: #0087ff; text-decoration-color: #0087ff\">Conv2D</span>)               │ (<span style=\"color: #00d7ff; text-decoration-color: #00d7ff\">None</span>, <span style=\"color: #00af00; text-decoration-color: #00af00\">56</span>, <span style=\"color: #00af00; text-decoration-color: #00af00\">56</span>, <span style=\"color: #00af00; text-decoration-color: #00af00\">128</span>)    │       <span style=\"color: #00af00; text-decoration-color: #00af00\">147,584</span> │\n",
              "├─────────────────────────────────┼────────────────────────┼───────────────┤\n",
              "│ max_pooling2d_6 (<span style=\"color: #0087ff; text-decoration-color: #0087ff\">MaxPooling2D</span>)  │ (<span style=\"color: #00d7ff; text-decoration-color: #00d7ff\">None</span>, <span style=\"color: #00af00; text-decoration-color: #00af00\">28</span>, <span style=\"color: #00af00; text-decoration-color: #00af00\">28</span>, <span style=\"color: #00af00; text-decoration-color: #00af00\">128</span>)    │             <span style=\"color: #00af00; text-decoration-color: #00af00\">0</span> │\n",
              "├─────────────────────────────────┼────────────────────────┼───────────────┤\n",
              "│ flatten_2 (<span style=\"color: #0087ff; text-decoration-color: #0087ff\">Flatten</span>)             │ (<span style=\"color: #00d7ff; text-decoration-color: #00d7ff\">None</span>, <span style=\"color: #00af00; text-decoration-color: #00af00\">100352</span>)         │             <span style=\"color: #00af00; text-decoration-color: #00af00\">0</span> │\n",
              "├─────────────────────────────────┼────────────────────────┼───────────────┤\n",
              "│ dense_3 (<span style=\"color: #0087ff; text-decoration-color: #0087ff\">Dense</span>)                 │ (<span style=\"color: #00d7ff; text-decoration-color: #00d7ff\">None</span>, <span style=\"color: #00af00; text-decoration-color: #00af00\">128</span>)            │    <span style=\"color: #00af00; text-decoration-color: #00af00\">12,845,184</span> │\n",
              "├─────────────────────────────────┼────────────────────────┼───────────────┤\n",
              "│ dense_4 (<span style=\"color: #0087ff; text-decoration-color: #0087ff\">Dense</span>)                 │ (<span style=\"color: #00d7ff; text-decoration-color: #00d7ff\">None</span>, <span style=\"color: #00af00; text-decoration-color: #00af00\">2</span>)              │           <span style=\"color: #00af00; text-decoration-color: #00af00\">258</span> │\n",
              "└─────────────────────────────────┴────────────────────────┴───────────────┘\n",
              "</pre>\n"
            ]
          },
          "metadata": {}
        },
        {
          "output_type": "display_data",
          "data": {
            "text/plain": [
              "\u001b[1m Total params: \u001b[0m\u001b[38;5;34m13,132,450\u001b[0m (50.10 MB)\n"
            ],
            "text/html": [
              "<pre style=\"white-space:pre;overflow-x:auto;line-height:normal;font-family:Menlo,'DejaVu Sans Mono',consolas,'Courier New',monospace\"><span style=\"font-weight: bold\"> Total params: </span><span style=\"color: #00af00; text-decoration-color: #00af00\">13,132,450</span> (50.10 MB)\n",
              "</pre>\n"
            ]
          },
          "metadata": {}
        },
        {
          "output_type": "display_data",
          "data": {
            "text/plain": [
              "\u001b[1m Trainable params: \u001b[0m\u001b[38;5;34m13,132,450\u001b[0m (50.10 MB)\n"
            ],
            "text/html": [
              "<pre style=\"white-space:pre;overflow-x:auto;line-height:normal;font-family:Menlo,'DejaVu Sans Mono',consolas,'Courier New',monospace\"><span style=\"font-weight: bold\"> Trainable params: </span><span style=\"color: #00af00; text-decoration-color: #00af00\">13,132,450</span> (50.10 MB)\n",
              "</pre>\n"
            ]
          },
          "metadata": {}
        },
        {
          "output_type": "display_data",
          "data": {
            "text/plain": [
              "\u001b[1m Non-trainable params: \u001b[0m\u001b[38;5;34m0\u001b[0m (0.00 B)\n"
            ],
            "text/html": [
              "<pre style=\"white-space:pre;overflow-x:auto;line-height:normal;font-family:Menlo,'DejaVu Sans Mono',consolas,'Courier New',monospace\"><span style=\"font-weight: bold\"> Non-trainable params: </span><span style=\"color: #00af00; text-decoration-color: #00af00\">0</span> (0.00 B)\n",
              "</pre>\n"
            ]
          },
          "metadata": {}
        }
      ]
    },
    {
      "cell_type": "code",
      "source": [
        "start_time = time.time()\n",
        "model_3.fit(x_train, y_train, batch_size=batch_size, epochs=num_epochs, validation_data=(x_test, y_test))\n",
        "end_time = time.time()\n",
        "elapsed_time = end_time - start_time\n",
        "print(f\"Training time: {elapsed_time:.2f} seconds\")"
      ],
      "metadata": {
        "colab": {
          "base_uri": "https://localhost:8080/"
        },
        "id": "SP5lERJ5odYi",
        "outputId": "122b6857-6c69-4a34-f03f-c88eee4de596"
      },
      "execution_count": 43,
      "outputs": [
        {
          "output_type": "stream",
          "name": "stdout",
          "text": [
            "Epoch 1/10\n",
            "\u001b[1m25/25\u001b[0m \u001b[32m━━━━━━━━━━━━━━━━━━━━\u001b[0m\u001b[37m\u001b[0m \u001b[1m24s\u001b[0m 331ms/step - accuracy: 0.5358 - loss: 1.0011 - val_accuracy: 0.8050 - val_loss: 0.5098\n",
            "Epoch 2/10\n",
            "\u001b[1m25/25\u001b[0m \u001b[32m━━━━━━━━━━━━━━━━━━━━\u001b[0m\u001b[37m\u001b[0m \u001b[1m22s\u001b[0m 135ms/step - accuracy: 0.7672 - loss: 0.5382 - val_accuracy: 0.8050 - val_loss: 0.4623\n",
            "Epoch 3/10\n",
            "\u001b[1m25/25\u001b[0m \u001b[32m━━━━━━━━━━━━━━━━━━━━\u001b[0m\u001b[37m\u001b[0m \u001b[1m3s\u001b[0m 137ms/step - accuracy: 0.7665 - loss: 0.4955 - val_accuracy: 0.8000 - val_loss: 0.4778\n",
            "Epoch 4/10\n",
            "\u001b[1m25/25\u001b[0m \u001b[32m━━━━━━━━━━━━━━━━━━━━\u001b[0m\u001b[37m\u001b[0m \u001b[1m4s\u001b[0m 141ms/step - accuracy: 0.8180 - loss: 0.4431 - val_accuracy: 0.8450 - val_loss: 0.4347\n",
            "Epoch 5/10\n",
            "\u001b[1m25/25\u001b[0m \u001b[32m━━━━━━━━━━━━━━━━━━━━\u001b[0m\u001b[37m\u001b[0m \u001b[1m3s\u001b[0m 139ms/step - accuracy: 0.8435 - loss: 0.3540 - val_accuracy: 0.8300 - val_loss: 0.4128\n",
            "Epoch 6/10\n",
            "\u001b[1m25/25\u001b[0m \u001b[32m━━━━━━━━━━━━━━━━━━━━\u001b[0m\u001b[37m\u001b[0m \u001b[1m5s\u001b[0m 134ms/step - accuracy: 0.8976 - loss: 0.2710 - val_accuracy: 0.8450 - val_loss: 0.3892\n",
            "Epoch 7/10\n",
            "\u001b[1m25/25\u001b[0m \u001b[32m━━━━━━━━━━━━━━━━━━━━\u001b[0m\u001b[37m\u001b[0m \u001b[1m3s\u001b[0m 136ms/step - accuracy: 0.9170 - loss: 0.2426 - val_accuracy: 0.8700 - val_loss: 0.3794\n",
            "Epoch 8/10\n",
            "\u001b[1m25/25\u001b[0m \u001b[32m━━━━━━━━━━━━━━━━━━━━\u001b[0m\u001b[37m\u001b[0m \u001b[1m5s\u001b[0m 133ms/step - accuracy: 0.9406 - loss: 0.2065 - val_accuracy: 0.8700 - val_loss: 0.3732\n",
            "Epoch 9/10\n",
            "\u001b[1m25/25\u001b[0m \u001b[32m━━━━━━━━━━━━━━━━━━━━\u001b[0m\u001b[37m\u001b[0m \u001b[1m3s\u001b[0m 132ms/step - accuracy: 0.9128 - loss: 0.2146 - val_accuracy: 0.8500 - val_loss: 0.6038\n",
            "Epoch 10/10\n",
            "\u001b[1m25/25\u001b[0m \u001b[32m━━━━━━━━━━━━━━━━━━━━\u001b[0m\u001b[37m\u001b[0m \u001b[1m3s\u001b[0m 134ms/step - accuracy: 0.9555 - loss: 0.1043 - val_accuracy: 0.8300 - val_loss: 0.6180\n",
            "Training time: 79.53 seconds\n"
          ]
        }
      ]
    },
    {
      "cell_type": "code",
      "source": [
        "score = model_3.evaluate(x_test, y_test, verbose=0)\n",
        "print(\"Test loss:\", score[0])\n",
        "print(\"Test accuracy:\", score[1])"
      ],
      "metadata": {
        "colab": {
          "base_uri": "https://localhost:8080/"
        },
        "id": "9z7WcLlcodV6",
        "outputId": "366b16ef-3dca-43c0-af66-e684b5377b7a"
      },
      "execution_count": 44,
      "outputs": [
        {
          "output_type": "stream",
          "name": "stdout",
          "text": [
            "Test loss: 0.6179829835891724\n",
            "Test accuracy: 0.8299999833106995\n"
          ]
        }
      ]
    },
    {
      "cell_type": "code",
      "source": [
        "# 1. Get predicted class labels\n",
        "y_prob = model_3.predict(x_test)              # shape (N, num_classes)\n",
        "y_pred = np.argmax(y_prob, axis=1)            # shape (N,)\n",
        "y_true = np.argmax(y_test, axis=1)            # shape (N,)\n",
        "\n",
        "# 2. Compute confusion matrix entries\n",
        "tn, fp, fn, tp = confusion_matrix(y_true, y_pred).ravel()\n",
        "\n",
        "# 3. Compute metrics\n",
        "accuracy_3    = (tp + tn) / (tp + fp + tn + fn)\n",
        "precision_3   = tp / (tp + fp) if (tp + fp) > 0 else 0\n",
        "sensitivity_3 = tp / (tp + fn) if (tp + fn) > 0 else 0   # a.k.a recall\n",
        "f1_score_3    = 2 * (precision_3 * sensitivity_3) / (precision_3 + sensitivity_3) \\\n",
        "              if (precision_3 + sensitivity_3) > 0 else 0\n",
        "\n",
        "# 4. Display\n",
        "print(f\"TP={tp}, FP={fp}, TN={tn}, FN={fn}\")\n",
        "print(f\"Accuracy_3  = (TP + TN) / (TP + FP + TN + FN) = {accuracy_3:.4f}\")\n",
        "print(f\"Precision_3 = TP / (TP + FP)                   = {precision_3:.4f}\")\n",
        "print(f\"Sensitivity_3 (Recall) = TP / (TP + FN)        = {sensitivity_3:.4f}\")\n",
        "print(f\"F1 Score_3  = 2*(Precision*Sensitivity)/(Precision+Sensitivity) = {f1_score_3:.4f}\")"
      ],
      "metadata": {
        "colab": {
          "base_uri": "https://localhost:8080/"
        },
        "id": "GQ9I5qzXodTi",
        "outputId": "5a0fe71a-1618-42c0-fc6d-466465ce8a96"
      },
      "execution_count": 45,
      "outputs": [
        {
          "output_type": "stream",
          "name": "stderr",
          "text": [
            "WARNING:tensorflow:5 out of the last 15 calls to <function TensorFlowTrainer.make_predict_function.<locals>.one_step_on_data_distributed at 0x7c96a07a9c60> triggered tf.function retracing. Tracing is expensive and the excessive number of tracings could be due to (1) creating @tf.function repeatedly in a loop, (2) passing tensors with different shapes, (3) passing Python objects instead of tensors. For (1), please define your @tf.function outside of the loop. For (2), @tf.function has reduce_retracing=True option that can avoid unnecessary retracing. For (3), please refer to https://www.tensorflow.org/guide/function#controlling_retracing and https://www.tensorflow.org/api_docs/python/tf/function for  more details.\n"
          ]
        },
        {
          "output_type": "stream",
          "name": "stdout",
          "text": [
            "\u001b[1m7/7\u001b[0m \u001b[32m━━━━━━━━━━━━━━━━━━━━\u001b[0m\u001b[37m\u001b[0m \u001b[1m1s\u001b[0m 98ms/step\n",
            "TP=90, FP=20, TN=76, FN=14\n",
            "Accuracy_3  = (TP + TN) / (TP + FP + TN + FN) = 0.8300\n",
            "Precision_3 = TP / (TP + FP)                   = 0.8182\n",
            "Sensitivity_3 (Recall) = TP / (TP + FN)        = 0.8654\n",
            "F1 Score_3  = 2*(Precision*Sensitivity)/(Precision+Sensitivity) = 0.8411\n"
          ]
        }
      ]
    },
    {
      "cell_type": "code",
      "source": [
        "\n",
        "metrics = {\n",
        "    'Proposed Model': {\n",
        "        'Accuracy':    accuracy_1,\n",
        "        'Precision':   precision_1,\n",
        "        'Sensitivity': sensitivity_1,\n",
        "        'F1 Score':    f1_score_1\n",
        "    },\n",
        "    'Erdas (2024)': {\n",
        "        'Accuracy':    accuracy_2,\n",
        "        'Precision':   precision_2,\n",
        "        'Sensitivity': sensitivity_2,\n",
        "        'F1 Score':    f1_score_2\n",
        "    },\n",
        "    'Lourenco (2023)': {\n",
        "        'Accuracy':    accuracy_3,\n",
        "        'Precision':   precision_3,\n",
        "        'Sensitivity': sensitivity_3,\n",
        "        'F1 Score':    f1_score_3\n",
        "    }\n",
        "}\n",
        "\n",
        "# 2. Turn it into a DataFrame\n",
        "df = pd.DataFrame.from_dict(metrics, orient='index')\n",
        "print(\"Model Performance Comparison Table:\\n\")\n",
        "print(df)   # your comparison table\n",
        "\n",
        "# 3. Plot a separate bar chart for each metric\n",
        "for metric in df.columns:\n",
        "    plt.figure()\n",
        "    df[metric].plot(kind='bar')\n",
        "    plt.title(f'{metric} Comparison')\n",
        "    plt.xlabel('Model')\n",
        "    plt.ylabel(metric)\n",
        "    plt.ylim(0, 1)      # metrics are in [0,1]\n",
        "    plt.xticks(rotation=0)\n",
        "    plt.tight_layout()\n",
        "    plt.show()"
      ],
      "metadata": {
        "colab": {
          "base_uri": "https://localhost:8080/",
          "height": 1000
        },
        "id": "8t90DY0-ovdj",
        "outputId": "1307cd2c-2af5-4911-a91f-5e13aa28b11e"
      },
      "execution_count": 46,
      "outputs": [
        {
          "output_type": "stream",
          "name": "stdout",
          "text": [
            "Model Performance Comparison Table:\n",
            "\n",
            "                 Accuracy  Precision  Sensitivity  F1 Score\n",
            "Proposed Model       0.84   0.810345     0.903846  0.854545\n",
            "Erdas (2024)         0.85   0.849057     0.865385  0.857143\n",
            "Lourenco (2023)      0.83   0.818182     0.865385  0.841121\n"
          ]
        },
        {
          "output_type": "display_data",
          "data": {
            "text/plain": [
              "<Figure size 640x480 with 1 Axes>"
            ],
            "image/png": "[encoded data removed]"
          },
          "metadata": {}
        },
        {
          "output_type": "display_data",
          "data": {
            "text/plain": [
              "<Figure size 640x480 with 1 Axes>"
            ],
            "image/png": "[encoded data removed]"
          },
          "metadata": {}
        },
        {
          "output_type": "display_data",
          "data": {
            "text/plain": [
              "<Figure size 640x480 with 1 Axes>"
            ],
            "image/png": "[encoded data removed]"
          },
          "metadata": {}
        },
        {
          "output_type": "display_data",
          "data": {
            "text/plain": [
              "<Figure size 640x480 with 1 Axes>"
            ],
            "image/png": "[encoded data removed]"
          },
          "metadata": {}
        }
      ]
    },
    {
      "cell_type": "code",
      "source": [
        "import matplotlib.pyplot as plt\n",
        "import numpy as np\n",
        "\n",
        "# Plot each metric\n",
        "for metric in df.columns:\n",
        "    plt.figure()\n",
        "\n",
        "    # X positions and metric values\n",
        "    x = np.arange(len(df.index))\n",
        "    y = df[metric].values\n",
        "\n",
        "    # Bar properties\n",
        "    bar_width = 0.6\n",
        "    bar_color = 'black'\n",
        "    highlight_color = 'red'  # color for the difference segment\n",
        "\n",
        "    # Draw base bars in black\n",
        "    bars = plt.bar(x, y, color=bar_color, width=bar_width)\n",
        "\n",
        "    # Highlight the difference between the highest and lowest bars\n",
        "    # (or you can pick any specific bar to compare to the last one)\n",
        "    ref_idx = -1  # index of reference (e.g., last bar)\n",
        "    for i in range(len(y)):\n",
        "        if i == ref_idx:\n",
        "            continue\n",
        "        diff = y[i] - y[ref_idx]\n",
        "        if diff > 0:\n",
        "            # Draw a red rectangle at the top\n",
        "            plt.bar(x[i], diff, bottom=y[ref_idx], color=highlight_color, width=bar_width)\n",
        "\n",
        "    # Labeling\n",
        "    plt.title(f'{metric} Comparison')\n",
        "    plt.xlabel('Model')\n",
        "    plt.ylabel(metric)\n",
        "    plt.ylim(0, 1)\n",
        "    plt.xticks(ticks=x, labels=df.index, rotation=0)\n",
        "    plt.tight_layout()\n",
        "    plt.show()\n",
        "\n",
        "\n"
      ],
      "metadata": {
        "colab": {
          "base_uri": "https://localhost:8080/",
          "height": 1000
        },
        "id": "akNwhzPfovaD",
        "outputId": "02d8509b-8175-4307-962e-11a132b244cb"
      },
      "execution_count": 47,
      "outputs": [
        {
          "output_type": "display_data",
          "data": {
            "text/plain": [
              "<Figure size 640x480 with 1 Axes>"
            ],
            "image/png": "[encoded data removed]"
          },
          "metadata": {}
        },
        {
          "output_type": "display_data",
          "data": {
            "text/plain": [
              "<Figure size 640x480 with 1 Axes>"
            ],
            "image/png": "[encoded data removed]"
          },
          "metadata": {}
        },
        {
          "output_type": "display_data",
          "data": {
            "text/plain": [
              "<Figure size 640x480 with 1 Axes>"
            ],
            "image/png": "[encoded data removed]"
          },
          "metadata": {}
        },
        {
          "output_type": "display_data",
          "data": {
            "text/plain": [
              "<Figure size 640x480 with 1 Axes>"
            ],
            "image/png": "[encoded data removed]"
          },
          "metadata": {}
        }
      ]
    },
    {
      "cell_type": "code",
      "source": [],
      "metadata": {
        "id": "69ZLKwqrovXj"
      },
      "execution_count": null,
      "outputs": []
    }
  ]
}